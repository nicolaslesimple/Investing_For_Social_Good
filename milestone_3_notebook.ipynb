{
 "cells": [
  {
   "cell_type": "markdown",
   "metadata": {
    "colab_type": "text",
    "id": "K68LBuS1-ko8"
   },
   "source": [
    "# Milestone 2 - ADA Project - Social Good \n",
    "\n",
    "### Description of Milestone 2"
   ]
  },
  {
   "cell_type": "markdown",
   "metadata": {
    "colab_type": "text",
    "id": "BW9HoNfj-ko9"
   },
   "source": [
    "The second milestone was to intimately acquaint ourselves with the data, preprocess it and complete all the necessary descriptive statistics tasks. \n",
    "This second milestone was dedicated to designing a clear pipeline. This pipeline is fully documented in this notebook but also in the [README](https://github.com/dcleres/investing_for_social_good/blob/master/README.md) of the project and the [project issues](https://github.com/dcleres/investing_for_social_good/projects/1). \n",
    "\n",
    "This submission notebook is split into two subcategories. Part A focused on explaining the choices we made to analyze the data and how we plan to use it. In Part B the focus will be set on showing the actual results that we obtained while working with the data. \n",
    "\n",
    "Regarding the task and project plan. We invite you to have a look at the README file which clearly states the next steps of the project in the **objectives of milestone 3 section**. The updated version of our README also contains some information about the task that we completed in the first two milestones and the choices that we made. "
   ]
  },
  {
   "cell_type": "markdown",
   "metadata": {
    "colab_type": "text",
    "id": "8j6g8mXb-ko-"
   },
   "source": [
    "## PART A "
   ]
  },
  {
   "cell_type": "markdown",
   "metadata": {
    "colab_type": "text",
    "id": "CNKEL8To-ko_"
   },
   "source": [
    "Milestone 2 came with a certain number of question that we had to find an answer to: \n",
    "\n",
    "**Q1: That you can handle the data in its size**\n",
    "\n",
    "The amount of data that we have to handle was indeed a \"problem\". Since we decided, on one hand, to work with the Twitter and the News dataset we need to be prepared to deal with a large amount of data. To deal with these two datasets we planned to use pandas in the first place in order to assess if the data coming from those two sources contains the information that we need. This is not necessarily the case since it is not just because people speak good (or bad) about your company (which could be detected by a pre-trained NLP) that your company is actually investing in social good. Until now, a big effort has been put by one of the team members in order to see how this information can be processed and we are still working on the right way to interpret these findings in order to extract something meaningful out of it. Therefore, the data shown in the second part are only based on the data coming from the SEC asset manager portfolios dataset. However, the same problem of scale came with this dataset. Until now, we decide to work only with one month of data which represents a good trade-off between a large enough chunk to have significant values and a small enough sample to keep the computation time in a reasonable range (a few seconds). Obviously, the next weeks will be focused on scaling up the amount of data that we want to integrate into the analysis and therefore homework 3, which taught us how to use Spark, might be useful. However, regarding the SEC dataset, we think that it is still reasonable to keep the Pandas framework for it. Regarding the news and the Twitter dataset, pandas will be used at the beginning but we will certainly have to switch to Spark once the basic pipeline is operational.\n",
    "\n",
    "**Q2: That you understand what’s into the data (formats, distributions, missing values, correlations, etc.)** \n",
    "\n",
    "Part B is edicated to answer this question. \n",
    "\n",
    "**Q3: That you considered ways to enrich, filter, transform the data according to your needs.** \n",
    "\n",
    "Indeed, we also thought about that, especially of the sentiment analysis part. As we mentioned above, it is difficult to link sentiments about a company with actual investments of the given company into social good. Therefore, we looked a bit around on alternative solutions or dataset that could help us to make this classification easier or to help our sentiment analysis. This research was to a large extent already done in the MS1 and we essentially only narrowed down the potential information source that might be of interest such as the project on the [chatbot for social good](https://brage.bibsys.no/xmlui/bitstream/handle/11250/2500523/CHI18_SIG_chatbots+for+social+good_authors+version.pdf?sequence=4), the [economics of social good](https://www.investopedia.com/terms/s/social_good.asp), the [social good funds](https://www.socialgoodfund.org/) and finally, the sustainable development goals (See figure below). We also thought about the idea of using the data from Reddit but an interesting channel for us was hard to find. For instance, the r/socialgood channel only counts 31 followers. Therefore, Reddit is not a priority for us. \n",
    "title.\n",
    "\n",
    "![title](references/picture.png)\n",
    "\n",
    "**Q4: That you have updated your plan in a reasonable way, reflecting your improved knowledge after data acquaintance. In particular, discuss how your data suits your project needs and discuss the methods you’re going to use, giving their essential mathematical details in the notebook. Potentially discussing alternatives to your choices that you considered but dropped.**\n",
    "\n",
    "The updates made on the project plan seem to be reasonable to us regarding the fact that the two previous milestones were marked by the fact that we had the homework to perform in parallel. This will not be the case anymore so the amount of time to put in the project has basically grown by at least 70% (we decided to split the time dedicated to ADA 70-30 between HW4 and the project). From what we obtained until now, we suppose that we are on a good track regarding the information that we have in the SEC dataset. This dataset contains all the information we need in order to define the \"who owns who and how much\" which is an essential information that we needed. Regarding the social good (or not) labelisation we found some interesting information about pre-trained sentiment analysis algorithms. This should help us a lot even if we have to be VERY careful with this data as mentioned in the previous question. However, the main focus of the project is on the investment part which is on a very good and clear track. If we are not able to extract anything meaningful from the news or Twitter then we will certainly look manually on the JUSTCapital information (see references folders) and manually define some criteria.\n",
    "\n",
    "**Q5: That your plan for analysis and communication is now reasonable and sound, potentially discussing alternatives to your choices that you considered but dropped.**\n",
    "\n",
    "For the communication of our data story, we plan to use the Github Pages solution provided on GitHub. Furthermore, two members of the group followed some online course about \"web development\" using reactJS since we knew that we would need this information to put the project online. Therefore, we know that it will certainly be more time consuming than writing a report but we hope that the gain will be in the increased quality of the project. During the next weeks, we will also have a look at all the fancy plotting and visualization methods out there in order to have an intuitive visualization of what we could extract from the data. Thanks to the TAs we know that for fancy visualization, we can use D3.js, for the simple one you can use some wrappers of D3.js (C3.js). Furthermore, plotly seems to be a solution of choice for nice and clean visualizations."
   ]
  },
  {
   "cell_type": "markdown",
   "metadata": {
    "colab_type": "text",
    "id": "N-fm0Wj7-kpA"
   },
   "source": [
    "## PART B \n",
    "In the second part of the notebook, we wanted to show you the information we were already able to extract from the datasets. As mentioned, in part A, one member of the group also worked on the Twitter and News dataset. More specifically, he looked at pretrained NLP solutions for sentiment analysis. He found some interesting information about it but there was, until now, no time to implement a toy model for it since HW4 was quite a time consuming and ADA is not the only course that we are taking. Here is the link of a plugin to make sentiment analysis on tweet we will use : https://github.com/dataiku/dataiku-contrib/tree/master/sentiment-analysis . Moreover, another tool is this visualization tool that tracks tweet volume and sentiment on Twitter, given a series of queries found in the following link https://github.com/anfederico/Stocktalk . This two tools are using standard approach of NLP, but we also can use a slightly different approach using a lexicon and rule-based sentiment analysis tool that is specifically attuned to sentiments expressed in social media : https://github.com/cjhutto/vaderSentiment."
   ]
  },
  {
   "cell_type": "markdown",
   "metadata": {
    "colab_type": "text",
    "id": "jNhJDpb1-kpB"
   },
   "source": [
    "### Scoring based on Capital \n",
    "Our group found some libraries to generate a .csv-like file listing, by company and date, the URLs in the SEC's archives where the investment portfolio filings are stored as consistently structured text and HTML table data. We will be able to programmatically extract the type and scope of different types of asset manager investment holdings (what companies they invested in, the size and value of each investment). This data can be enriched by processing additional news and social data related to portfolio companies into signals of their social impact and mapping these social impact signals to investment portfolios. Based on this data from investment portfolio filings, we hope to be able to identify and analyze investments made in companies that pursue goals related to social good from all different kinds of industries.\n",
    "\n",
    "The data we decide to show you as a summary of our milestone 2 is not extensive and show only the data that we could visualize. However, a large effort was put into the structuration of the information so that during MS3 we do not lose some time with these \"administrative tasks\"\n",
    "\n",
    "#### Information about biases in the dataset : \n",
    "- The data is collected **quarterly** and contains information about all the major players of the US stock market. It would have been interesting to have the same kind of information about Switzerland and the rest of the world also. However, the SEC dataset was the most complete and consistent information we were able to find. \n",
    "- It contains only the institutional investment managers with **holdings over 100M**\n",
    "- Form 13F is required to be **filed within 45 days of the end of a calendar quarter** (which should be considered as significant information latency)\n",
    "only reports long positions (not short) different investment managers pursue different strategies with may bias results. However, the vast majority of investment managers rely significantly on long positions for significant portion of fund performance\n",
    "- 13F does **not reveal international holdings** (except for American depositary receipts).\n",
    "- Section 13(f) securities generally include equity securities that trade on an exchange (including Nasdaq), certain equity options and warrants, shares of closed-end investment companies, and certain convertible debt securities.\n",
    "- Shares of open-end investment companies (i.e. mutual funds) are not Section 13(f) securities\n",
    "- The official list of qualifying securities: https://www.sec.gov/divisions/investment/13flists.htm\n",
    "- Excludes total portfolio value and percentage allocation of each stock listed\n",
    "- Money managers allocate the **most capital to their best ideas**. Pay attention to \"new positions\" in their disclosures as these are their most recent ideas\n",
    "- 13F is not their whole portfolio and that it's a past snapshot"
   ]
  },
  {
   "cell_type": "markdown",
   "metadata": {},
   "source": [
    "# Data Exploration and Data cleaning\n",
    "---"
   ]
  },
  {
   "cell_type": "markdown",
   "metadata": {
    "colab_type": "text",
    "id": "gNGkHNtd-kpC"
   },
   "source": [
    "### Initial Imports "
   ]
  },
  {
   "cell_type": "code",
   "execution_count": 0,
   "metadata": {
    "colab": {},
    "colab_type": "code",
    "id": "DMW4m9TE-kpD"
   },
   "outputs": [],
   "source": [
    "import matplotlib.pyplot as plt\n",
    "import pandas as pd\n",
    "\n",
    "pd.set_option('display.max_columns', 500)\n",
    "\n",
    "data_folder = 'data/just_capital/'"
   ]
  },
  {
   "cell_type": "markdown",
   "metadata": {
    "colab_type": "text",
    "id": "MAxDgWUr-kpG"
   },
   "source": [
    "### Preprocessing function"
   ]
  },
  {
   "cell_type": "code",
   "execution_count": 0,
   "metadata": {
    "colab": {},
    "colab_type": "code",
    "id": "R-VRpKIT-kpH"
   },
   "outputs": [],
   "source": [
    "def remove_outlier(df, colname):\n",
    "    IQR = df.describe()[colname]['75%'] - df.describe()[colname]['25%']\n",
    "    low_outlier = max(0, df.describe()[colname]['25%'] - 3*IQR)\n",
    "    high_outlier = df.describe()[colname]['75%'] + 3*IQR \n",
    "\n",
    "    print( f'The data point is considered as being an outlier if it is outside of this interval: [ {low_outlier} , {high_outlier}]')\n",
    "\n",
    "    df_no_outliers = df[df[colname] < high_outlier]\n",
    "    df_out_outliers = df[df[colname] > high_outlier]\n",
    "    return df_no_outliers"
   ]
  },
  {
   "cell_type": "markdown",
   "metadata": {
    "colab_type": "text",
    "id": "X-iDz3te-kpJ"
   },
   "source": [
    "### Research Question: How do investment managers rank based on social impact?\n",
    "NOTE: This question is explored using a 5% sample of 13F investment manager portfolio data and Just Capital Investment Index social impact scores for the top ~800 largest public companies"
   ]
  },
  {
   "cell_type": "code",
   "execution_count": 0,
   "metadata": {
    "colab": {},
    "colab_type": "code",
    "id": "jOFXZRnY-kpK",
    "scrolled": true
   },
   "outputs": [],
   "source": [
    "import pickle\n",
    "## load investment data\n",
    "sec13f_sample_df = pd.read_csv(data_folder + \"test_results.csv\")\n",
    "sec13f_sample_df.head()\n",
    "pickle.dump(sec13f_sample_df.investor.unique(), open('investor.p','wb'))\n",
    "pickle.dump(sec13f_sample_df.stock.unique(), open('compagny.p','wb'))"
   ]
  },
  {
   "cell_type": "markdown",
   "metadata": {
    "colab_type": "text",
    "id": "dxldrQJp-kpN"
   },
   "source": [
    "### Analyse the data"
   ]
  },
  {
   "cell_type": "code",
   "execution_count": 0,
   "metadata": {
    "colab": {},
    "colab_type": "code",
    "id": "bma_kE82-kpO",
    "outputId": "94413138-dbaa-40d2-e36f-ff010276449b"
   },
   "outputs": [
    {
     "data": {
      "text/html": [
       "<div>\n",
       "<style scoped>\n",
       "    .dataframe tbody tr th:only-of-type {\n",
       "        vertical-align: middle;\n",
       "    }\n",
       "\n",
       "    .dataframe tbody tr th {\n",
       "        vertical-align: top;\n",
       "    }\n",
       "\n",
       "    .dataframe thead th {\n",
       "        text-align: right;\n",
       "    }\n",
       "</style>\n",
       "<table border=\"1\" class=\"dataframe\">\n",
       "  <thead>\n",
       "    <tr style=\"text-align: right;\">\n",
       "      <th></th>\n",
       "      <th>usd</th>\n",
       "      <th>pcent</th>\n",
       "    </tr>\n",
       "    <tr>\n",
       "      <th>investor</th>\n",
       "      <th></th>\n",
       "      <th></th>\n",
       "    </tr>\n",
       "  </thead>\n",
       "  <tbody>\n",
       "    <tr>\n",
       "      <th>ABNER HERRMAN &amp; BROCK LLC</th>\n",
       "      <td>354643.0</td>\n",
       "      <td>55.31</td>\n",
       "    </tr>\n",
       "    <tr>\n",
       "      <th>ACADEMY CAPITAL MANAGEMENT INC/TX</th>\n",
       "      <td>348239.0</td>\n",
       "      <td>86.41</td>\n",
       "    </tr>\n",
       "    <tr>\n",
       "      <th>ADIRONDACK TRUST CO</th>\n",
       "      <td>75616.0</td>\n",
       "      <td>53.32</td>\n",
       "    </tr>\n",
       "    <tr>\n",
       "      <th>ADVENT INTERNATIONAL CORP/MA</th>\n",
       "      <td>5311123.0</td>\n",
       "      <td>100.00</td>\n",
       "    </tr>\n",
       "    <tr>\n",
       "      <th>AEW CAPITAL MANAGEMENT L P</th>\n",
       "      <td>2846890.0</td>\n",
       "      <td>75.85</td>\n",
       "    </tr>\n",
       "  </tbody>\n",
       "</table>\n",
       "</div>"
      ],
      "text/plain": [
       "                                         usd   pcent\n",
       "investor                                            \n",
       "ABNER HERRMAN & BROCK LLC           354643.0   55.31\n",
       "ACADEMY CAPITAL MANAGEMENT INC/TX   348239.0   86.41\n",
       "ADIRONDACK TRUST CO                  75616.0   53.32\n",
       "ADVENT INTERNATIONAL CORP/MA       5311123.0  100.00\n",
       "AEW CAPITAL MANAGEMENT L P         2846890.0   75.85"
      ]
     },
     "execution_count": 4,
     "metadata": {
      "tags": []
     },
     "output_type": "execute_result"
    }
   ],
   "source": [
    "gouped_data  = sec13f_sample_df.groupby(['investor']).sum()[['usd','pcent' ]]\n",
    "gouped_data.head()"
   ]
  },
  {
   "cell_type": "code",
   "execution_count": 0,
   "metadata": {
    "colab": {},
    "colab_type": "code",
    "id": "BmvijugT-kpT",
    "outputId": "e524dcc0-3d7f-4a67-aee2-90693e42abed"
   },
   "outputs": [
    {
     "data": {
      "image/png": "[encoded data removed]",
      "text/plain": [
       "<Figure size 432x288 with 1 Axes>"
      ]
     },
     "metadata": {
      "tags": []
     },
     "output_type": "display_data"
    },
    {
     "data": {
      "image/png": "[encoded data removed]",
      "text/plain": [
       "<Figure size 432x288 with 1 Axes>"
      ]
     },
     "metadata": {
      "tags": []
     },
     "output_type": "display_data"
    },
    {
     "data": {
      "image/png": "[encoded data removed]",
      "text/plain": [
       "<Figure size 432x288 with 1 Axes>"
      ]
     },
     "metadata": {
      "tags": []
     },
     "output_type": "display_data"
    },
    {
     "data": {
      "image/png": "[encoded data removed]",
      "text/plain": [
       "<Figure size 432x288 with 1 Axes>"
      ]
     },
     "metadata": {
      "tags": []
     },
     "output_type": "display_data"
    }
   ],
   "source": [
    "gouped_data['usd'].plot.box()\n",
    "plt.title('Boxplot of the USD invested Per Investor')\n",
    "plt.show()\n",
    "gouped_data['usd'].plot.hist()\n",
    "plt.title('Histogram of the USD invested Per Investor')\n",
    "plt.show()\n",
    "gouped_data['usd'].plot.pie(labels= None)\n",
    "plt.title('PIE of the USD invested Per Investor without some outliers')\n",
    "plt.show()\n",
    "gouped_data['usd'].plot.kde()\n",
    "plt.title('KDE Density PLOT of the USD invested Per Investor without some outliers')\n",
    "plt.show()"
   ]
  },
  {
   "cell_type": "markdown",
   "metadata": {
    "colab_type": "text",
    "id": "x0c9U_Pb-kpY"
   },
   "source": [
    "***Comment:***\n",
    "Here thanks to the 3 distributions, we can see three huge outliers. The density is indeed what we expect from the histogram.\n",
    "We will now investigate the same distribution by removing the huge outliers."
   ]
  },
  {
   "cell_type": "code",
   "execution_count": 0,
   "metadata": {
    "colab": {},
    "colab_type": "code",
    "id": "uUUhE1cy-kpZ",
    "outputId": "7f5bc33c-6758-43b5-db64-0a7d0668d311"
   },
   "outputs": [
    {
     "name": "stdout",
     "output_type": "stream",
     "text": [
      "The data point is considered as being an outlier if it is outside of this interval: [ 0 , 7623555.5]\n"
     ]
    },
    {
     "data": {
      "image/png": "[encoded data removed]",
      "text/plain": [
       "<Figure size 432x288 with 1 Axes>"
      ]
     },
     "metadata": {
      "tags": []
     },
     "output_type": "display_data"
    },
    {
     "data": {
      "image/png": "[encoded data removed]",
      "text/plain": [
       "<Figure size 432x288 with 1 Axes>"
      ]
     },
     "metadata": {
      "tags": []
     },
     "output_type": "display_data"
    },
    {
     "data": {
      "image/png": "[encoded data removed]",
      "text/plain": [
       "<Figure size 432x288 with 1 Axes>"
      ]
     },
     "metadata": {
      "tags": []
     },
     "output_type": "display_data"
    }
   ],
   "source": [
    "grouped_data_no_outliers = remove_outlier(gouped_data, 'usd')\n",
    "grouped_data_no_outliers['usd'].plot.box()\n",
    "plt.title('Boxplot of the USD invested Per Investor without some outliers')\n",
    "plt.show()\n",
    "grouped_data_no_outliers['usd'].plot.hist()\n",
    "plt.title('Histogram of the USD invested Per Investor without some outliers')\n",
    "plt.show()\n",
    "grouped_data_no_outliers['usd'].plot.kde()\n",
    "plt.title('KDE Desnity plot of the USD invested Per Investor without some outliers')\n",
    "plt.show()"
   ]
  },
  {
   "cell_type": "markdown",
   "metadata": {
    "colab_type": "text",
    "id": "eYyp_ls3-kpd"
   },
   "source": [
    "***Comments*** : \n",
    "Now we can see a more sparse distribution with q1, q3 and median under one million of investment. Indeed, we also see, thanks to the histogram and density plot that the majority of investment are less 1000000000."
   ]
  },
  {
   "cell_type": "code",
   "execution_count": 0,
   "metadata": {
    "colab": {},
    "colab_type": "code",
    "id": "HB_z_hXd-kpd",
    "outputId": "820ca3f9-9c90-402d-e846-3ee1d3e5c0e1"
   },
   "outputs": [
    {
     "data": {
      "image/png": "[encoded data removed]",
      "text/plain": [
       "<Figure size 432x288 with 1 Axes>"
      ]
     },
     "metadata": {
      "tags": []
     },
     "output_type": "display_data"
    },
    {
     "data": {
      "image/png": "[encoded data removed]",
      "text/plain": [
       "<Figure size 432x288 with 1 Axes>"
      ]
     },
     "metadata": {
      "tags": []
     },
     "output_type": "display_data"
    },
    {
     "data": {
      "image/png": "[encoded data removed]",
      "text/plain": [
       "<Figure size 432x288 with 1 Axes>"
      ]
     },
     "metadata": {
      "tags": []
     },
     "output_type": "display_data"
    }
   ],
   "source": [
    "jc_companies_df = pd.read_csv(data_folder + \"jc_companies.csv\")\n",
    "jc_companies_df['scores.overall'].plot.box()\n",
    "plt.title('Boxplot of the overall score per compagny')\n",
    "plt.show()\n",
    "jc_companies_df['scores.overall'].plot.hist()\n",
    "plt.title('Histogram of the overall score per compagny')\n",
    "plt.show()\n",
    "jc_companies_df['scores.overall'].plot.kde()\n",
    "plt.title('KDE Density plot of the overall score per compagny')\n",
    "plt.show()"
   ]
  },
  {
   "cell_type": "markdown",
   "metadata": {
    "colab_type": "text",
    "id": "JUFEc7wr-kph"
   },
   "source": [
    "***Comment :***\n",
    "Here we can see that the median score is around 50 and that the majority of the score are distributed between 48 and 55. The best one is 70 and the worst one is 45. Thus, there is some investors that are really better about social good in term of this metrics."
   ]
  },
  {
   "cell_type": "code",
   "execution_count": 0,
   "metadata": {
    "colab": {},
    "colab_type": "code",
    "id": "9yZ3w56B-kpi",
    "outputId": "110b7e82-42f5-4894-fed0-a90159834e19"
   },
   "outputs": [
    {
     "data": {
      "image/png": "[encoded data removed]",
      "text/plain": [
       "<Figure size 432x288 with 1 Axes>"
      ]
     },
     "metadata": {
      "tags": []
     },
     "output_type": "display_data"
    },
    {
     "data": {
      "image/png": "[encoded data removed]",
      "text/plain": [
       "<Figure size 432x288 with 1 Axes>"
      ]
     },
     "metadata": {
      "tags": []
     },
     "output_type": "display_data"
    },
    {
     "data": {
      "image/png": "[encoded data removed]",
      "text/plain": [
       "<Figure size 432x288 with 1 Axes>"
      ]
     },
     "metadata": {
      "tags": []
     },
     "output_type": "display_data"
    },
    {
     "name": "stdout",
     "output_type": "stream",
     "text": [
      "Correlation matrix of the differents scores per compagny:\n"
     ]
    },
    {
     "data": {
      "text/html": [
       "<style  type=\"text/css\" >\n",
       "    #T_d7f895b0_f103_11e8_a974_8c85905f279erow0_col0 {\n",
       "            background-color:  #023858;\n",
       "        }    #T_d7f895b0_f103_11e8_a974_8c85905f279erow0_col1 {\n",
       "            background-color:  #cacee5;\n",
       "        }    #T_d7f895b0_f103_11e8_a974_8c85905f279erow0_col2 {\n",
       "            background-color:  #a8bedc;\n",
       "        }    #T_d7f895b0_f103_11e8_a974_8c85905f279erow0_col3 {\n",
       "            background-color:  #d3d4e7;\n",
       "        }    #T_d7f895b0_f103_11e8_a974_8c85905f279erow0_col4 {\n",
       "            background-color:  #a2bcda;\n",
       "        }    #T_d7f895b0_f103_11e8_a974_8c85905f279erow0_col5 {\n",
       "            background-color:  #86b0d3;\n",
       "        }    #T_d7f895b0_f103_11e8_a974_8c85905f279erow0_col6 {\n",
       "            background-color:  #4e9ac6;\n",
       "        }    #T_d7f895b0_f103_11e8_a974_8c85905f279erow1_col0 {\n",
       "            background-color:  #dcdaeb;\n",
       "        }    #T_d7f895b0_f103_11e8_a974_8c85905f279erow1_col1 {\n",
       "            background-color:  #023858;\n",
       "        }    #T_d7f895b0_f103_11e8_a974_8c85905f279erow1_col2 {\n",
       "            background-color:  #d2d2e7;\n",
       "        }    #T_d7f895b0_f103_11e8_a974_8c85905f279erow1_col3 {\n",
       "            background-color:  #e4e1ef;\n",
       "        }    #T_d7f895b0_f103_11e8_a974_8c85905f279erow1_col4 {\n",
       "            background-color:  #c9cee4;\n",
       "        }    #T_d7f895b0_f103_11e8_a974_8c85905f279erow1_col5 {\n",
       "            background-color:  #a9bfdc;\n",
       "        }    #T_d7f895b0_f103_11e8_a974_8c85905f279erow1_col6 {\n",
       "            background-color:  #b5c4df;\n",
       "        }    #T_d7f895b0_f103_11e8_a974_8c85905f279erow2_col0 {\n",
       "            background-color:  #c1cae2;\n",
       "        }    #T_d7f895b0_f103_11e8_a974_8c85905f279erow2_col1 {\n",
       "            background-color:  #d5d5e8;\n",
       "        }    #T_d7f895b0_f103_11e8_a974_8c85905f279erow2_col2 {\n",
       "            background-color:  #023858;\n",
       "        }    #T_d7f895b0_f103_11e8_a974_8c85905f279erow2_col3 {\n",
       "            background-color:  #99b8d8;\n",
       "        }    #T_d7f895b0_f103_11e8_a974_8c85905f279erow2_col4 {\n",
       "            background-color:  #e5e1ef;\n",
       "        }    #T_d7f895b0_f103_11e8_a974_8c85905f279erow2_col5 {\n",
       "            background-color:  #bcc7e1;\n",
       "        }    #T_d7f895b0_f103_11e8_a974_8c85905f279erow2_col6 {\n",
       "            background-color:  #bbc7e0;\n",
       "        }    #T_d7f895b0_f103_11e8_a974_8c85905f279erow3_col0 {\n",
       "            background-color:  #fff7fb;\n",
       "        }    #T_d7f895b0_f103_11e8_a974_8c85905f279erow3_col1 {\n",
       "            background-color:  #fff7fb;\n",
       "        }    #T_d7f895b0_f103_11e8_a974_8c85905f279erow3_col2 {\n",
       "            background-color:  #bdc8e1;\n",
       "        }    #T_d7f895b0_f103_11e8_a974_8c85905f279erow3_col3 {\n",
       "            background-color:  #023858;\n",
       "        }    #T_d7f895b0_f103_11e8_a974_8c85905f279erow3_col4 {\n",
       "            background-color:  #99b8d8;\n",
       "        }    #T_d7f895b0_f103_11e8_a974_8c85905f279erow3_col5 {\n",
       "            background-color:  #fff7fb;\n",
       "        }    #T_d7f895b0_f103_11e8_a974_8c85905f279erow3_col6 {\n",
       "            background-color:  #fef6fa;\n",
       "        }    #T_d7f895b0_f103_11e8_a974_8c85905f279erow4_col0 {\n",
       "            background-color:  #dfddec;\n",
       "        }    #T_d7f895b0_f103_11e8_a974_8c85905f279erow4_col1 {\n",
       "            background-color:  #ede7f2;\n",
       "        }    #T_d7f895b0_f103_11e8_a974_8c85905f279erow4_col2 {\n",
       "            background-color:  #fff7fb;\n",
       "        }    #T_d7f895b0_f103_11e8_a974_8c85905f279erow4_col3 {\n",
       "            background-color:  #9ab8d8;\n",
       "        }    #T_d7f895b0_f103_11e8_a974_8c85905f279erow4_col4 {\n",
       "            background-color:  #023858;\n",
       "        }    #T_d7f895b0_f103_11e8_a974_8c85905f279erow4_col5 {\n",
       "            background-color:  #dddbec;\n",
       "        }    #T_d7f895b0_f103_11e8_a974_8c85905f279erow4_col6 {\n",
       "            background-color:  #fff7fb;\n",
       "        }    #T_d7f895b0_f103_11e8_a974_8c85905f279erow5_col0 {\n",
       "            background-color:  #bfc9e1;\n",
       "        }    #T_d7f895b0_f103_11e8_a974_8c85905f279erow5_col1 {\n",
       "            background-color:  #cdd0e5;\n",
       "        }    #T_d7f895b0_f103_11e8_a974_8c85905f279erow5_col2 {\n",
       "            background-color:  #d9d8ea;\n",
       "        }    #T_d7f895b0_f103_11e8_a974_8c85905f279erow5_col3 {\n",
       "            background-color:  #fbf4f9;\n",
       "        }    #T_d7f895b0_f103_11e8_a974_8c85905f279erow5_col4 {\n",
       "            background-color:  #d7d6e9;\n",
       "        }    #T_d7f895b0_f103_11e8_a974_8c85905f279erow5_col5 {\n",
       "            background-color:  #023858;\n",
       "        }    #T_d7f895b0_f103_11e8_a974_8c85905f279erow5_col6 {\n",
       "            background-color:  #2d8abd;\n",
       "        }    #T_d7f895b0_f103_11e8_a974_8c85905f279erow6_col0 {\n",
       "            background-color:  #8eb3d5;\n",
       "        }    #T_d7f895b0_f103_11e8_a974_8c85905f279erow6_col1 {\n",
       "            background-color:  #dedcec;\n",
       "        }    #T_d7f895b0_f103_11e8_a974_8c85905f279erow6_col2 {\n",
       "            background-color:  #dfddec;\n",
       "        }    #T_d7f895b0_f103_11e8_a974_8c85905f279erow6_col3 {\n",
       "            background-color:  #fff7fb;\n",
       "        }    #T_d7f895b0_f103_11e8_a974_8c85905f279erow6_col4 {\n",
       "            background-color:  #fff7fb;\n",
       "        }    #T_d7f895b0_f103_11e8_a974_8c85905f279erow6_col5 {\n",
       "            background-color:  #348ebf;\n",
       "        }    #T_d7f895b0_f103_11e8_a974_8c85905f279erow6_col6 {\n",
       "            background-color:  #023858;\n",
       "        }</style>  \n",
       "<table id=\"T_d7f895b0_f103_11e8_a974_8c85905f279e\" > \n",
       "<thead>    <tr> \n",
       "        <th class=\"blank level0\" ></th> \n",
       "        <th class=\"col_heading level0 col0\" >scores.comm.overall</th> \n",
       "        <th class=\"col_heading level0 col1\" >scores.cust.overall</th> \n",
       "        <th class=\"col_heading level0 col2\" >scores.env.overall</th> \n",
       "        <th class=\"col_heading level0 col3\" >scores.jobs.overall</th> \n",
       "        <th class=\"col_heading level0 col4\" >scores.mgmt.overall</th> \n",
       "        <th class=\"col_heading level0 col5\" >scores.prod.overall</th> \n",
       "        <th class=\"col_heading level0 col6\" >scores.worker.overall</th> \n",
       "    </tr></thead> \n",
       "<tbody>    <tr> \n",
       "        <th id=\"T_d7f895b0_f103_11e8_a974_8c85905f279elevel0_row0\" class=\"row_heading level0 row0\" >scores.comm.overall</th> \n",
       "        <td id=\"T_d7f895b0_f103_11e8_a974_8c85905f279erow0_col0\" class=\"data row0 col0\" >1</td> \n",
       "        <td id=\"T_d7f895b0_f103_11e8_a974_8c85905f279erow0_col1\" class=\"data row0 col1\" >0.22</td> \n",
       "        <td id=\"T_d7f895b0_f103_11e8_a974_8c85905f279erow0_col2\" class=\"data row0 col2\" >0.32</td> \n",
       "        <td id=\"T_d7f895b0_f103_11e8_a974_8c85905f279erow0_col3\" class=\"data row0 col3\" >0.035</td> \n",
       "        <td id=\"T_d7f895b0_f103_11e8_a974_8c85905f279erow0_col4\" class=\"data row0 col4\" >0.21</td> \n",
       "        <td id=\"T_d7f895b0_f103_11e8_a974_8c85905f279erow0_col5\" class=\"data row0 col5\" >0.33</td> \n",
       "        <td id=\"T_d7f895b0_f103_11e8_a974_8c85905f279erow0_col6\" class=\"data row0 col6\" >0.46</td> \n",
       "    </tr>    <tr> \n",
       "        <th id=\"T_d7f895b0_f103_11e8_a974_8c85905f279elevel0_row1\" class=\"row_heading level0 row1\" >scores.cust.overall</th> \n",
       "        <td id=\"T_d7f895b0_f103_11e8_a974_8c85905f279erow1_col0\" class=\"data row1 col0\" >0.22</td> \n",
       "        <td id=\"T_d7f895b0_f103_11e8_a974_8c85905f279erow1_col1\" class=\"data row1 col1\" >1</td> \n",
       "        <td id=\"T_d7f895b0_f103_11e8_a974_8c85905f279erow1_col2\" class=\"data row1 col2\" >0.18</td> \n",
       "        <td id=\"T_d7f895b0_f103_11e8_a974_8c85905f279erow1_col3\" class=\"data row1 col3\" >-0.059</td> \n",
       "        <td id=\"T_d7f895b0_f103_11e8_a974_8c85905f279erow1_col4\" class=\"data row1 col4\" >0.07</td> \n",
       "        <td id=\"T_d7f895b0_f103_11e8_a974_8c85905f279erow1_col5\" class=\"data row1 col5\" >0.21</td> \n",
       "        <td id=\"T_d7f895b0_f103_11e8_a974_8c85905f279erow1_col6\" class=\"data row1 col6\" >0.14</td> \n",
       "    </tr>    <tr> \n",
       "        <th id=\"T_d7f895b0_f103_11e8_a974_8c85905f279elevel0_row2\" class=\"row_heading level0 row2\" >scores.env.overall</th> \n",
       "        <td id=\"T_d7f895b0_f103_11e8_a974_8c85905f279erow2_col0\" class=\"data row2 col0\" >0.32</td> \n",
       "        <td id=\"T_d7f895b0_f103_11e8_a974_8c85905f279erow2_col1\" class=\"data row2 col1\" >0.18</td> \n",
       "        <td id=\"T_d7f895b0_f103_11e8_a974_8c85905f279erow2_col2\" class=\"data row2 col2\" >1</td> \n",
       "        <td id=\"T_d7f895b0_f103_11e8_a974_8c85905f279erow2_col3\" class=\"data row2 col3\" >0.25</td> \n",
       "        <td id=\"T_d7f895b0_f103_11e8_a974_8c85905f279erow2_col4\" class=\"data row2 col4\" >-0.079</td> \n",
       "        <td id=\"T_d7f895b0_f103_11e8_a974_8c85905f279erow2_col5\" class=\"data row2 col5\" >0.15</td> \n",
       "        <td id=\"T_d7f895b0_f103_11e8_a974_8c85905f279erow2_col6\" class=\"data row2 col6\" >0.12</td> \n",
       "    </tr>    <tr> \n",
       "        <th id=\"T_d7f895b0_f103_11e8_a974_8c85905f279elevel0_row3\" class=\"row_heading level0 row3\" >scores.jobs.overall</th> \n",
       "        <td id=\"T_d7f895b0_f103_11e8_a974_8c85905f279erow3_col0\" class=\"data row3 col0\" >0.035</td> \n",
       "        <td id=\"T_d7f895b0_f103_11e8_a974_8c85905f279erow3_col1\" class=\"data row3 col1\" >-0.059</td> \n",
       "        <td id=\"T_d7f895b0_f103_11e8_a974_8c85905f279erow3_col2\" class=\"data row3 col2\" >0.25</td> \n",
       "        <td id=\"T_d7f895b0_f103_11e8_a974_8c85905f279erow3_col3\" class=\"data row3 col3\" >1</td> \n",
       "        <td id=\"T_d7f895b0_f103_11e8_a974_8c85905f279erow3_col4\" class=\"data row3 col4\" >0.24</td> \n",
       "        <td id=\"T_d7f895b0_f103_11e8_a974_8c85905f279erow3_col5\" class=\"data row3 col5\" >-0.24</td> \n",
       "        <td id=\"T_d7f895b0_f103_11e8_a974_8c85905f279erow3_col6\" class=\"data row3 col6\" >-0.27</td> \n",
       "    </tr>    <tr> \n",
       "        <th id=\"T_d7f895b0_f103_11e8_a974_8c85905f279elevel0_row4\" class=\"row_heading level0 row4\" >scores.mgmt.overall</th> \n",
       "        <td id=\"T_d7f895b0_f103_11e8_a974_8c85905f279erow4_col0\" class=\"data row4 col0\" >0.21</td> \n",
       "        <td id=\"T_d7f895b0_f103_11e8_a974_8c85905f279erow4_col1\" class=\"data row4 col1\" >0.07</td> \n",
       "        <td id=\"T_d7f895b0_f103_11e8_a974_8c85905f279erow4_col2\" class=\"data row4 col2\" >-0.079</td> \n",
       "        <td id=\"T_d7f895b0_f103_11e8_a974_8c85905f279erow4_col3\" class=\"data row4 col3\" >0.24</td> \n",
       "        <td id=\"T_d7f895b0_f103_11e8_a974_8c85905f279erow4_col4\" class=\"data row4 col4\" >1</td> \n",
       "        <td id=\"T_d7f895b0_f103_11e8_a974_8c85905f279erow4_col5\" class=\"data row4 col5\" >0.005</td> \n",
       "        <td id=\"T_d7f895b0_f103_11e8_a974_8c85905f279erow4_col6\" class=\"data row4 col6\" >-0.28</td> \n",
       "    </tr>    <tr> \n",
       "        <th id=\"T_d7f895b0_f103_11e8_a974_8c85905f279elevel0_row5\" class=\"row_heading level0 row5\" >scores.prod.overall</th> \n",
       "        <td id=\"T_d7f895b0_f103_11e8_a974_8c85905f279erow5_col0\" class=\"data row5 col0\" >0.33</td> \n",
       "        <td id=\"T_d7f895b0_f103_11e8_a974_8c85905f279erow5_col1\" class=\"data row5 col1\" >0.21</td> \n",
       "        <td id=\"T_d7f895b0_f103_11e8_a974_8c85905f279erow5_col2\" class=\"data row5 col2\" >0.15</td> \n",
       "        <td id=\"T_d7f895b0_f103_11e8_a974_8c85905f279erow5_col3\" class=\"data row5 col3\" >-0.24</td> \n",
       "        <td id=\"T_d7f895b0_f103_11e8_a974_8c85905f279erow5_col4\" class=\"data row5 col4\" >0.005</td> \n",
       "        <td id=\"T_d7f895b0_f103_11e8_a974_8c85905f279erow5_col5\" class=\"data row5 col5\" >1</td> \n",
       "        <td id=\"T_d7f895b0_f103_11e8_a974_8c85905f279erow5_col6\" class=\"data row5 col6\" >0.55</td> \n",
       "    </tr>    <tr> \n",
       "        <th id=\"T_d7f895b0_f103_11e8_a974_8c85905f279elevel0_row6\" class=\"row_heading level0 row6\" >scores.worker.overall</th> \n",
       "        <td id=\"T_d7f895b0_f103_11e8_a974_8c85905f279erow6_col0\" class=\"data row6 col0\" >0.46</td> \n",
       "        <td id=\"T_d7f895b0_f103_11e8_a974_8c85905f279erow6_col1\" class=\"data row6 col1\" >0.14</td> \n",
       "        <td id=\"T_d7f895b0_f103_11e8_a974_8c85905f279erow6_col2\" class=\"data row6 col2\" >0.12</td> \n",
       "        <td id=\"T_d7f895b0_f103_11e8_a974_8c85905f279erow6_col3\" class=\"data row6 col3\" >-0.27</td> \n",
       "        <td id=\"T_d7f895b0_f103_11e8_a974_8c85905f279erow6_col4\" class=\"data row6 col4\" >-0.28</td> \n",
       "        <td id=\"T_d7f895b0_f103_11e8_a974_8c85905f279erow6_col5\" class=\"data row6 col5\" >0.55</td> \n",
       "        <td id=\"T_d7f895b0_f103_11e8_a974_8c85905f279erow6_col6\" class=\"data row6 col6\" >1</td> \n",
       "    </tr></tbody> \n",
       "</table> "
      ],
      "text/plain": [
       "<pandas.io.formats.style.Styler at 0x1a2090a898>"
      ]
     },
     "execution_count": 36,
     "metadata": {
      "tags": []
     },
     "output_type": "execute_result"
    }
   ],
   "source": [
    "jc_industries_df_keep = pd.read_csv(data_folder + \"jc_industries.csv\")\n",
    "jc_industries_df_keep = jc_industries_df_keep[['scores.comm.overall','scores.cust.overall','scores.env.overall','scores.jobs.overall','scores.mgmt.overall','scores.prod.overall','scores.worker.overall']]\n",
    "jc_industries_df_keep.plot.box()\n",
    "plt.title('Boxplot of the differents scores per compagny')\n",
    "plt.show()\n",
    "jc_industries_df_keep.plot.hist()\n",
    "plt.title('Histogram of the differents scores per compagny')\n",
    "plt.show()\n",
    "jc_industries_df_keep.plot.kde()\n",
    "plt.title('KDE Density plot of the differents scores per compagny')\n",
    "plt.show()\n",
    "corr = jc_industries_df_keep.corr()\n",
    "print('Correlation matrix of the differents scores per compagny:')\n",
    "corr.style.background_gradient().set_precision(2)"
   ]
  },
  {
   "cell_type": "markdown",
   "metadata": {
    "colab_type": "text",
    "id": "5jWSvLNT-kpn"
   },
   "source": [
    "***COMMENTS*** : \n",
    "The several score have similar distribution. As before, scores are centered around 50. We can also see some outliers in both sides of the distributions which implies the existence of really good and bad industries for each category. The width of each distribution can varies but stays always under 20 (between 40 and 60 percent). The correlation matrix show us that the scores.comm.overall is the higher correlated features when you look at all the correlation of this feature compare to all the other features. In addition, we also observe sparsity in the correlation : in fact some feature are not correlated at all when some are more correlated. We would have done this kind of correlation analysis for other dataframe in our project but for now it did not make sense to do it a lot are our features are interest are not really made for that."
   ]
  },
  {
   "cell_type": "code",
   "execution_count": 0,
   "metadata": {
    "colab": {},
    "colab_type": "code",
    "id": "Sk6nPmSB-kpp"
   },
   "outputs": [],
   "source": [
    "## load Just Capital company scoring and rankings of ~800 largest public (investable) companies \n",
    "jc_companies_df = pd.read_csv(data_folder + \"jc_companies.csv\")\n",
    "jc_industries_df = pd.read_csv(data_folder +\"jc_industries.csv\")\n",
    "\n",
    "\n",
    "## load investment data\n",
    "sec13f_sample_df = pd.read_csv(data_folder +\"test_results.csv\")"
   ]
  },
  {
   "cell_type": "code",
   "execution_count": 0,
   "metadata": {
    "colab": {},
    "colab_type": "code",
    "id": "5HtOXDPt-kpt",
    "outputId": "093d0669-d945-444b-929f-f9723860f2ab"
   },
   "outputs": [
    {
     "data": {
      "text/html": [
       "<div>\n",
       "<style scoped>\n",
       "    .dataframe tbody tr th:only-of-type {\n",
       "        vertical-align: middle;\n",
       "    }\n",
       "\n",
       "    .dataframe tbody tr th {\n",
       "        vertical-align: top;\n",
       "    }\n",
       "\n",
       "    .dataframe thead th {\n",
       "        text-align: right;\n",
       "    }\n",
       "</style>\n",
       "<table border=\"1\" class=\"dataframe\">\n",
       "  <thead>\n",
       "    <tr style=\"text-align: right;\">\n",
       "      <th></th>\n",
       "      <th>symbol</th>\n",
       "      <th>name</th>\n",
       "      <th>industry</th>\n",
       "      <th>rank.overall</th>\n",
       "      <th>rank.industry</th>\n",
       "      <th>scores.overall</th>\n",
       "      <th>scores.comm.overall</th>\n",
       "      <th>scores.cust.overall</th>\n",
       "      <th>scores.env.overall</th>\n",
       "      <th>scores.jobs.overall</th>\n",
       "      <th>scores.mgmt.overall</th>\n",
       "      <th>scores.prod.overall</th>\n",
       "      <th>scores.worker.overall</th>\n",
       "      <th>scores.comm.abuse</th>\n",
       "      <th>scores.comm.charity</th>\n",
       "      <th>scores.comm.conflict</th>\n",
       "      <th>scores.comm.local</th>\n",
       "      <th>scores.comm.oppress</th>\n",
       "      <th>scores.comm.rels</th>\n",
       "      <th>scores.cust.disc</th>\n",
       "      <th>scores.cust.exp</th>\n",
       "      <th>scores.cust.fair</th>\n",
       "      <th>scores.cust.label</th>\n",
       "      <th>scores.cust.priv</th>\n",
       "      <th>scores.cust.truth</th>\n",
       "      <th>scores.env.efficient</th>\n",
       "      <th>scores.env.mgmt</th>\n",
       "      <th>scores.env.pollution</th>\n",
       "      <th>scores.jobs.growth</th>\n",
       "      <th>scores.jobs.size</th>\n",
       "      <th>scores.mgmt.integrity</th>\n",
       "      <th>scores.mgmt.laws</th>\n",
       "      <th>scores.mgmt.profit</th>\n",
       "      <th>scores.mgmt.reporting</th>\n",
       "      <th>scores.mgmt.return</th>\n",
       "      <th>scores.mgmt.tax</th>\n",
       "      <th>scores.prod.ben</th>\n",
       "      <th>scores.prod.price</th>\n",
       "      <th>scores.prod.qual</th>\n",
       "      <th>scores.worker.balance</th>\n",
       "      <th>scores.worker.career</th>\n",
       "      <th>scores.worker.ceo</th>\n",
       "      <th>scores.worker.fairpay</th>\n",
       "      <th>scores.worker.health</th>\n",
       "      <th>scores.worker.hiredisc</th>\n",
       "      <th>scores.worker.layoff</th>\n",
       "      <th>scores.worker.living</th>\n",
       "      <th>scores.worker.open</th>\n",
       "      <th>scores.worker.paydisc</th>\n",
       "      <th>scores.worker.pto</th>\n",
       "      <th>scores.worker.retire</th>\n",
       "      <th>scores.worker.safe</th>\n",
       "    </tr>\n",
       "  </thead>\n",
       "  <tbody>\n",
       "    <tr>\n",
       "      <th>0</th>\n",
       "      <td>INTC</td>\n",
       "      <td>Intel</td>\n",
       "      <td>Semiconductors &amp; Equipment</td>\n",
       "      <td>1.0</td>\n",
       "      <td>1</td>\n",
       "      <td>70.904113</td>\n",
       "      <td>100.468263</td>\n",
       "      <td>50.473130</td>\n",
       "      <td>85.126831</td>\n",
       "      <td>50.086377</td>\n",
       "      <td>56.353348</td>\n",
       "      <td>71.173570</td>\n",
       "      <td>78.221504</td>\n",
       "      <td>125.000000</td>\n",
       "      <td>106.862498</td>\n",
       "      <td>103.477752</td>\n",
       "      <td>111.775665</td>\n",
       "      <td>51.483665</td>\n",
       "      <td>108.300874</td>\n",
       "      <td>51.611377</td>\n",
       "      <td>34.977705</td>\n",
       "      <td>51.695187</td>\n",
       "      <td>51.700615</td>\n",
       "      <td>55.294927</td>\n",
       "      <td>51.513154</td>\n",
       "      <td>108.697215</td>\n",
       "      <td>95.73956</td>\n",
       "      <td>57.430156</td>\n",
       "      <td>43.035516</td>\n",
       "      <td>61.306350</td>\n",
       "      <td>66.043496</td>\n",
       "      <td>55.629631</td>\n",
       "      <td>62.350330</td>\n",
       "      <td>55.630968</td>\n",
       "      <td>43.667039</td>\n",
       "      <td>49.680345</td>\n",
       "      <td>110.988697</td>\n",
       "      <td>37.667396</td>\n",
       "      <td>56.261842</td>\n",
       "      <td>95.304766</td>\n",
       "      <td>84.273845</td>\n",
       "      <td>56.691195</td>\n",
       "      <td>68.722960</td>\n",
       "      <td>71.838230</td>\n",
       "      <td>88.416387</td>\n",
       "      <td>51.44779</td>\n",
       "      <td>71.823897</td>\n",
       "      <td>104.789042</td>\n",
       "      <td>125.000000</td>\n",
       "      <td>73.800808</td>\n",
       "      <td>33.752226</td>\n",
       "      <td>68.822486</td>\n",
       "    </tr>\n",
       "    <tr>\n",
       "      <th>1</th>\n",
       "      <td>TXN</td>\n",
       "      <td>Texas Instruments</td>\n",
       "      <td>Semiconductors &amp; Equipment</td>\n",
       "      <td>2.0</td>\n",
       "      <td>2</td>\n",
       "      <td>69.868211</td>\n",
       "      <td>88.732140</td>\n",
       "      <td>53.975892</td>\n",
       "      <td>83.400488</td>\n",
       "      <td>44.226045</td>\n",
       "      <td>59.711520</td>\n",
       "      <td>75.170806</td>\n",
       "      <td>76.107459</td>\n",
       "      <td>112.801534</td>\n",
       "      <td>83.516161</td>\n",
       "      <td>59.306705</td>\n",
       "      <td>111.775665</td>\n",
       "      <td>51.483665</td>\n",
       "      <td>108.300874</td>\n",
       "      <td>51.611377</td>\n",
       "      <td>63.628725</td>\n",
       "      <td>51.695187</td>\n",
       "      <td>51.700615</td>\n",
       "      <td>55.294927</td>\n",
       "      <td>51.513154</td>\n",
       "      <td>105.289321</td>\n",
       "      <td>95.73956</td>\n",
       "      <td>55.798907</td>\n",
       "      <td>43.036840</td>\n",
       "      <td>46.118416</td>\n",
       "      <td>72.741572</td>\n",
       "      <td>56.956806</td>\n",
       "      <td>69.183683</td>\n",
       "      <td>55.630968</td>\n",
       "      <td>84.971847</td>\n",
       "      <td>43.833583</td>\n",
       "      <td>110.988697</td>\n",
       "      <td>53.486611</td>\n",
       "      <td>56.261842</td>\n",
       "      <td>101.617386</td>\n",
       "      <td>88.467460</td>\n",
       "      <td>60.756681</td>\n",
       "      <td>95.056324</td>\n",
       "      <td>81.827098</td>\n",
       "      <td>88.416387</td>\n",
       "      <td>51.44779</td>\n",
       "      <td>71.823897</td>\n",
       "      <td>72.008878</td>\n",
       "      <td>42.687032</td>\n",
       "      <td>86.067626</td>\n",
       "      <td>73.834172</td>\n",
       "      <td>74.731938</td>\n",
       "    </tr>\n",
       "    <tr>\n",
       "      <th>2</th>\n",
       "      <td>NVDA</td>\n",
       "      <td>NVIDIA</td>\n",
       "      <td>Semiconductors &amp; Equipment</td>\n",
       "      <td>3.0</td>\n",
       "      <td>3</td>\n",
       "      <td>68.909677</td>\n",
       "      <td>85.760550</td>\n",
       "      <td>50.473130</td>\n",
       "      <td>74.869222</td>\n",
       "      <td>50.218429</td>\n",
       "      <td>59.848775</td>\n",
       "      <td>60.247317</td>\n",
       "      <td>89.527007</td>\n",
       "      <td>125.000000</td>\n",
       "      <td>80.917953</td>\n",
       "      <td>103.477752</td>\n",
       "      <td>39.894218</td>\n",
       "      <td>51.483665</td>\n",
       "      <td>90.503656</td>\n",
       "      <td>51.611377</td>\n",
       "      <td>34.977705</td>\n",
       "      <td>51.695187</td>\n",
       "      <td>51.700615</td>\n",
       "      <td>55.294927</td>\n",
       "      <td>51.513154</td>\n",
       "      <td>100.788146</td>\n",
       "      <td>66.03365</td>\n",
       "      <td>59.942706</td>\n",
       "      <td>54.460025</td>\n",
       "      <td>43.468813</td>\n",
       "      <td>63.128168</td>\n",
       "      <td>56.956806</td>\n",
       "      <td>59.095404</td>\n",
       "      <td>55.630968</td>\n",
       "      <td>93.709873</td>\n",
       "      <td>55.187048</td>\n",
       "      <td>110.988697</td>\n",
       "      <td>53.486611</td>\n",
       "      <td>17.897000</td>\n",
       "      <td>100.019254</td>\n",
       "      <td>106.127238</td>\n",
       "      <td>73.065710</td>\n",
       "      <td>93.004039</td>\n",
       "      <td>102.659145</td>\n",
       "      <td>88.416387</td>\n",
       "      <td>51.44779</td>\n",
       "      <td>71.823897</td>\n",
       "      <td>86.560256</td>\n",
       "      <td>125.000000</td>\n",
       "      <td>104.490031</td>\n",
       "      <td>70.526504</td>\n",
       "      <td>74.160056</td>\n",
       "    </tr>\n",
       "    <tr>\n",
       "      <th>3</th>\n",
       "      <td>MSFT</td>\n",
       "      <td>Microsoft</td>\n",
       "      <td>Software</td>\n",
       "      <td>4.0</td>\n",
       "      <td>1</td>\n",
       "      <td>68.554280</td>\n",
       "      <td>93.073672</td>\n",
       "      <td>51.968008</td>\n",
       "      <td>80.426427</td>\n",
       "      <td>55.615562</td>\n",
       "      <td>79.083299</td>\n",
       "      <td>43.327649</td>\n",
       "      <td>84.930136</td>\n",
       "      <td>125.000000</td>\n",
       "      <td>125.000000</td>\n",
       "      <td>59.742341</td>\n",
       "      <td>111.775665</td>\n",
       "      <td>48.206594</td>\n",
       "      <td>99.402265</td>\n",
       "      <td>51.611377</td>\n",
       "      <td>-19.158813</td>\n",
       "      <td>51.695187</td>\n",
       "      <td>51.700615</td>\n",
       "      <td>88.988692</td>\n",
       "      <td>51.513154</td>\n",
       "      <td>109.790107</td>\n",
       "      <td>75.48553</td>\n",
       "      <td>59.677166</td>\n",
       "      <td>48.213119</td>\n",
       "      <td>67.395005</td>\n",
       "      <td>125.000000</td>\n",
       "      <td>56.956806</td>\n",
       "      <td>73.131542</td>\n",
       "      <td>55.630968</td>\n",
       "      <td>64.311044</td>\n",
       "      <td>89.113393</td>\n",
       "      <td>84.594166</td>\n",
       "      <td>53.486611</td>\n",
       "      <td>-1.285421</td>\n",
       "      <td>99.260142</td>\n",
       "      <td>92.754267</td>\n",
       "      <td>44.465579</td>\n",
       "      <td>78.790892</td>\n",
       "      <td>82.287111</td>\n",
       "      <td>88.416387</td>\n",
       "      <td>51.44779</td>\n",
       "      <td>71.823897</td>\n",
       "      <td>113.516149</td>\n",
       "      <td>125.000000</td>\n",
       "      <td>98.760575</td>\n",
       "      <td>79.500134</td>\n",
       "      <td>77.666267</td>\n",
       "    </tr>\n",
       "    <tr>\n",
       "      <th>4</th>\n",
       "      <td>IBM</td>\n",
       "      <td>International Business Machines</td>\n",
       "      <td>Computer Services</td>\n",
       "      <td>5.0</td>\n",
       "      <td>1</td>\n",
       "      <td>67.418101</td>\n",
       "      <td>77.858573</td>\n",
       "      <td>55.882062</td>\n",
       "      <td>84.478543</td>\n",
       "      <td>67.168259</td>\n",
       "      <td>54.116198</td>\n",
       "      <td>65.712882</td>\n",
       "      <td>67.066750</td>\n",
       "      <td>125.000000</td>\n",
       "      <td>51.207389</td>\n",
       "      <td>92.996487</td>\n",
       "      <td>39.894218</td>\n",
       "      <td>51.483665</td>\n",
       "      <td>63.807829</td>\n",
       "      <td>51.611377</td>\n",
       "      <td>34.977705</td>\n",
       "      <td>51.695187</td>\n",
       "      <td>51.700615</td>\n",
       "      <td>77.757437</td>\n",
       "      <td>51.513154</td>\n",
       "      <td>104.846660</td>\n",
       "      <td>95.73956</td>\n",
       "      <td>58.961791</td>\n",
       "      <td>49.616370</td>\n",
       "      <td>95.098426</td>\n",
       "      <td>72.584863</td>\n",
       "      <td>56.956806</td>\n",
       "      <td>77.360733</td>\n",
       "      <td>55.630968</td>\n",
       "      <td>50.429501</td>\n",
       "      <td>23.679381</td>\n",
       "      <td>84.594166</td>\n",
       "      <td>53.486611</td>\n",
       "      <td>56.261842</td>\n",
       "      <td>85.795882</td>\n",
       "      <td>66.008323</td>\n",
       "      <td>42.942649</td>\n",
       "      <td>51.233897</td>\n",
       "      <td>39.374409</td>\n",
       "      <td>53.945788</td>\n",
       "      <td>51.44779</td>\n",
       "      <td>71.823897</td>\n",
       "      <td>87.513847</td>\n",
       "      <td>108.503747</td>\n",
       "      <td>78.403359</td>\n",
       "      <td>81.994395</td>\n",
       "      <td>71.491271</td>\n",
       "    </tr>\n",
       "  </tbody>\n",
       "</table>\n",
       "</div>"
      ],
      "text/plain": [
       "  symbol                             name                    industry  \\\n",
       "0   INTC                            Intel  Semiconductors & Equipment   \n",
       "1    TXN                Texas Instruments  Semiconductors & Equipment   \n",
       "2   NVDA                           NVIDIA  Semiconductors & Equipment   \n",
       "3   MSFT                        Microsoft                    Software   \n",
       "4    IBM  International Business Machines           Computer Services   \n",
       "\n",
       "   rank.overall  rank.industry  scores.overall  scores.comm.overall  \\\n",
       "0           1.0              1       70.904113           100.468263   \n",
       "1           2.0              2       69.868211            88.732140   \n",
       "2           3.0              3       68.909677            85.760550   \n",
       "3           4.0              1       68.554280            93.073672   \n",
       "4           5.0              1       67.418101            77.858573   \n",
       "\n",
       "   scores.cust.overall  scores.env.overall  scores.jobs.overall  \\\n",
       "0            50.473130           85.126831            50.086377   \n",
       "1            53.975892           83.400488            44.226045   \n",
       "2            50.473130           74.869222            50.218429   \n",
       "3            51.968008           80.426427            55.615562   \n",
       "4            55.882062           84.478543            67.168259   \n",
       "\n",
       "   scores.mgmt.overall  scores.prod.overall  scores.worker.overall  \\\n",
       "0            56.353348            71.173570              78.221504   \n",
       "1            59.711520            75.170806              76.107459   \n",
       "2            59.848775            60.247317              89.527007   \n",
       "3            79.083299            43.327649              84.930136   \n",
       "4            54.116198            65.712882              67.066750   \n",
       "\n",
       "   scores.comm.abuse  scores.comm.charity  scores.comm.conflict  \\\n",
       "0         125.000000           106.862498            103.477752   \n",
       "1         112.801534            83.516161             59.306705   \n",
       "2         125.000000            80.917953            103.477752   \n",
       "3         125.000000           125.000000             59.742341   \n",
       "4         125.000000            51.207389             92.996487   \n",
       "\n",
       "   scores.comm.local  scores.comm.oppress  scores.comm.rels  scores.cust.disc  \\\n",
       "0         111.775665            51.483665        108.300874         51.611377   \n",
       "1         111.775665            51.483665        108.300874         51.611377   \n",
       "2          39.894218            51.483665         90.503656         51.611377   \n",
       "3         111.775665            48.206594         99.402265         51.611377   \n",
       "4          39.894218            51.483665         63.807829         51.611377   \n",
       "\n",
       "   scores.cust.exp  scores.cust.fair  scores.cust.label  scores.cust.priv  \\\n",
       "0        34.977705         51.695187          51.700615         55.294927   \n",
       "1        63.628725         51.695187          51.700615         55.294927   \n",
       "2        34.977705         51.695187          51.700615         55.294927   \n",
       "3       -19.158813         51.695187          51.700615         88.988692   \n",
       "4        34.977705         51.695187          51.700615         77.757437   \n",
       "\n",
       "   scores.cust.truth  scores.env.efficient  scores.env.mgmt  \\\n",
       "0          51.513154            108.697215         95.73956   \n",
       "1          51.513154            105.289321         95.73956   \n",
       "2          51.513154            100.788146         66.03365   \n",
       "3          51.513154            109.790107         75.48553   \n",
       "4          51.513154            104.846660         95.73956   \n",
       "\n",
       "   scores.env.pollution  scores.jobs.growth  scores.jobs.size  \\\n",
       "0             57.430156           43.035516         61.306350   \n",
       "1             55.798907           43.036840         46.118416   \n",
       "2             59.942706           54.460025         43.468813   \n",
       "3             59.677166           48.213119         67.395005   \n",
       "4             58.961791           49.616370         95.098426   \n",
       "\n",
       "   scores.mgmt.integrity  scores.mgmt.laws  scores.mgmt.profit  \\\n",
       "0              66.043496         55.629631           62.350330   \n",
       "1              72.741572         56.956806           69.183683   \n",
       "2              63.128168         56.956806           59.095404   \n",
       "3             125.000000         56.956806           73.131542   \n",
       "4              72.584863         56.956806           77.360733   \n",
       "\n",
       "   scores.mgmt.reporting  scores.mgmt.return  scores.mgmt.tax  \\\n",
       "0              55.630968           43.667039        49.680345   \n",
       "1              55.630968           84.971847        43.833583   \n",
       "2              55.630968           93.709873        55.187048   \n",
       "3              55.630968           64.311044        89.113393   \n",
       "4              55.630968           50.429501        23.679381   \n",
       "\n",
       "   scores.prod.ben  scores.prod.price  scores.prod.qual  \\\n",
       "0       110.988697          37.667396         56.261842   \n",
       "1       110.988697          53.486611         56.261842   \n",
       "2       110.988697          53.486611         17.897000   \n",
       "3        84.594166          53.486611         -1.285421   \n",
       "4        84.594166          53.486611         56.261842   \n",
       "\n",
       "   scores.worker.balance  scores.worker.career  scores.worker.ceo  \\\n",
       "0              95.304766             84.273845          56.691195   \n",
       "1             101.617386             88.467460          60.756681   \n",
       "2             100.019254            106.127238          73.065710   \n",
       "3              99.260142             92.754267          44.465579   \n",
       "4              85.795882             66.008323          42.942649   \n",
       "\n",
       "   scores.worker.fairpay  scores.worker.health  scores.worker.hiredisc  \\\n",
       "0              68.722960             71.838230               88.416387   \n",
       "1              95.056324             81.827098               88.416387   \n",
       "2              93.004039            102.659145               88.416387   \n",
       "3              78.790892             82.287111               88.416387   \n",
       "4              51.233897             39.374409               53.945788   \n",
       "\n",
       "   scores.worker.layoff  scores.worker.living  scores.worker.open  \\\n",
       "0              51.44779             71.823897          104.789042   \n",
       "1              51.44779             71.823897           72.008878   \n",
       "2              51.44779             71.823897           86.560256   \n",
       "3              51.44779             71.823897          113.516149   \n",
       "4              51.44779             71.823897           87.513847   \n",
       "\n",
       "   scores.worker.paydisc  scores.worker.pto  scores.worker.retire  \\\n",
       "0             125.000000          73.800808             33.752226   \n",
       "1              42.687032          86.067626             73.834172   \n",
       "2             125.000000         104.490031             70.526504   \n",
       "3             125.000000          98.760575             79.500134   \n",
       "4             108.503747          78.403359             81.994395   \n",
       "\n",
       "   scores.worker.safe  \n",
       "0           68.822486  \n",
       "1           74.731938  \n",
       "2           74.160056  \n",
       "3           77.666267  \n",
       "4           71.491271  "
      ]
     },
     "execution_count": 38,
     "metadata": {
      "tags": []
     },
     "output_type": "execute_result"
    }
   ],
   "source": [
    "## rename investment scoring dataframe ticker attribute to make joining data with 13F data easier\n",
    "jc_companies_df = jc_companies_df.rename(index=str, columns={\"ticker\": \"symbol\"})\n",
    "\n",
    "## show sample of investement scoring data by company\n",
    "jc_companies_df.head()"
   ]
  },
  {
   "cell_type": "code",
   "execution_count": 0,
   "metadata": {
    "colab": {},
    "colab_type": "code",
    "id": "UpHp2TiL-kpx",
    "outputId": "868a563e-661f-4273-d47a-f93e34273765"
   },
   "outputs": [
    {
     "data": {
      "text/html": [
       "<div>\n",
       "<style scoped>\n",
       "    .dataframe tbody tr th:only-of-type {\n",
       "        vertical-align: middle;\n",
       "    }\n",
       "\n",
       "    .dataframe tbody tr th {\n",
       "        vertical-align: top;\n",
       "    }\n",
       "\n",
       "    .dataframe thead th {\n",
       "        text-align: right;\n",
       "    }\n",
       "</style>\n",
       "<table border=\"1\" class=\"dataframe\">\n",
       "  <thead>\n",
       "    <tr style=\"text-align: right;\">\n",
       "      <th></th>\n",
       "      <th>name</th>\n",
       "      <th>scores.comm.overall</th>\n",
       "      <th>scores.cust.overall</th>\n",
       "      <th>scores.env.overall</th>\n",
       "      <th>scores.jobs.overall</th>\n",
       "      <th>scores.mgmt.overall</th>\n",
       "      <th>scores.prod.overall</th>\n",
       "      <th>scores.worker.overall</th>\n",
       "      <th>scores.comm.abuse</th>\n",
       "      <th>scores.comm.charity</th>\n",
       "      <th>scores.comm.conflict</th>\n",
       "      <th>scores.comm.local</th>\n",
       "      <th>scores.comm.oppress</th>\n",
       "      <th>scores.comm.rels</th>\n",
       "      <th>scores.cust.disc</th>\n",
       "      <th>scores.cust.exp</th>\n",
       "      <th>scores.cust.fair</th>\n",
       "      <th>scores.cust.label</th>\n",
       "      <th>scores.cust.priv</th>\n",
       "      <th>scores.cust.truth</th>\n",
       "      <th>scores.env.efficient</th>\n",
       "      <th>scores.env.mgmt</th>\n",
       "      <th>scores.env.pollution</th>\n",
       "      <th>scores.jobs.growth</th>\n",
       "      <th>scores.jobs.size</th>\n",
       "      <th>scores.mgmt.integrity</th>\n",
       "      <th>scores.mgmt.laws</th>\n",
       "      <th>scores.mgmt.profit</th>\n",
       "      <th>scores.mgmt.reporting</th>\n",
       "      <th>scores.mgmt.return</th>\n",
       "      <th>scores.mgmt.tax</th>\n",
       "      <th>scores.prod.ben</th>\n",
       "      <th>scores.prod.price</th>\n",
       "      <th>scores.prod.qual</th>\n",
       "      <th>scores.worker.balance</th>\n",
       "      <th>scores.worker.career</th>\n",
       "      <th>scores.worker.ceo</th>\n",
       "      <th>scores.worker.fairpay</th>\n",
       "      <th>scores.worker.health</th>\n",
       "      <th>scores.worker.hiredisc</th>\n",
       "      <th>scores.worker.layoff</th>\n",
       "      <th>scores.worker.living</th>\n",
       "      <th>scores.worker.open</th>\n",
       "      <th>scores.worker.paydisc</th>\n",
       "      <th>scores.worker.pto</th>\n",
       "      <th>scores.worker.retire</th>\n",
       "      <th>scores.worker.safe</th>\n",
       "      <th>total</th>\n",
       "    </tr>\n",
       "  </thead>\n",
       "  <tbody>\n",
       "    <tr>\n",
       "      <th>0</th>\n",
       "      <td>JUST 100</td>\n",
       "      <td>67.354312</td>\n",
       "      <td>52.392449</td>\n",
       "      <td>64.404017</td>\n",
       "      <td>50.335392</td>\n",
       "      <td>53.797207</td>\n",
       "      <td>59.793143</td>\n",
       "      <td>65.540815</td>\n",
       "      <td>83.418517</td>\n",
       "      <td>69.789017</td>\n",
       "      <td>61.752652</td>\n",
       "      <td>66.490354</td>\n",
       "      <td>50.054689</td>\n",
       "      <td>68.113178</td>\n",
       "      <td>51.312686</td>\n",
       "      <td>44.747240</td>\n",
       "      <td>51.625812</td>\n",
       "      <td>51.198869</td>\n",
       "      <td>59.381138</td>\n",
       "      <td>50.660988</td>\n",
       "      <td>74.024316</td>\n",
       "      <td>67.891750</td>\n",
       "      <td>53.738665</td>\n",
       "      <td>49.122599</td>\n",
       "      <td>52.265297</td>\n",
       "      <td>55.957864</td>\n",
       "      <td>53.859895</td>\n",
       "      <td>57.576667</td>\n",
       "      <td>53.169154</td>\n",
       "      <td>58.421008</td>\n",
       "      <td>49.538041</td>\n",
       "      <td>77.782519</td>\n",
       "      <td>49.828638</td>\n",
       "      <td>49.694498</td>\n",
       "      <td>78.673524</td>\n",
       "      <td>72.820551</td>\n",
       "      <td>54.683005</td>\n",
       "      <td>62.359886</td>\n",
       "      <td>68.190295</td>\n",
       "      <td>60.554687</td>\n",
       "      <td>51.447790</td>\n",
       "      <td>64.078702</td>\n",
       "      <td>75.449175</td>\n",
       "      <td>73.625937</td>\n",
       "      <td>68.132231</td>\n",
       "      <td>64.745864</td>\n",
       "      <td>63.284207</td>\n",
       "      <td>100</td>\n",
       "    </tr>\n",
       "    <tr>\n",
       "      <th>1</th>\n",
       "      <td>Aerospace &amp; Defense</td>\n",
       "      <td>48.974755</td>\n",
       "      <td>49.200088</td>\n",
       "      <td>55.856524</td>\n",
       "      <td>47.840855</td>\n",
       "      <td>55.437564</td>\n",
       "      <td>49.134008</td>\n",
       "      <td>54.672038</td>\n",
       "      <td>47.960242</td>\n",
       "      <td>48.610681</td>\n",
       "      <td>54.487195</td>\n",
       "      <td>43.887632</td>\n",
       "      <td>47.417962</td>\n",
       "      <td>52.210824</td>\n",
       "      <td>51.611377</td>\n",
       "      <td>49.144043</td>\n",
       "      <td>51.695187</td>\n",
       "      <td>51.700615</td>\n",
       "      <td>42.815754</td>\n",
       "      <td>51.513154</td>\n",
       "      <td>51.133573</td>\n",
       "      <td>58.692583</td>\n",
       "      <td>57.647907</td>\n",
       "      <td>43.039781</td>\n",
       "      <td>55.480761</td>\n",
       "      <td>57.988229</td>\n",
       "      <td>55.163918</td>\n",
       "      <td>60.093216</td>\n",
       "      <td>48.085721</td>\n",
       "      <td>68.906835</td>\n",
       "      <td>54.382027</td>\n",
       "      <td>46.698422</td>\n",
       "      <td>53.486611</td>\n",
       "      <td>48.550225</td>\n",
       "      <td>54.243621</td>\n",
       "      <td>51.235005</td>\n",
       "      <td>53.776615</td>\n",
       "      <td>56.892966</td>\n",
       "      <td>48.868473</td>\n",
       "      <td>52.011893</td>\n",
       "      <td>51.447790</td>\n",
       "      <td>67.852262</td>\n",
       "      <td>42.762754</td>\n",
       "      <td>46.343516</td>\n",
       "      <td>52.663473</td>\n",
       "      <td>56.597505</td>\n",
       "      <td>60.627311</td>\n",
       "      <td>18</td>\n",
       "    </tr>\n",
       "    <tr>\n",
       "      <th>2</th>\n",
       "      <td>Automobiles &amp; Parts</td>\n",
       "      <td>54.379757</td>\n",
       "      <td>50.388621</td>\n",
       "      <td>56.889853</td>\n",
       "      <td>49.099062</td>\n",
       "      <td>51.043288</td>\n",
       "      <td>44.757255</td>\n",
       "      <td>47.630705</td>\n",
       "      <td>63.574431</td>\n",
       "      <td>38.470643</td>\n",
       "      <td>66.730935</td>\n",
       "      <td>44.686315</td>\n",
       "      <td>51.259600</td>\n",
       "      <td>46.771786</td>\n",
       "      <td>51.611377</td>\n",
       "      <td>51.983520</td>\n",
       "      <td>51.695187</td>\n",
       "      <td>51.700615</td>\n",
       "      <td>46.309923</td>\n",
       "      <td>51.513154</td>\n",
       "      <td>58.189862</td>\n",
       "      <td>57.105663</td>\n",
       "      <td>55.642119</td>\n",
       "      <td>47.950694</td>\n",
       "      <td>50.926449</td>\n",
       "      <td>52.617778</td>\n",
       "      <td>53.356575</td>\n",
       "      <td>53.042652</td>\n",
       "      <td>55.630968</td>\n",
       "      <td>46.755134</td>\n",
       "      <td>42.979667</td>\n",
       "      <td>48.918051</td>\n",
       "      <td>53.110181</td>\n",
       "      <td>35.498449</td>\n",
       "      <td>38.785211</td>\n",
       "      <td>41.331566</td>\n",
       "      <td>32.455098</td>\n",
       "      <td>53.278056</td>\n",
       "      <td>47.410566</td>\n",
       "      <td>51.494653</td>\n",
       "      <td>51.447790</td>\n",
       "      <td>41.107298</td>\n",
       "      <td>51.372776</td>\n",
       "      <td>51.462594</td>\n",
       "      <td>39.635664</td>\n",
       "      <td>51.054280</td>\n",
       "      <td>55.483747</td>\n",
       "      <td>15</td>\n",
       "    </tr>\n",
       "    <tr>\n",
       "      <th>3</th>\n",
       "      <td>Banks</td>\n",
       "      <td>48.394606</td>\n",
       "      <td>47.411630</td>\n",
       "      <td>53.843374</td>\n",
       "      <td>47.747139</td>\n",
       "      <td>47.192844</td>\n",
       "      <td>52.320067</td>\n",
       "      <td>47.274469</td>\n",
       "      <td>38.984897</td>\n",
       "      <td>46.478586</td>\n",
       "      <td>50.772102</td>\n",
       "      <td>51.874459</td>\n",
       "      <td>51.483665</td>\n",
       "      <td>56.006250</td>\n",
       "      <td>45.078703</td>\n",
       "      <td>45.905929</td>\n",
       "      <td>42.615910</td>\n",
       "      <td>51.700615</td>\n",
       "      <td>48.827478</td>\n",
       "      <td>51.513154</td>\n",
       "      <td>52.718433</td>\n",
       "      <td>46.431985</td>\n",
       "      <td>60.394595</td>\n",
       "      <td>45.959437</td>\n",
       "      <td>50.591893</td>\n",
       "      <td>48.271742</td>\n",
       "      <td>33.205282</td>\n",
       "      <td>57.579851</td>\n",
       "      <td>53.003183</td>\n",
       "      <td>46.349754</td>\n",
       "      <td>55.445906</td>\n",
       "      <td>50.113692</td>\n",
       "      <td>49.380812</td>\n",
       "      <td>56.261842</td>\n",
       "      <td>53.649794</td>\n",
       "      <td>49.872229</td>\n",
       "      <td>53.420035</td>\n",
       "      <td>43.490666</td>\n",
       "      <td>44.572732</td>\n",
       "      <td>49.533469</td>\n",
       "      <td>49.627605</td>\n",
       "      <td>43.064446</td>\n",
       "      <td>46.187573</td>\n",
       "      <td>44.254096</td>\n",
       "      <td>59.577622</td>\n",
       "      <td>47.258647</td>\n",
       "      <td>46.863366</td>\n",
       "      <td>42</td>\n",
       "    </tr>\n",
       "    <tr>\n",
       "      <th>4</th>\n",
       "      <td>Basic Resources</td>\n",
       "      <td>52.125193</td>\n",
       "      <td>49.569545</td>\n",
       "      <td>40.660251</td>\n",
       "      <td>47.427788</td>\n",
       "      <td>52.582246</td>\n",
       "      <td>53.102316</td>\n",
       "      <td>53.511922</td>\n",
       "      <td>56.802360</td>\n",
       "      <td>65.412565</td>\n",
       "      <td>28.183765</td>\n",
       "      <td>62.011587</td>\n",
       "      <td>51.483665</td>\n",
       "      <td>53.195905</td>\n",
       "      <td>51.611377</td>\n",
       "      <td>54.813026</td>\n",
       "      <td>51.695187</td>\n",
       "      <td>51.700615</td>\n",
       "      <td>41.471844</td>\n",
       "      <td>51.513154</td>\n",
       "      <td>40.878542</td>\n",
       "      <td>56.511796</td>\n",
       "      <td>28.473159</td>\n",
       "      <td>48.445743</td>\n",
       "      <td>45.807925</td>\n",
       "      <td>63.901416</td>\n",
       "      <td>55.779692</td>\n",
       "      <td>27.121621</td>\n",
       "      <td>55.630968</td>\n",
       "      <td>27.696275</td>\n",
       "      <td>50.719348</td>\n",
       "      <td>49.401459</td>\n",
       "      <td>53.486611</td>\n",
       "      <td>56.261842</td>\n",
       "      <td>35.780180</td>\n",
       "      <td>49.835514</td>\n",
       "      <td>60.038112</td>\n",
       "      <td>63.659072</td>\n",
       "      <td>50.715936</td>\n",
       "      <td>61.240463</td>\n",
       "      <td>51.447790</td>\n",
       "      <td>66.620219</td>\n",
       "      <td>61.653224</td>\n",
       "      <td>47.749856</td>\n",
       "      <td>36.849079</td>\n",
       "      <td>56.101835</td>\n",
       "      <td>37.473591</td>\n",
       "      <td>13</td>\n",
       "    </tr>\n",
       "  </tbody>\n",
       "</table>\n",
       "</div>"
      ],
      "text/plain": [
       "                  name  scores.comm.overall  scores.cust.overall  \\\n",
       "0             JUST 100            67.354312            52.392449   \n",
       "1  Aerospace & Defense            48.974755            49.200088   \n",
       "2  Automobiles & Parts            54.379757            50.388621   \n",
       "3                Banks            48.394606            47.411630   \n",
       "4      Basic Resources            52.125193            49.569545   \n",
       "\n",
       "   scores.env.overall  scores.jobs.overall  scores.mgmt.overall  \\\n",
       "0           64.404017            50.335392            53.797207   \n",
       "1           55.856524            47.840855            55.437564   \n",
       "2           56.889853            49.099062            51.043288   \n",
       "3           53.843374            47.747139            47.192844   \n",
       "4           40.660251            47.427788            52.582246   \n",
       "\n",
       "   scores.prod.overall  scores.worker.overall  scores.comm.abuse  \\\n",
       "0            59.793143              65.540815          83.418517   \n",
       "1            49.134008              54.672038          47.960242   \n",
       "2            44.757255              47.630705          63.574431   \n",
       "3            52.320067              47.274469          38.984897   \n",
       "4            53.102316              53.511922          56.802360   \n",
       "\n",
       "   scores.comm.charity  scores.comm.conflict  scores.comm.local  \\\n",
       "0            69.789017             61.752652          66.490354   \n",
       "1            48.610681             54.487195          43.887632   \n",
       "2            38.470643             66.730935          44.686315   \n",
       "3            46.478586             50.772102          51.874459   \n",
       "4            65.412565             28.183765          62.011587   \n",
       "\n",
       "   scores.comm.oppress  scores.comm.rels  scores.cust.disc  scores.cust.exp  \\\n",
       "0            50.054689         68.113178         51.312686        44.747240   \n",
       "1            47.417962         52.210824         51.611377        49.144043   \n",
       "2            51.259600         46.771786         51.611377        51.983520   \n",
       "3            51.483665         56.006250         45.078703        45.905929   \n",
       "4            51.483665         53.195905         51.611377        54.813026   \n",
       "\n",
       "   scores.cust.fair  scores.cust.label  scores.cust.priv  scores.cust.truth  \\\n",
       "0         51.625812          51.198869         59.381138          50.660988   \n",
       "1         51.695187          51.700615         42.815754          51.513154   \n",
       "2         51.695187          51.700615         46.309923          51.513154   \n",
       "3         42.615910          51.700615         48.827478          51.513154   \n",
       "4         51.695187          51.700615         41.471844          51.513154   \n",
       "\n",
       "   scores.env.efficient  scores.env.mgmt  scores.env.pollution  \\\n",
       "0             74.024316        67.891750             53.738665   \n",
       "1             51.133573        58.692583             57.647907   \n",
       "2             58.189862        57.105663             55.642119   \n",
       "3             52.718433        46.431985             60.394595   \n",
       "4             40.878542        56.511796             28.473159   \n",
       "\n",
       "   scores.jobs.growth  scores.jobs.size  scores.mgmt.integrity  \\\n",
       "0           49.122599         52.265297              55.957864   \n",
       "1           43.039781         55.480761              57.988229   \n",
       "2           47.950694         50.926449              52.617778   \n",
       "3           45.959437         50.591893              48.271742   \n",
       "4           48.445743         45.807925              63.901416   \n",
       "\n",
       "   scores.mgmt.laws  scores.mgmt.profit  scores.mgmt.reporting  \\\n",
       "0         53.859895           57.576667              53.169154   \n",
       "1         55.163918           60.093216              48.085721   \n",
       "2         53.356575           53.042652              55.630968   \n",
       "3         33.205282           57.579851              53.003183   \n",
       "4         55.779692           27.121621              55.630968   \n",
       "\n",
       "   scores.mgmt.return  scores.mgmt.tax  scores.prod.ben  scores.prod.price  \\\n",
       "0           58.421008        49.538041        77.782519          49.828638   \n",
       "1           68.906835        54.382027        46.698422          53.486611   \n",
       "2           46.755134        42.979667        48.918051          53.110181   \n",
       "3           46.349754        55.445906        50.113692          49.380812   \n",
       "4           27.696275        50.719348        49.401459          53.486611   \n",
       "\n",
       "   scores.prod.qual  scores.worker.balance  scores.worker.career  \\\n",
       "0         49.694498              78.673524             72.820551   \n",
       "1         48.550225              54.243621             51.235005   \n",
       "2         35.498449              38.785211             41.331566   \n",
       "3         56.261842              53.649794             49.872229   \n",
       "4         56.261842              35.780180             49.835514   \n",
       "\n",
       "   scores.worker.ceo  scores.worker.fairpay  scores.worker.health  \\\n",
       "0          54.683005              62.359886             68.190295   \n",
       "1          53.776615              56.892966             48.868473   \n",
       "2          32.455098              53.278056             47.410566   \n",
       "3          53.420035              43.490666             44.572732   \n",
       "4          60.038112              63.659072             50.715936   \n",
       "\n",
       "   scores.worker.hiredisc  scores.worker.layoff  scores.worker.living  \\\n",
       "0               60.554687             51.447790             64.078702   \n",
       "1               52.011893             51.447790             67.852262   \n",
       "2               51.494653             51.447790             41.107298   \n",
       "3               49.533469             49.627605             43.064446   \n",
       "4               61.240463             51.447790             66.620219   \n",
       "\n",
       "   scores.worker.open  scores.worker.paydisc  scores.worker.pto  \\\n",
       "0           75.449175              73.625937          68.132231   \n",
       "1           42.762754              46.343516          52.663473   \n",
       "2           51.372776              51.462594          39.635664   \n",
       "3           46.187573              44.254096          59.577622   \n",
       "4           61.653224              47.749856          36.849079   \n",
       "\n",
       "   scores.worker.retire  scores.worker.safe  total  \n",
       "0             64.745864           63.284207    100  \n",
       "1             56.597505           60.627311     18  \n",
       "2             51.054280           55.483747     15  \n",
       "3             47.258647           46.863366     42  \n",
       "4             56.101835           37.473591     13  "
      ]
     },
     "execution_count": 39,
     "metadata": {
      "tags": []
     },
     "output_type": "execute_result"
    }
   ],
   "source": [
    "# show sample of invesement scoring data (by industry)\n",
    "## this dataset is unused\n",
    "jc_industries_df.head()"
   ]
  },
  {
   "cell_type": "code",
   "execution_count": 0,
   "metadata": {
    "colab": {},
    "colab_type": "code",
    "id": "Ifv1J9Uu-kp0",
    "outputId": "f7d91e95-5cd4-4a33-f33f-68b1db9ba250"
   },
   "outputs": [
    {
     "data": {
      "text/plain": [
       "Unnamed: 0    239\n",
       "investor      239\n",
       "date          239\n",
       "stock         239\n",
       "cusip         239\n",
       "usd           239\n",
       "putcall         7\n",
       "pcent         236\n",
       "dtype: int64"
      ]
     },
     "execution_count": 40,
     "metadata": {
      "tags": []
     },
     "output_type": "execute_result"
    }
   ],
   "source": [
    "## how many unique investors does the 13F investment manager sample dataset include?\n",
    "sec13f_sample_count_df = sec13f_sample_df.drop_duplicates(subset=['investor'], keep='first')\n",
    "sec13f_sample_count_df.count()"
   ]
  },
  {
   "cell_type": "code",
   "execution_count": 0,
   "metadata": {
    "colab": {},
    "colab_type": "code",
    "id": "lTflyIzo-kp4",
    "outputId": "12dd2bc2-35c4-4bed-8a7b-5980f60e9b6b"
   },
   "outputs": [
    {
     "name": "stdout",
     "output_type": "stream",
     "text": [
      "Count of unique cusip to stock symbol mappings captured: 13065\n"
     ]
    },
    {
     "data": {
      "text/html": [
       "<div>\n",
       "<style scoped>\n",
       "    .dataframe tbody tr th:only-of-type {\n",
       "        vertical-align: middle;\n",
       "    }\n",
       "\n",
       "    .dataframe tbody tr th {\n",
       "        vertical-align: top;\n",
       "    }\n",
       "\n",
       "    .dataframe thead th {\n",
       "        text-align: right;\n",
       "    }\n",
       "</style>\n",
       "<table border=\"1\" class=\"dataframe\">\n",
       "  <thead>\n",
       "    <tr style=\"text-align: right;\">\n",
       "      <th></th>\n",
       "      <th>cusip</th>\n",
       "      <th>symbol</th>\n",
       "      <th>QUANTITY (FAILS)</th>\n",
       "      <th>PRICE</th>\n",
       "    </tr>\n",
       "  </thead>\n",
       "  <tbody>\n",
       "    <tr>\n",
       "      <th>0</th>\n",
       "      <td>B38564108</td>\n",
       "      <td>EURN</td>\n",
       "      <td>1157.0</td>\n",
       "      <td>9.20</td>\n",
       "    </tr>\n",
       "    <tr>\n",
       "      <th>1</th>\n",
       "      <td>D1668R123</td>\n",
       "      <td>DDAIF</td>\n",
       "      <td>20666.0</td>\n",
       "      <td>64.20</td>\n",
       "    </tr>\n",
       "    <tr>\n",
       "      <th>2</th>\n",
       "      <td>D18190898</td>\n",
       "      <td>DB</td>\n",
       "      <td>168922.0</td>\n",
       "      <td>10.62</td>\n",
       "    </tr>\n",
       "    <tr>\n",
       "      <th>3</th>\n",
       "      <td>G0084W101</td>\n",
       "      <td>ADNT</td>\n",
       "      <td>467.0</td>\n",
       "      <td>49.19</td>\n",
       "    </tr>\n",
       "    <tr>\n",
       "      <th>4</th>\n",
       "      <td>G0132V105</td>\n",
       "      <td>AGMH</td>\n",
       "      <td>461.0</td>\n",
       "      <td>23.90</td>\n",
       "    </tr>\n",
       "  </tbody>\n",
       "</table>\n",
       "</div>"
      ],
      "text/plain": [
       "       cusip symbol  QUANTITY (FAILS)  PRICE\n",
       "0  B38564108   EURN            1157.0   9.20\n",
       "1  D1668R123  DDAIF           20666.0  64.20\n",
       "2  D18190898     DB          168922.0  10.62\n",
       "3  G0084W101   ADNT             467.0  49.19\n",
       "4  G0132V105   AGMH             461.0  23.90"
      ]
     },
     "execution_count": 41,
     "metadata": {
      "tags": []
     },
     "output_type": "execute_result"
    }
   ],
   "source": [
    "# create mapping from cusip to symbol to allow Just Capital and 13F sample data to be joined\n",
    "## load CUSIP to ticker data from \"fail to deliver\" data - we load several monthes of data to capture a greater number of unique investment managers\n",
    "## note: \"fail to deliver\" data records the volume of transactions that a investment manager fails to deliver on\n",
    "filelist = [data_folder +'cnsfails201807a.txt',data_folder + 'cnsfails201807b.txt',data_folder + 'cnsfails201808a.txt', data_folder +'cnsfails201808b.txt',data_folder + 'cnsfails201809a.txt' ,data_folder + 'cnsfails201809b.txt', data_folder +'cnsfails201810a.txt',data_folder + 'cnsfails201810b.txt']\n",
    "cusip_to_ticker_df_raw_data = pd.concat([pd.read_csv(item, sep='|', index_col=False, encoding='latin-1' ) for item in filelist], axis=0)\n",
    "### drop duplicate entries for invesment managers\n",
    "cusip_to_ticker_df = cusip_to_ticker_df_raw_data.drop_duplicates(subset=['CUSIP'], keep='first')\n",
    "## drop unnessasary attributes from dataframe\n",
    "cusip_to_ticker_df = cusip_to_ticker_df.drop(['SETTLEMENT DATE', 'DESCRIPTION'], axis=1)\n",
    "## rename to make joining with 13F sample dataset easier\n",
    "cusip_to_ticker_df = cusip_to_ticker_df.rename(index=str, columns={\"CUSIP\": \"cusip\", \"SYMBOL\": \"symbol\"})\n",
    "\n",
    "print (\"Count of unique cusip to stock symbol mappings captured:\" , cusip_to_ticker_df.count().cusip)\n",
    "\n",
    "\n",
    "# show sample of cusip to stock symbol mappings\n",
    "cusip_to_ticker_df.head()"
   ]
  },
  {
   "cell_type": "code",
   "execution_count": 0,
   "metadata": {
    "colab": {},
    "colab_type": "code",
    "id": "rmJ60thy-kp9"
   },
   "outputs": [],
   "source": [
    "import numpy as np\n",
    "cusip_to_ticker_df['PRICE']=cusip_to_ticker_df['PRICE'].replace('.', np.nan)\n",
    "cusip_to_ticker_df['PRICE']=cusip_to_ticker_df['PRICE'].astype(float)"
   ]
  },
  {
   "cell_type": "code",
   "execution_count": 0,
   "metadata": {
    "colab": {},
    "colab_type": "code",
    "id": "RaYwM0Fd-kqA",
    "outputId": "e9d55534-d1ed-4fa7-ab22-232c86a27e61"
   },
   "outputs": [
    {
     "name": "stdout",
     "output_type": "stream",
     "text": [
      "The data point is considered as being an outlier if it is outside of this interval: [ 0 , 126.47999999999999]\n"
     ]
    },
    {
     "data": {
      "image/png": "[encoded data removed]",
      "text/plain": [
       "<Figure size 432x288 with 1 Axes>"
      ]
     },
     "metadata": {
      "tags": []
     },
     "output_type": "display_data"
    },
    {
     "data": {
      "image/png": "[encoded data removed]",
      "text/plain": [
       "<Figure size 432x288 with 1 Axes>"
      ]
     },
     "metadata": {
      "tags": []
     },
     "output_type": "display_data"
    },
    {
     "data": {
      "image/png": "[encoded data removed]",
      "text/plain": [
       "<Figure size 432x288 with 1 Axes>"
      ]
     },
     "metadata": {
      "tags": []
     },
     "output_type": "display_data"
    }
   ],
   "source": [
    "# We remove outlier because distribution are really biased and not well construct for visualization\n",
    "cusip_to_ticker_df_price_outlier = remove_outlier(cusip_to_ticker_df,'PRICE')\n",
    "cusip_to_ticker_df_price_outlier['PRICE'].plot.box()\n",
    "plt.title('Boxplot of the price per unique cusip without outlier ')\n",
    "plt.show()\n",
    "cusip_to_ticker_df_price_outlier['PRICE'].plot.hist()\n",
    "plt.title('Histogram of the price per unique cusip without outlier ')\n",
    "plt.show()\n",
    "cusip_to_ticker_df_price_outlier['PRICE'].plot.kde()\n",
    "plt.title('KDE Desnity plot of the price per unique cusip without outlier')\n",
    "plt.show()"
   ]
  },
  {
   "cell_type": "code",
   "execution_count": 0,
   "metadata": {
    "colab": {},
    "colab_type": "code",
    "id": "lLrS4_iz-kqJ",
    "outputId": "61b76422-7e9f-4103-de70-a0425c7697f1"
   },
   "outputs": [
    {
     "name": "stdout",
     "output_type": "stream",
     "text": [
      "The data point is considered as being an outlier if it is outside of this interval: [ 0 , 15981.0]\n"
     ]
    },
    {
     "data": {
      "image/png": "[encoded data removed]",
      "text/plain": [
       "<Figure size 432x288 with 1 Axes>"
      ]
     },
     "metadata": {
      "tags": []
     },
     "output_type": "display_data"
    },
    {
     "data": {
      "image/png": "[encoded data removed]",
      "text/plain": [
       "<Figure size 432x288 with 1 Axes>"
      ]
     },
     "metadata": {
      "tags": []
     },
     "output_type": "display_data"
    },
    {
     "data": {
      "image/png": "[encoded data removed]",
      "text/plain": [
       "<Figure size 432x288 with 1 Axes>"
      ]
     },
     "metadata": {
      "tags": []
     },
     "output_type": "display_data"
    }
   ],
   "source": [
    "# We remove outlier because distribution are really biased and not well construct for visualization\n",
    "cusip_to_ticker_df_quantity_outlier = remove_outlier(cusip_to_ticker_df,'QUANTITY (FAILS)')\n",
    "cusip_to_ticker_df_quantity_outlier['QUANTITY (FAILS)'].plot.box()\n",
    "plt.title('Boxplot of the quantity per unique cusip without outlier')\n",
    "plt.show()\n",
    "cusip_to_ticker_df_quantity_outlier['QUANTITY (FAILS)'].plot.hist()\n",
    "plt.title('Histogram of the quantity per unique cusip without outlier')\n",
    "plt.show()\n",
    "cusip_to_ticker_df_quantity_outlier['QUANTITY (FAILS)'].plot.kde()\n",
    "plt.title('KDE Desnity PLOT of the quantity per unique cusip without outlier')\n",
    "plt.show()"
   ]
  },
  {
   "cell_type": "markdown",
   "metadata": {
    "colab_type": "text",
    "id": "yKI3bz8F-kqM"
   },
   "source": [
    "***Comment***\n",
    "Price distribution is centered around 20 and goas from 0 to 120.\n",
    "The quantity is centered around 1000 and goes from 0 to 16000. \n",
    "This two distribution have a wide range but are also centered at the very begining of this range."
   ]
  },
  {
   "cell_type": "code",
   "execution_count": 0,
   "metadata": {
    "colab": {},
    "colab_type": "code",
    "id": "Aus4AzOV-kqN",
    "outputId": "1c78ff42-ecd9-429e-ded7-d210b28d4bfb"
   },
   "outputs": [
    {
     "data": {
      "text/html": [
       "<div>\n",
       "<style scoped>\n",
       "    .dataframe tbody tr th:only-of-type {\n",
       "        vertical-align: middle;\n",
       "    }\n",
       "\n",
       "    .dataframe tbody tr th {\n",
       "        vertical-align: top;\n",
       "    }\n",
       "\n",
       "    .dataframe thead th {\n",
       "        text-align: right;\n",
       "    }\n",
       "</style>\n",
       "<table border=\"1\" class=\"dataframe\">\n",
       "  <thead>\n",
       "    <tr style=\"text-align: right;\">\n",
       "      <th></th>\n",
       "      <th>Unnamed: 0</th>\n",
       "      <th>investor</th>\n",
       "      <th>date</th>\n",
       "      <th>stock</th>\n",
       "      <th>cusip</th>\n",
       "      <th>usd</th>\n",
       "      <th>putcall</th>\n",
       "      <th>pcent</th>\n",
       "      <th>symbol</th>\n",
       "      <th>QUANTITY (FAILS)</th>\n",
       "      <th>PRICE</th>\n",
       "      <th>name</th>\n",
       "      <th>industry</th>\n",
       "      <th>rank.overall</th>\n",
       "      <th>rank.industry</th>\n",
       "      <th>scores.overall</th>\n",
       "      <th>scores.comm.overall</th>\n",
       "      <th>scores.cust.overall</th>\n",
       "      <th>scores.env.overall</th>\n",
       "      <th>scores.jobs.overall</th>\n",
       "      <th>scores.mgmt.overall</th>\n",
       "      <th>scores.prod.overall</th>\n",
       "      <th>scores.worker.overall</th>\n",
       "      <th>scores.comm.abuse</th>\n",
       "      <th>scores.comm.charity</th>\n",
       "      <th>scores.comm.conflict</th>\n",
       "      <th>scores.comm.local</th>\n",
       "      <th>scores.comm.oppress</th>\n",
       "      <th>scores.comm.rels</th>\n",
       "      <th>scores.cust.disc</th>\n",
       "      <th>scores.cust.exp</th>\n",
       "      <th>scores.cust.fair</th>\n",
       "      <th>scores.cust.label</th>\n",
       "      <th>scores.cust.priv</th>\n",
       "      <th>scores.cust.truth</th>\n",
       "      <th>scores.env.efficient</th>\n",
       "      <th>scores.env.mgmt</th>\n",
       "      <th>scores.env.pollution</th>\n",
       "      <th>scores.jobs.growth</th>\n",
       "      <th>scores.jobs.size</th>\n",
       "      <th>scores.mgmt.integrity</th>\n",
       "      <th>scores.mgmt.laws</th>\n",
       "      <th>scores.mgmt.profit</th>\n",
       "      <th>scores.mgmt.reporting</th>\n",
       "      <th>scores.mgmt.return</th>\n",
       "      <th>scores.mgmt.tax</th>\n",
       "      <th>scores.prod.ben</th>\n",
       "      <th>scores.prod.price</th>\n",
       "      <th>scores.prod.qual</th>\n",
       "      <th>scores.worker.balance</th>\n",
       "      <th>scores.worker.career</th>\n",
       "      <th>scores.worker.ceo</th>\n",
       "      <th>scores.worker.fairpay</th>\n",
       "      <th>scores.worker.health</th>\n",
       "      <th>scores.worker.hiredisc</th>\n",
       "      <th>scores.worker.layoff</th>\n",
       "      <th>scores.worker.living</th>\n",
       "      <th>scores.worker.open</th>\n",
       "      <th>scores.worker.paydisc</th>\n",
       "      <th>scores.worker.pto</th>\n",
       "      <th>scores.worker.retire</th>\n",
       "      <th>scores.worker.safe</th>\n",
       "      <th>weighted_score</th>\n",
       "    </tr>\n",
       "  </thead>\n",
       "  <tbody>\n",
       "    <tr>\n",
       "      <th>0</th>\n",
       "      <td>18</td>\n",
       "      <td>KINGDON CAPITAL MANAGEMENT, L.L.C.</td>\n",
       "      <td>2018-08-14</td>\n",
       "      <td>CATERPILLAR INC DEL</td>\n",
       "      <td>149123101</td>\n",
       "      <td>47485.0</td>\n",
       "      <td>Call</td>\n",
       "      <td>3.31</td>\n",
       "      <td>CAT</td>\n",
       "      <td>179.0</td>\n",
       "      <td>135.67</td>\n",
       "      <td>Caterpillar</td>\n",
       "      <td>Commercial Vehicles &amp; Machinery</td>\n",
       "      <td>38.0</td>\n",
       "      <td>2</td>\n",
       "      <td>59.831901</td>\n",
       "      <td>67.430769</td>\n",
       "      <td>50.47313</td>\n",
       "      <td>74.014945</td>\n",
       "      <td>46.12109</td>\n",
       "      <td>55.722024</td>\n",
       "      <td>66.814975</td>\n",
       "      <td>57.604461</td>\n",
       "      <td>95.986075</td>\n",
       "      <td>53.491565</td>\n",
       "      <td>93.745148</td>\n",
       "      <td>39.894218</td>\n",
       "      <td>44.228308</td>\n",
       "      <td>54.909221</td>\n",
       "      <td>51.611377</td>\n",
       "      <td>34.977705</td>\n",
       "      <td>51.695187</td>\n",
       "      <td>51.700615</td>\n",
       "      <td>55.294927</td>\n",
       "      <td>51.513154</td>\n",
       "      <td>105.355625</td>\n",
       "      <td>64.682481</td>\n",
       "      <td>54.94265</td>\n",
       "      <td>39.426035</td>\n",
       "      <td>56.774874</td>\n",
       "      <td>74.903285</td>\n",
       "      <td>54.926841</td>\n",
       "      <td>53.439428</td>\n",
       "      <td>55.630968</td>\n",
       "      <td>39.027498</td>\n",
       "      <td>43.407348</td>\n",
       "      <td>87.669811</td>\n",
       "      <td>53.486611</td>\n",
       "      <td>56.261842</td>\n",
       "      <td>67.283861</td>\n",
       "      <td>65.216196</td>\n",
       "      <td>45.966208</td>\n",
       "      <td>88.577952</td>\n",
       "      <td>49.034696</td>\n",
       "      <td>53.945788</td>\n",
       "      <td>51.44779</td>\n",
       "      <td>49.507095</td>\n",
       "      <td>41.486383</td>\n",
       "      <td>42.687032</td>\n",
       "      <td>51.83143</td>\n",
       "      <td>71.697565</td>\n",
       "      <td>64.434461</td>\n",
       "      <td>1.980436</td>\n",
       "    </tr>\n",
       "    <tr>\n",
       "      <th>1</th>\n",
       "      <td>57</td>\n",
       "      <td>WILBANKS SMITH &amp; THOMAS ASSET MANAGEMENT LLC</td>\n",
       "      <td>2018-08-08</td>\n",
       "      <td>Caterpillar</td>\n",
       "      <td>149123101</td>\n",
       "      <td>12284.0</td>\n",
       "      <td>NaN</td>\n",
       "      <td>0.98</td>\n",
       "      <td>CAT</td>\n",
       "      <td>179.0</td>\n",
       "      <td>135.67</td>\n",
       "      <td>Caterpillar</td>\n",
       "      <td>Commercial Vehicles &amp; Machinery</td>\n",
       "      <td>38.0</td>\n",
       "      <td>2</td>\n",
       "      <td>59.831901</td>\n",
       "      <td>67.430769</td>\n",
       "      <td>50.47313</td>\n",
       "      <td>74.014945</td>\n",
       "      <td>46.12109</td>\n",
       "      <td>55.722024</td>\n",
       "      <td>66.814975</td>\n",
       "      <td>57.604461</td>\n",
       "      <td>95.986075</td>\n",
       "      <td>53.491565</td>\n",
       "      <td>93.745148</td>\n",
       "      <td>39.894218</td>\n",
       "      <td>44.228308</td>\n",
       "      <td>54.909221</td>\n",
       "      <td>51.611377</td>\n",
       "      <td>34.977705</td>\n",
       "      <td>51.695187</td>\n",
       "      <td>51.700615</td>\n",
       "      <td>55.294927</td>\n",
       "      <td>51.513154</td>\n",
       "      <td>105.355625</td>\n",
       "      <td>64.682481</td>\n",
       "      <td>54.94265</td>\n",
       "      <td>39.426035</td>\n",
       "      <td>56.774874</td>\n",
       "      <td>74.903285</td>\n",
       "      <td>54.926841</td>\n",
       "      <td>53.439428</td>\n",
       "      <td>55.630968</td>\n",
       "      <td>39.027498</td>\n",
       "      <td>43.407348</td>\n",
       "      <td>87.669811</td>\n",
       "      <td>53.486611</td>\n",
       "      <td>56.261842</td>\n",
       "      <td>67.283861</td>\n",
       "      <td>65.216196</td>\n",
       "      <td>45.966208</td>\n",
       "      <td>88.577952</td>\n",
       "      <td>49.034696</td>\n",
       "      <td>53.945788</td>\n",
       "      <td>51.44779</td>\n",
       "      <td>49.507095</td>\n",
       "      <td>41.486383</td>\n",
       "      <td>42.687032</td>\n",
       "      <td>51.83143</td>\n",
       "      <td>71.697565</td>\n",
       "      <td>64.434461</td>\n",
       "      <td>0.586353</td>\n",
       "    </tr>\n",
       "    <tr>\n",
       "      <th>2</th>\n",
       "      <td>78</td>\n",
       "      <td>SADOFF INVESTMENT MANAGEMENT LLC</td>\n",
       "      <td>2018-08-03</td>\n",
       "      <td>CATERPILLAR INC DEL</td>\n",
       "      <td>149123101</td>\n",
       "      <td>40627.0</td>\n",
       "      <td>NaN</td>\n",
       "      <td>3.51</td>\n",
       "      <td>CAT</td>\n",
       "      <td>179.0</td>\n",
       "      <td>135.67</td>\n",
       "      <td>Caterpillar</td>\n",
       "      <td>Commercial Vehicles &amp; Machinery</td>\n",
       "      <td>38.0</td>\n",
       "      <td>2</td>\n",
       "      <td>59.831901</td>\n",
       "      <td>67.430769</td>\n",
       "      <td>50.47313</td>\n",
       "      <td>74.014945</td>\n",
       "      <td>46.12109</td>\n",
       "      <td>55.722024</td>\n",
       "      <td>66.814975</td>\n",
       "      <td>57.604461</td>\n",
       "      <td>95.986075</td>\n",
       "      <td>53.491565</td>\n",
       "      <td>93.745148</td>\n",
       "      <td>39.894218</td>\n",
       "      <td>44.228308</td>\n",
       "      <td>54.909221</td>\n",
       "      <td>51.611377</td>\n",
       "      <td>34.977705</td>\n",
       "      <td>51.695187</td>\n",
       "      <td>51.700615</td>\n",
       "      <td>55.294927</td>\n",
       "      <td>51.513154</td>\n",
       "      <td>105.355625</td>\n",
       "      <td>64.682481</td>\n",
       "      <td>54.94265</td>\n",
       "      <td>39.426035</td>\n",
       "      <td>56.774874</td>\n",
       "      <td>74.903285</td>\n",
       "      <td>54.926841</td>\n",
       "      <td>53.439428</td>\n",
       "      <td>55.630968</td>\n",
       "      <td>39.027498</td>\n",
       "      <td>43.407348</td>\n",
       "      <td>87.669811</td>\n",
       "      <td>53.486611</td>\n",
       "      <td>56.261842</td>\n",
       "      <td>67.283861</td>\n",
       "      <td>65.216196</td>\n",
       "      <td>45.966208</td>\n",
       "      <td>88.577952</td>\n",
       "      <td>49.034696</td>\n",
       "      <td>53.945788</td>\n",
       "      <td>51.44779</td>\n",
       "      <td>49.507095</td>\n",
       "      <td>41.486383</td>\n",
       "      <td>42.687032</td>\n",
       "      <td>51.83143</td>\n",
       "      <td>71.697565</td>\n",
       "      <td>64.434461</td>\n",
       "      <td>2.100100</td>\n",
       "    </tr>\n",
       "    <tr>\n",
       "      <th>3</th>\n",
       "      <td>392</td>\n",
       "      <td>UNITED SERVICES AUTOMOBILE ASSOCIATION</td>\n",
       "      <td>2018-08-10</td>\n",
       "      <td>Cisco Systems Inc</td>\n",
       "      <td>149123101</td>\n",
       "      <td>308124.0</td>\n",
       "      <td>NaN</td>\n",
       "      <td>0.82</td>\n",
       "      <td>CAT</td>\n",
       "      <td>179.0</td>\n",
       "      <td>135.67</td>\n",
       "      <td>Caterpillar</td>\n",
       "      <td>Commercial Vehicles &amp; Machinery</td>\n",
       "      <td>38.0</td>\n",
       "      <td>2</td>\n",
       "      <td>59.831901</td>\n",
       "      <td>67.430769</td>\n",
       "      <td>50.47313</td>\n",
       "      <td>74.014945</td>\n",
       "      <td>46.12109</td>\n",
       "      <td>55.722024</td>\n",
       "      <td>66.814975</td>\n",
       "      <td>57.604461</td>\n",
       "      <td>95.986075</td>\n",
       "      <td>53.491565</td>\n",
       "      <td>93.745148</td>\n",
       "      <td>39.894218</td>\n",
       "      <td>44.228308</td>\n",
       "      <td>54.909221</td>\n",
       "      <td>51.611377</td>\n",
       "      <td>34.977705</td>\n",
       "      <td>51.695187</td>\n",
       "      <td>51.700615</td>\n",
       "      <td>55.294927</td>\n",
       "      <td>51.513154</td>\n",
       "      <td>105.355625</td>\n",
       "      <td>64.682481</td>\n",
       "      <td>54.94265</td>\n",
       "      <td>39.426035</td>\n",
       "      <td>56.774874</td>\n",
       "      <td>74.903285</td>\n",
       "      <td>54.926841</td>\n",
       "      <td>53.439428</td>\n",
       "      <td>55.630968</td>\n",
       "      <td>39.027498</td>\n",
       "      <td>43.407348</td>\n",
       "      <td>87.669811</td>\n",
       "      <td>53.486611</td>\n",
       "      <td>56.261842</td>\n",
       "      <td>67.283861</td>\n",
       "      <td>65.216196</td>\n",
       "      <td>45.966208</td>\n",
       "      <td>88.577952</td>\n",
       "      <td>49.034696</td>\n",
       "      <td>53.945788</td>\n",
       "      <td>51.44779</td>\n",
       "      <td>49.507095</td>\n",
       "      <td>41.486383</td>\n",
       "      <td>42.687032</td>\n",
       "      <td>51.83143</td>\n",
       "      <td>71.697565</td>\n",
       "      <td>64.434461</td>\n",
       "      <td>0.490622</td>\n",
       "    </tr>\n",
       "    <tr>\n",
       "      <th>4</th>\n",
       "      <td>90</td>\n",
       "      <td>CHARTER TRUST CO</td>\n",
       "      <td>2018-08-10</td>\n",
       "      <td>CATERPILLAR INC</td>\n",
       "      <td>149123101</td>\n",
       "      <td>11796.0</td>\n",
       "      <td>NaN</td>\n",
       "      <td>1.42</td>\n",
       "      <td>CAT</td>\n",
       "      <td>179.0</td>\n",
       "      <td>135.67</td>\n",
       "      <td>Caterpillar</td>\n",
       "      <td>Commercial Vehicles &amp; Machinery</td>\n",
       "      <td>38.0</td>\n",
       "      <td>2</td>\n",
       "      <td>59.831901</td>\n",
       "      <td>67.430769</td>\n",
       "      <td>50.47313</td>\n",
       "      <td>74.014945</td>\n",
       "      <td>46.12109</td>\n",
       "      <td>55.722024</td>\n",
       "      <td>66.814975</td>\n",
       "      <td>57.604461</td>\n",
       "      <td>95.986075</td>\n",
       "      <td>53.491565</td>\n",
       "      <td>93.745148</td>\n",
       "      <td>39.894218</td>\n",
       "      <td>44.228308</td>\n",
       "      <td>54.909221</td>\n",
       "      <td>51.611377</td>\n",
       "      <td>34.977705</td>\n",
       "      <td>51.695187</td>\n",
       "      <td>51.700615</td>\n",
       "      <td>55.294927</td>\n",
       "      <td>51.513154</td>\n",
       "      <td>105.355625</td>\n",
       "      <td>64.682481</td>\n",
       "      <td>54.94265</td>\n",
       "      <td>39.426035</td>\n",
       "      <td>56.774874</td>\n",
       "      <td>74.903285</td>\n",
       "      <td>54.926841</td>\n",
       "      <td>53.439428</td>\n",
       "      <td>55.630968</td>\n",
       "      <td>39.027498</td>\n",
       "      <td>43.407348</td>\n",
       "      <td>87.669811</td>\n",
       "      <td>53.486611</td>\n",
       "      <td>56.261842</td>\n",
       "      <td>67.283861</td>\n",
       "      <td>65.216196</td>\n",
       "      <td>45.966208</td>\n",
       "      <td>88.577952</td>\n",
       "      <td>49.034696</td>\n",
       "      <td>53.945788</td>\n",
       "      <td>51.44779</td>\n",
       "      <td>49.507095</td>\n",
       "      <td>41.486383</td>\n",
       "      <td>42.687032</td>\n",
       "      <td>51.83143</td>\n",
       "      <td>71.697565</td>\n",
       "      <td>64.434461</td>\n",
       "      <td>0.849613</td>\n",
       "    </tr>\n",
       "  </tbody>\n",
       "</table>\n",
       "</div>"
      ],
      "text/plain": [
       "   Unnamed: 0                                      investor        date  \\\n",
       "0          18            KINGDON CAPITAL MANAGEMENT, L.L.C.  2018-08-14   \n",
       "1          57  WILBANKS SMITH & THOMAS ASSET MANAGEMENT LLC  2018-08-08   \n",
       "2          78              SADOFF INVESTMENT MANAGEMENT LLC  2018-08-03   \n",
       "3         392        UNITED SERVICES AUTOMOBILE ASSOCIATION  2018-08-10   \n",
       "4          90                              CHARTER TRUST CO  2018-08-10   \n",
       "\n",
       "                 stock      cusip       usd putcall  pcent symbol  \\\n",
       "0  CATERPILLAR INC DEL  149123101   47485.0    Call   3.31    CAT   \n",
       "1          Caterpillar  149123101   12284.0     NaN   0.98    CAT   \n",
       "2  CATERPILLAR INC DEL  149123101   40627.0     NaN   3.51    CAT   \n",
       "3    Cisco Systems Inc  149123101  308124.0     NaN   0.82    CAT   \n",
       "4      CATERPILLAR INC  149123101   11796.0     NaN   1.42    CAT   \n",
       "\n",
       "   QUANTITY (FAILS)   PRICE         name                         industry  \\\n",
       "0             179.0  135.67  Caterpillar  Commercial Vehicles & Machinery   \n",
       "1             179.0  135.67  Caterpillar  Commercial Vehicles & Machinery   \n",
       "2             179.0  135.67  Caterpillar  Commercial Vehicles & Machinery   \n",
       "3             179.0  135.67  Caterpillar  Commercial Vehicles & Machinery   \n",
       "4             179.0  135.67  Caterpillar  Commercial Vehicles & Machinery   \n",
       "\n",
       "   rank.overall  rank.industry  scores.overall  scores.comm.overall  \\\n",
       "0          38.0              2       59.831901            67.430769   \n",
       "1          38.0              2       59.831901            67.430769   \n",
       "2          38.0              2       59.831901            67.430769   \n",
       "3          38.0              2       59.831901            67.430769   \n",
       "4          38.0              2       59.831901            67.430769   \n",
       "\n",
       "   scores.cust.overall  scores.env.overall  scores.jobs.overall  \\\n",
       "0             50.47313           74.014945             46.12109   \n",
       "1             50.47313           74.014945             46.12109   \n",
       "2             50.47313           74.014945             46.12109   \n",
       "3             50.47313           74.014945             46.12109   \n",
       "4             50.47313           74.014945             46.12109   \n",
       "\n",
       "   scores.mgmt.overall  scores.prod.overall  scores.worker.overall  \\\n",
       "0            55.722024            66.814975              57.604461   \n",
       "1            55.722024            66.814975              57.604461   \n",
       "2            55.722024            66.814975              57.604461   \n",
       "3            55.722024            66.814975              57.604461   \n",
       "4            55.722024            66.814975              57.604461   \n",
       "\n",
       "   scores.comm.abuse  scores.comm.charity  scores.comm.conflict  \\\n",
       "0          95.986075            53.491565             93.745148   \n",
       "1          95.986075            53.491565             93.745148   \n",
       "2          95.986075            53.491565             93.745148   \n",
       "3          95.986075            53.491565             93.745148   \n",
       "4          95.986075            53.491565             93.745148   \n",
       "\n",
       "   scores.comm.local  scores.comm.oppress  scores.comm.rels  scores.cust.disc  \\\n",
       "0          39.894218            44.228308         54.909221         51.611377   \n",
       "1          39.894218            44.228308         54.909221         51.611377   \n",
       "2          39.894218            44.228308         54.909221         51.611377   \n",
       "3          39.894218            44.228308         54.909221         51.611377   \n",
       "4          39.894218            44.228308         54.909221         51.611377   \n",
       "\n",
       "   scores.cust.exp  scores.cust.fair  scores.cust.label  scores.cust.priv  \\\n",
       "0        34.977705         51.695187          51.700615         55.294927   \n",
       "1        34.977705         51.695187          51.700615         55.294927   \n",
       "2        34.977705         51.695187          51.700615         55.294927   \n",
       "3        34.977705         51.695187          51.700615         55.294927   \n",
       "4        34.977705         51.695187          51.700615         55.294927   \n",
       "\n",
       "   scores.cust.truth  scores.env.efficient  scores.env.mgmt  \\\n",
       "0          51.513154            105.355625        64.682481   \n",
       "1          51.513154            105.355625        64.682481   \n",
       "2          51.513154            105.355625        64.682481   \n",
       "3          51.513154            105.355625        64.682481   \n",
       "4          51.513154            105.355625        64.682481   \n",
       "\n",
       "   scores.env.pollution  scores.jobs.growth  scores.jobs.size  \\\n",
       "0              54.94265           39.426035         56.774874   \n",
       "1              54.94265           39.426035         56.774874   \n",
       "2              54.94265           39.426035         56.774874   \n",
       "3              54.94265           39.426035         56.774874   \n",
       "4              54.94265           39.426035         56.774874   \n",
       "\n",
       "   scores.mgmt.integrity  scores.mgmt.laws  scores.mgmt.profit  \\\n",
       "0              74.903285         54.926841           53.439428   \n",
       "1              74.903285         54.926841           53.439428   \n",
       "2              74.903285         54.926841           53.439428   \n",
       "3              74.903285         54.926841           53.439428   \n",
       "4              74.903285         54.926841           53.439428   \n",
       "\n",
       "   scores.mgmt.reporting  scores.mgmt.return  scores.mgmt.tax  \\\n",
       "0              55.630968           39.027498        43.407348   \n",
       "1              55.630968           39.027498        43.407348   \n",
       "2              55.630968           39.027498        43.407348   \n",
       "3              55.630968           39.027498        43.407348   \n",
       "4              55.630968           39.027498        43.407348   \n",
       "\n",
       "   scores.prod.ben  scores.prod.price  scores.prod.qual  \\\n",
       "0        87.669811          53.486611         56.261842   \n",
       "1        87.669811          53.486611         56.261842   \n",
       "2        87.669811          53.486611         56.261842   \n",
       "3        87.669811          53.486611         56.261842   \n",
       "4        87.669811          53.486611         56.261842   \n",
       "\n",
       "   scores.worker.balance  scores.worker.career  scores.worker.ceo  \\\n",
       "0              67.283861             65.216196          45.966208   \n",
       "1              67.283861             65.216196          45.966208   \n",
       "2              67.283861             65.216196          45.966208   \n",
       "3              67.283861             65.216196          45.966208   \n",
       "4              67.283861             65.216196          45.966208   \n",
       "\n",
       "   scores.worker.fairpay  scores.worker.health  scores.worker.hiredisc  \\\n",
       "0              88.577952             49.034696               53.945788   \n",
       "1              88.577952             49.034696               53.945788   \n",
       "2              88.577952             49.034696               53.945788   \n",
       "3              88.577952             49.034696               53.945788   \n",
       "4              88.577952             49.034696               53.945788   \n",
       "\n",
       "   scores.worker.layoff  scores.worker.living  scores.worker.open  \\\n",
       "0              51.44779             49.507095           41.486383   \n",
       "1              51.44779             49.507095           41.486383   \n",
       "2              51.44779             49.507095           41.486383   \n",
       "3              51.44779             49.507095           41.486383   \n",
       "4              51.44779             49.507095           41.486383   \n",
       "\n",
       "   scores.worker.paydisc  scores.worker.pto  scores.worker.retire  \\\n",
       "0              42.687032           51.83143             71.697565   \n",
       "1              42.687032           51.83143             71.697565   \n",
       "2              42.687032           51.83143             71.697565   \n",
       "3              42.687032           51.83143             71.697565   \n",
       "4              42.687032           51.83143             71.697565   \n",
       "\n",
       "   scores.worker.safe  weighted_score  \n",
       "0           64.434461        1.980436  \n",
       "1           64.434461        0.586353  \n",
       "2           64.434461        2.100100  \n",
       "3           64.434461        0.490622  \n",
       "4           64.434461        0.849613  "
      ]
     },
     "execution_count": 45,
     "metadata": {
      "tags": []
     },
     "output_type": "execute_result"
    }
   ],
   "source": [
    "# for every investment manager asset holding entry in sec13f_sample_df, \n",
    "# if the \"stock\" matches a company scored by the Just Capital dataset, merge the datasets together\n",
    "## do left outer join\n",
    "merged_df = pd.merge(sec13f_sample_df, cusip_to_ticker_df, how=\"inner\", on=\"cusip\")\n",
    "merged_df = pd.merge(merged_df, jc_companies_df, how=\"inner\", on = 'symbol')\n",
    "## create weighted_score attribute\n",
    "merged_df[\"weighted_score\"] = merged_df['pcent']/100*merged_df['scores.overall']\n",
    "\n",
    "# show merged dataset\n",
    "merged_df.head()\n"
   ]
  },
  {
   "cell_type": "code",
   "execution_count": 0,
   "metadata": {
    "colab": {},
    "colab_type": "code",
    "id": "_F-Uoj3p-kqR",
    "outputId": "001496e4-5975-43ff-a315-bd3c5e1c03b9",
    "scrolled": true
   },
   "outputs": [
    {
     "data": {
      "text/html": [
       "<div>\n",
       "<style scoped>\n",
       "    .dataframe tbody tr th:only-of-type {\n",
       "        vertical-align: middle;\n",
       "    }\n",
       "\n",
       "    .dataframe tbody tr th {\n",
       "        vertical-align: top;\n",
       "    }\n",
       "\n",
       "    .dataframe thead th {\n",
       "        text-align: right;\n",
       "    }\n",
       "</style>\n",
       "<table border=\"1\" class=\"dataframe\">\n",
       "  <thead>\n",
       "    <tr style=\"text-align: right;\">\n",
       "      <th></th>\n",
       "      <th>investor</th>\n",
       "      <th>weighted_score</th>\n",
       "    </tr>\n",
       "  </thead>\n",
       "  <tbody>\n",
       "    <tr>\n",
       "      <th>153</th>\n",
       "      <td>POLEN CAPITAL MANAGEMENT LLC</td>\n",
       "      <td>51.895091</td>\n",
       "    </tr>\n",
       "    <tr>\n",
       "      <th>115</th>\n",
       "      <td>MASTRAPASQUA ASSET MANAGEMENT INC</td>\n",
       "      <td>50.177212</td>\n",
       "    </tr>\n",
       "    <tr>\n",
       "      <th>127</th>\n",
       "      <td>NEW ENGLAND ASSET MANAGEMENT INC</td>\n",
       "      <td>50.086075</td>\n",
       "    </tr>\n",
       "    <tr>\n",
       "      <th>33</th>\n",
       "      <td>CALEDONIA INVESTMENTS PLC</td>\n",
       "      <td>46.766679</td>\n",
       "    </tr>\n",
       "    <tr>\n",
       "      <th>118</th>\n",
       "      <td>MCDONALD CAPITAL INVESTORS INC/CA</td>\n",
       "      <td>43.774288</td>\n",
       "    </tr>\n",
       "    <tr>\n",
       "      <th>214</th>\n",
       "      <td>WELLCOME TRUST LTD (THE) as trustee of the WEL...</td>\n",
       "      <td>43.174845</td>\n",
       "    </tr>\n",
       "    <tr>\n",
       "      <th>106</th>\n",
       "      <td>LATEEF INVESTMENT MANAGEMENT, L.P.</td>\n",
       "      <td>42.489008</td>\n",
       "    </tr>\n",
       "    <tr>\n",
       "      <th>113</th>\n",
       "      <td>MARSICO CAPITAL MANAGEMENT LLC</td>\n",
       "      <td>42.399781</td>\n",
       "    </tr>\n",
       "    <tr>\n",
       "      <th>45</th>\n",
       "      <td>COMPASS CAPITAL MANAGEMENT INC/</td>\n",
       "      <td>39.661189</td>\n",
       "    </tr>\n",
       "    <tr>\n",
       "      <th>170</th>\n",
       "      <td>SALEM CAPITAL MANAGEMENT INC</td>\n",
       "      <td>39.092250</td>\n",
       "    </tr>\n",
       "    <tr>\n",
       "      <th>63</th>\n",
       "      <td>EDMP, INC.</td>\n",
       "      <td>38.373386</td>\n",
       "    </tr>\n",
       "    <tr>\n",
       "      <th>169</th>\n",
       "      <td>SADOFF INVESTMENT MANAGEMENT LLC</td>\n",
       "      <td>37.681106</td>\n",
       "    </tr>\n",
       "    <tr>\n",
       "      <th>62</th>\n",
       "      <td>EDGAR LOMAX CO/VA</td>\n",
       "      <td>36.543173</td>\n",
       "    </tr>\n",
       "    <tr>\n",
       "      <th>200</th>\n",
       "      <td>Third Point LLC</td>\n",
       "      <td>36.520986</td>\n",
       "    </tr>\n",
       "    <tr>\n",
       "      <th>15</th>\n",
       "      <td>AVENIR CORP</td>\n",
       "      <td>36.257275</td>\n",
       "    </tr>\n",
       "    <tr>\n",
       "      <th>47</th>\n",
       "      <td>CORTLAND ASSOCIATES INC/MO</td>\n",
       "      <td>35.626346</td>\n",
       "    </tr>\n",
       "    <tr>\n",
       "      <th>53</th>\n",
       "      <td>DAVIS SELECTED ADVISERS</td>\n",
       "      <td>34.796949</td>\n",
       "    </tr>\n",
       "    <tr>\n",
       "      <th>174</th>\n",
       "      <td>SAYBROOK CAPITAL /NC</td>\n",
       "      <td>34.271085</td>\n",
       "    </tr>\n",
       "    <tr>\n",
       "      <th>56</th>\n",
       "      <td>DILLON &amp; ASSOCIATES INC</td>\n",
       "      <td>33.925613</td>\n",
       "    </tr>\n",
       "    <tr>\n",
       "      <th>1</th>\n",
       "      <td>ACADEMY CAPITAL MANAGEMENT INC/TX</td>\n",
       "      <td>33.391516</td>\n",
       "    </tr>\n",
       "    <tr>\n",
       "      <th>11</th>\n",
       "      <td>ARMSTRONG SHAW ASSOCIATES INC/CT</td>\n",
       "      <td>33.032654</td>\n",
       "    </tr>\n",
       "    <tr>\n",
       "      <th>109</th>\n",
       "      <td>LVM CAPITAL MANAGEMENT LTD/MI</td>\n",
       "      <td>32.876972</td>\n",
       "    </tr>\n",
       "    <tr>\n",
       "      <th>173</th>\n",
       "      <td>SANDS CAPITAL MANAGEMENT, LLC</td>\n",
       "      <td>32.676738</td>\n",
       "    </tr>\n",
       "    <tr>\n",
       "      <th>202</th>\n",
       "      <td>UNITED FIRE GROUP INC</td>\n",
       "      <td>32.530642</td>\n",
       "    </tr>\n",
       "    <tr>\n",
       "      <th>102</th>\n",
       "      <td>KDI CAPITAL PARTNERS LLC</td>\n",
       "      <td>30.718163</td>\n",
       "    </tr>\n",
       "    <tr>\n",
       "      <th>116</th>\n",
       "      <td>MATRIX ASSET ADVISORS INC/NY</td>\n",
       "      <td>30.668742</td>\n",
       "    </tr>\n",
       "    <tr>\n",
       "      <th>74</th>\n",
       "      <td>FISHMAN JAY A LTD/MI</td>\n",
       "      <td>30.084225</td>\n",
       "    </tr>\n",
       "    <tr>\n",
       "      <th>67</th>\n",
       "      <td>EXCALIBUR MANAGEMENT CORP</td>\n",
       "      <td>29.219226</td>\n",
       "    </tr>\n",
       "    <tr>\n",
       "      <th>39</th>\n",
       "      <td>CLARK ESTATES INC/NY</td>\n",
       "      <td>29.082612</td>\n",
       "    </tr>\n",
       "    <tr>\n",
       "      <th>31</th>\n",
       "      <td>Brahman Capital Corp.</td>\n",
       "      <td>28.379293</td>\n",
       "    </tr>\n",
       "    <tr>\n",
       "      <th>...</th>\n",
       "      <td>...</td>\n",
       "      <td>...</td>\n",
       "    </tr>\n",
       "    <tr>\n",
       "      <th>208</th>\n",
       "      <td>VICTORY CAPITAL MANAGEMENT INC</td>\n",
       "      <td>4.811118</td>\n",
       "    </tr>\n",
       "    <tr>\n",
       "      <th>55</th>\n",
       "      <td>DEPRINCE RACE &amp; ZOLLO INC</td>\n",
       "      <td>4.643785</td>\n",
       "    </tr>\n",
       "    <tr>\n",
       "      <th>133</th>\n",
       "      <td>ORACLE INVESTMENT MANAGEMENT INC</td>\n",
       "      <td>4.562814</td>\n",
       "    </tr>\n",
       "    <tr>\n",
       "      <th>110</th>\n",
       "      <td>MAI Capital Management</td>\n",
       "      <td>4.437002</td>\n",
       "    </tr>\n",
       "    <tr>\n",
       "      <th>27</th>\n",
       "      <td>BRIDGES INVESTMENT MANAGEMENT INC</td>\n",
       "      <td>4.267981</td>\n",
       "    </tr>\n",
       "    <tr>\n",
       "      <th>189</th>\n",
       "      <td>SYMPHONY ASSET MANAGEMENT LLC</td>\n",
       "      <td>4.216266</td>\n",
       "    </tr>\n",
       "    <tr>\n",
       "      <th>71</th>\n",
       "      <td>FINANCIAL &amp; INVESTMENT MANAGEMENT GROUP LTD</td>\n",
       "      <td>4.127699</td>\n",
       "    </tr>\n",
       "    <tr>\n",
       "      <th>207</th>\n",
       "      <td>VAUGHAN NELSON INVESTMENT MANAGEMENT, L.P.</td>\n",
       "      <td>4.025132</td>\n",
       "    </tr>\n",
       "    <tr>\n",
       "      <th>54</th>\n",
       "      <td>DEERFIELD MANAGEMENT COMPANY, L.P. (SERIES C)</td>\n",
       "      <td>3.719644</td>\n",
       "    </tr>\n",
       "    <tr>\n",
       "      <th>126</th>\n",
       "      <td>NEW AMSTERDAM PARTNERS LLC/NY</td>\n",
       "      <td>3.695082</td>\n",
       "    </tr>\n",
       "    <tr>\n",
       "      <th>203</th>\n",
       "      <td>UNITED SERVICES AUTOMOBILE ASSOCIATION</td>\n",
       "      <td>3.684680</td>\n",
       "    </tr>\n",
       "    <tr>\n",
       "      <th>186</th>\n",
       "      <td>SPIRIT OF AMERICA MANAGEMENT CORP/NY</td>\n",
       "      <td>3.674246</td>\n",
       "    </tr>\n",
       "    <tr>\n",
       "      <th>140</th>\n",
       "      <td>PALISADE CAPITAL MANAGEMENT LLC/NJ</td>\n",
       "      <td>3.544660</td>\n",
       "    </tr>\n",
       "    <tr>\n",
       "      <th>57</th>\n",
       "      <td>DIMENSION CAPITAL MANAGEMENT LLC</td>\n",
       "      <td>3.130153</td>\n",
       "    </tr>\n",
       "    <tr>\n",
       "      <th>125</th>\n",
       "      <td>NEUMEIER POMA INVESTMENT COUNSEL LLC</td>\n",
       "      <td>2.876504</td>\n",
       "    </tr>\n",
       "    <tr>\n",
       "      <th>87</th>\n",
       "      <td>HBK INVESTMENTS L P</td>\n",
       "      <td>2.795776</td>\n",
       "    </tr>\n",
       "    <tr>\n",
       "      <th>164</th>\n",
       "      <td>ROOF EIDAM &amp; MAYCOCK/ADV</td>\n",
       "      <td>2.383079</td>\n",
       "    </tr>\n",
       "    <tr>\n",
       "      <th>46</th>\n",
       "      <td>CONTRARIAN CAPITAL MANAGEMENT, L.L.C.</td>\n",
       "      <td>2.298912</td>\n",
       "    </tr>\n",
       "    <tr>\n",
       "      <th>190</th>\n",
       "      <td>Sand Hill Global Advisors, LLC</td>\n",
       "      <td>2.152014</td>\n",
       "    </tr>\n",
       "    <tr>\n",
       "      <th>191</th>\n",
       "      <td>TD ASSET MANAGEMENT INC</td>\n",
       "      <td>2.126855</td>\n",
       "    </tr>\n",
       "    <tr>\n",
       "      <th>28</th>\n",
       "      <td>BROOKFIELD ASSET MANAGEMENT INC.</td>\n",
       "      <td>1.716937</td>\n",
       "    </tr>\n",
       "    <tr>\n",
       "      <th>84</th>\n",
       "      <td>GRANAHAN INVESTMENT MANAGEMENT INC/MA</td>\n",
       "      <td>1.533825</td>\n",
       "    </tr>\n",
       "    <tr>\n",
       "      <th>183</th>\n",
       "      <td>SMITHFIELD TRUST CO</td>\n",
       "      <td>1.377828</td>\n",
       "    </tr>\n",
       "    <tr>\n",
       "      <th>143</th>\n",
       "      <td>PARADIGM CAPITAL MANAGEMENT INC/NY</td>\n",
       "      <td>1.153102</td>\n",
       "    </tr>\n",
       "    <tr>\n",
       "      <th>105</th>\n",
       "      <td>LADENBURG THALMANN FINANCIAL SERVICES INC.</td>\n",
       "      <td>1.115443</td>\n",
       "    </tr>\n",
       "    <tr>\n",
       "      <th>90</th>\n",
       "      <td>HONKAMP KRUEGER FINANCIAL SERVICES, INC.</td>\n",
       "      <td>1.110752</td>\n",
       "    </tr>\n",
       "    <tr>\n",
       "      <th>204</th>\n",
       "      <td>UNIVERSITY OF TEXAS/TEXAS AM INVESTMENT MANAGM...</td>\n",
       "      <td>0.960783</td>\n",
       "    </tr>\n",
       "    <tr>\n",
       "      <th>182</th>\n",
       "      <td>SKYLINE ASSET MANAGEMENT LP</td>\n",
       "      <td>0.896352</td>\n",
       "    </tr>\n",
       "    <tr>\n",
       "      <th>196</th>\n",
       "      <td>TMD &amp; ASSOCIATES, INC</td>\n",
       "      <td>0.842902</td>\n",
       "    </tr>\n",
       "    <tr>\n",
       "      <th>167</th>\n",
       "      <td>ROYAL BANK OF CANADA</td>\n",
       "      <td>0.311844</td>\n",
       "    </tr>\n",
       "  </tbody>\n",
       "</table>\n",
       "<p>218 rows × 2 columns</p>\n",
       "</div>"
      ],
      "text/plain": [
       "                                              investor  weighted_score\n",
       "153                       POLEN CAPITAL MANAGEMENT LLC       51.895091\n",
       "115                  MASTRAPASQUA ASSET MANAGEMENT INC       50.177212\n",
       "127                   NEW ENGLAND ASSET MANAGEMENT INC       50.086075\n",
       "33                           CALEDONIA INVESTMENTS PLC       46.766679\n",
       "118                  MCDONALD CAPITAL INVESTORS INC/CA       43.774288\n",
       "214  WELLCOME TRUST LTD (THE) as trustee of the WEL...       43.174845\n",
       "106                 LATEEF INVESTMENT MANAGEMENT, L.P.       42.489008\n",
       "113                     MARSICO CAPITAL MANAGEMENT LLC       42.399781\n",
       "45                     COMPASS CAPITAL MANAGEMENT INC/       39.661189\n",
       "170                       SALEM CAPITAL MANAGEMENT INC       39.092250\n",
       "63                                          EDMP, INC.       38.373386\n",
       "169                   SADOFF INVESTMENT MANAGEMENT LLC       37.681106\n",
       "62                                   EDGAR LOMAX CO/VA       36.543173\n",
       "200                                    Third Point LLC       36.520986\n",
       "15                                         AVENIR CORP       36.257275\n",
       "47                          CORTLAND ASSOCIATES INC/MO       35.626346\n",
       "53                             DAVIS SELECTED ADVISERS       34.796949\n",
       "174                               SAYBROOK CAPITAL /NC       34.271085\n",
       "56                             DILLON & ASSOCIATES INC       33.925613\n",
       "1                    ACADEMY CAPITAL MANAGEMENT INC/TX       33.391516\n",
       "11                    ARMSTRONG SHAW ASSOCIATES INC/CT       33.032654\n",
       "109                      LVM CAPITAL MANAGEMENT LTD/MI       32.876972\n",
       "173                      SANDS CAPITAL MANAGEMENT, LLC       32.676738\n",
       "202                              UNITED FIRE GROUP INC       32.530642\n",
       "102                           KDI CAPITAL PARTNERS LLC       30.718163\n",
       "116                       MATRIX ASSET ADVISORS INC/NY       30.668742\n",
       "74                                FISHMAN JAY A LTD/MI       30.084225\n",
       "67                           EXCALIBUR MANAGEMENT CORP       29.219226\n",
       "39                                CLARK ESTATES INC/NY       29.082612\n",
       "31                               Brahman Capital Corp.       28.379293\n",
       "..                                                 ...             ...\n",
       "208                     VICTORY CAPITAL MANAGEMENT INC        4.811118\n",
       "55                           DEPRINCE RACE & ZOLLO INC        4.643785\n",
       "133                   ORACLE INVESTMENT MANAGEMENT INC        4.562814\n",
       "110                             MAI Capital Management        4.437002\n",
       "27                   BRIDGES INVESTMENT MANAGEMENT INC        4.267981\n",
       "189                      SYMPHONY ASSET MANAGEMENT LLC        4.216266\n",
       "71         FINANCIAL & INVESTMENT MANAGEMENT GROUP LTD        4.127699\n",
       "207         VAUGHAN NELSON INVESTMENT MANAGEMENT, L.P.        4.025132\n",
       "54       DEERFIELD MANAGEMENT COMPANY, L.P. (SERIES C)        3.719644\n",
       "126                      NEW AMSTERDAM PARTNERS LLC/NY        3.695082\n",
       "203             UNITED SERVICES AUTOMOBILE ASSOCIATION        3.684680\n",
       "186               SPIRIT OF AMERICA MANAGEMENT CORP/NY        3.674246\n",
       "140                 PALISADE CAPITAL MANAGEMENT LLC/NJ        3.544660\n",
       "57                    DIMENSION CAPITAL MANAGEMENT LLC        3.130153\n",
       "125               NEUMEIER POMA INVESTMENT COUNSEL LLC        2.876504\n",
       "87                                 HBK INVESTMENTS L P        2.795776\n",
       "164                           ROOF EIDAM & MAYCOCK/ADV        2.383079\n",
       "46               CONTRARIAN CAPITAL MANAGEMENT, L.L.C.        2.298912\n",
       "190                     Sand Hill Global Advisors, LLC        2.152014\n",
       "191                            TD ASSET MANAGEMENT INC        2.126855\n",
       "28                    BROOKFIELD ASSET MANAGEMENT INC.        1.716937\n",
       "84               GRANAHAN INVESTMENT MANAGEMENT INC/MA        1.533825\n",
       "183                                SMITHFIELD TRUST CO        1.377828\n",
       "143                 PARADIGM CAPITAL MANAGEMENT INC/NY        1.153102\n",
       "105         LADENBURG THALMANN FINANCIAL SERVICES INC.        1.115443\n",
       "90            HONKAMP KRUEGER FINANCIAL SERVICES, INC.        1.110752\n",
       "204  UNIVERSITY OF TEXAS/TEXAS AM INVESTMENT MANAGM...        0.960783\n",
       "182                        SKYLINE ASSET MANAGEMENT LP        0.896352\n",
       "196                              TMD & ASSOCIATES, INC        0.842902\n",
       "167                               ROYAL BANK OF CANADA        0.311844\n",
       "\n",
       "[218 rows x 2 columns]"
      ]
     },
     "execution_count": 46,
     "metadata": {
      "tags": []
     },
     "output_type": "execute_result"
    }
   ],
   "source": [
    "# group merged dataset by investor, and sum the investment weighted_score entries by investor\n",
    "investor_score_df = merged_df.groupby(['investor'])['weighted_score'].sum().reset_index()\n",
    "investor_score_df = investor_score_df.sort_values('weighted_score', ascending=False)\n",
    "\n",
    "# show investor score data\n",
    "investor_score_df"
   ]
  },
  {
   "cell_type": "code",
   "execution_count": 0,
   "metadata": {
    "colab": {},
    "colab_type": "code",
    "id": "Dv8cvarH-kqh",
    "outputId": "f8f0fb46-89d7-4bbc-c443-6ecd7247011f"
   },
   "outputs": [
    {
     "data": {
      "image/png": "[encoded data removed]",
      "text/plain": [
       "<Figure size 432x288 with 1 Axes>"
      ]
     },
     "metadata": {
      "tags": []
     },
     "output_type": "display_data"
    },
    {
     "data": {
      "image/png": "[encoded data removed]",
      "text/plain": [
       "<Figure size 432x288 with 1 Axes>"
      ]
     },
     "metadata": {
      "tags": []
     },
     "output_type": "display_data"
    },
    {
     "data": {
      "image/png": "[encoded data removed]",
      "text/plain": [
       "<Figure size 432x288 with 1 Axes>"
      ]
     },
     "metadata": {
      "tags": []
     },
     "output_type": "display_data"
    }
   ],
   "source": [
    "investor_score_df.plot.box()\n",
    "plt.title('Boxplot of the weighted social score per investor ')\n",
    "plt.show()\n",
    "investor_score_df.plot.hist()\n",
    "plt.title('Histogram of the weighted social score per investor')\n",
    "plt.show()\n",
    "investor_score_df.plot.kde()\n",
    "plt.title('KDE Desnity plot of the weighted social score per investor')\n",
    "plt.show()"
   ]
  },
  {
   "cell_type": "markdown",
   "metadata": {
    "colab_type": "text",
    "id": "Kdx1FnLS-kqk"
   },
   "source": [
    "***Comment :***\n",
    "In this distribution, we have not found any outliers which means that our data can be nicely interpret. We conclude that the overall weigthed score of investor about a social good ranking is centered around 15. The majority of the scores are in a range of 0 to 40. There is no negative values which make sense. There are 3 investors that are above the q3 and thus that can be considered as better in a term of social ranking far away from the other. "
   ]
  },
  {
   "cell_type": "code",
   "execution_count": 0,
   "metadata": {
    "colab": {},
    "colab_type": "code",
    "id": "xF-FQYrc-kqm",
    "outputId": "fc9236fe-675c-4612-c4ed-e034b72fb4b5"
   },
   "outputs": [
    {
     "name": "stdout",
     "output_type": "stream",
     "text": [
      "Number of investment managers included in investor ranking produced: 218\n",
      "This represents the following percentage of investment managers from our sample 13F dataset: 0.9121338912133892\n"
     ]
    }
   ],
   "source": [
    "print (\"Number of investment managers included in investor ranking produced:\" , investor_score_df.count().investor)\n",
    "\n",
    "\n",
    "print (\"This represents the following percentage of investment managers from our sample 13F dataset:\" , investor_score_df.count().investor/sec13f_sample_count_df.count().investor)\n"
   ]
  },
  {
   "cell_type": "markdown",
   "metadata": {
    "colab_type": "text",
    "id": "TsJrUevJ-kqr"
   },
   "source": [
    "# Post-Milestone 2 Work: Milestone 3\n",
    "---\n",
    "### Description of Milestone 3\n"
   ]
  },
  {
   "cell_type": "markdown",
   "metadata": {
    "colab_type": "text",
    "id": "1uoymXr-AaFb"
   },
   "source": [
    "Our third Milestone was to create a data story in the form of a blog, with compelling visual components that helped to tell a story about the nature of social impact in the investment portfolios of large institutional asset managers. This story is fully documented in this notebook but also in the [README](https://github.com/dcleres/investing_for_social_good/blob/master/README.md) of the project and the [project issues](https://github.com/dcleres/investing_for_social_good/projects/1). \n",
    "\n",
    "We chose to use the Jekyll platform to create our blog. "
   ]
  },
  {
   "cell_type": "markdown",
   "metadata": {},
   "source": [
    "In our work, we decided to use Just Capital metrics as our way to find the social good part of each investors/compagny. In fact, this metrics is the well known and the more reliable one. \n",
    "\n",
    "They process like this : \n",
    "- Survey Research: JUST Capital conducts representative surveys of the American public on a regular basis in order to understand what issues represent just corporate behavior, how these issues should be defined, and the relative importance of each.\n",
    "- Company Evaluation: In as fair, unbiased, and rigorous a way as possible, JUST Capital develops Metrics and collects data on how the companies it covers perform across these issues. At every major methodological step, JUST Capital seeks guidance from its expert advisors and/or the public through polls or surveys.\n",
    "- Rankings: With input from various stakeholders and independent experts, JUST Capital develops a ranking model that leverages our survey research and company evaluations to rank the largest, publicly traded U.S. companies. That same ranking provides the basis for a ranking by industry so that companies can be compared to their peers. An industry ranking is obtained by looking at the overall ranking on an industry-by-industry basis.\n",
    "\n",
    "We will thus this matrix as our key dataset scoring and then compare it with sentiment analysis for example. In fact, we prefer to not compare several matrix, and focus more on analysis of this data. In fact, we would like to answer the following research question based on this metrics :\n",
    "\n",
    "- What are the most popular “ethical” or “unethical” investments held by asset managers?\n",
    "- What asset managers have the portfolios with the greatest/least social impact?\n",
    "- What is the great public's opinion regarding the companies that held many investments in social good versus those who do not invest in social good?\n",
    "- How to make a ranking of “public opinion” regarding a company?\n",
    "- Was there a transition toward investing more into social good then into other projects? If yes, when did it happen? \n",
    "- Can we extend the project to other countries in other to build a global social good investment chart?"
   ]
  },
  {
   "cell_type": "markdown",
   "metadata": {
    "colab_type": "text",
    "id": "JHJRtDSH2F2Q"
   },
   "source": [
    "## Initial Imports"
   ]
  },
  {
   "cell_type": "code",
   "execution_count": 0,
   "metadata": {
    "colab": {},
    "colab_type": "code",
    "id": "4RfBfH5ST_j-"
   },
   "outputs": [],
   "source": [
    "import pandas as pd\n",
    "import numpy as np\n",
    "import html5lib\n",
    "pd.set_option( 'display.notebook_repr_html', False )\n",
    "\n",
    "from IPython.display import HTML # useful for snippets\n",
    "#  e.g. HTML('<iframe src=http://en.mobile.wikipedia.org/?useformat=mobile width=700 height=350></iframe>')\n",
    "from IPython.display import Image \n",
    "#  e.g. Image(filename='holt-winters-equations.png', embed=True) # url= also works\n",
    "from IPython.display import YouTubeVideo\n",
    "#  e.g. YouTubeVideo('1j_HxD4iLn8', start='43', width=600, height=400)\n",
    "from IPython.core import page\n",
    "get_ipython().set_hook('show_in_pager', page.as_hook(page.display_page), 0)\n",
    "\n",
    "#  Generate PLOTS inside notebook, \"inline\" generates static png:\n",
    "%matplotlib inline   \n",
    "#          \"notebook\" argument allows interactive zoom and resize.\n",
    "\n",
    "\n",
    "# note: https cannot be read by lxml\n",
    "\n",
    "data_folder = 'data/'\n",
    "\n"
   ]
  },
  {
   "cell_type": "markdown",
   "metadata": {
    "colab_type": "text",
    "id": "rzFH7i8INTXa"
   },
   "source": [
    "## Data Fetching\n",
    "\n",
    "\n",
    "---\n"
   ]
  },
  {
   "cell_type": "markdown",
   "metadata": {
    "colab_type": "text",
    "id": "dR8SJ7O3xBTH"
   },
   "source": [
    "### Scrapping SEC 13F Financial Report Filings\n",
    "\n",
    "We want to know what asset managers own which stocks. The U.S. Securities and Exchange Commission (SEC) 13F Financial Report Filings provide the '13F-type' investment holdings (such as stocks) of US asset managers with at least $100M in assets. We can download an index of URLs to 13F Filings from the SEC's Electronic Data Gathering, Analysis, and Retrieval system (EDGAR). See the [SEC's website](https://www.sec.gov/edgar.shtml) for more information on EDGAR.\n",
    "\n",
    "master.tsv is an index of Q3 13F financial report filings from 2013 to 2018 downloaded from the SEC's EDGAR system. We can use this index access and download each report via a url.\n",
    "\n",
    "We reformat the master.tsv index attributes for ease of use, and filter for a specific type of 13F financial report called the 13F-HR which contains relevant information about institutional asset manager investment portfolios (how much of each investment they own)."
   ]
  },
  {
   "cell_type": "code",
   "execution_count": 0,
   "metadata": {
    "colab": {},
    "colab_type": "code",
    "id": "37mjmaBmT_kC"
   },
   "outputs": [],
   "source": [
    "master_index_df = pd.read_table(data_folder + 'master.tsv', sep='|', index_col=False, \n",
    "                 names=['CIK', 'Company Name', 'Filing Type', 'Filing Date', 'Filing URL .txt', 'Filing URL .html'], encoding='latin-1')\n",
    "index_13f_df = master_index_df.loc[master_index_df['Filing Type'] == '13F-HR']\n"
   ]
  },
  {
   "cell_type": "markdown",
   "metadata": {
    "colab_type": "text",
    "id": "ZxEBeqKTyigT"
   },
   "source": [
    "Because the raw original index is costly to load and filter from, we save 13f_index.tsv as a version of the index filtered for our needs for future computation. "
   ]
  },
  {
   "cell_type": "code",
   "execution_count": 0,
   "metadata": {
    "colab": {},
    "colab_type": "code",
    "id": "1WchHCCsT_kg"
   },
   "outputs": [],
   "source": [
    "pd.index_13f_df.to_csv(data_folder + '13f_index.tsv')"
   ]
  },
  {
   "cell_type": "markdown",
   "metadata": {
    "colab_type": "text",
    "id": "vTDZVbhJzKIG"
   },
   "source": [
    "Moving forward, we use this subset of the original index stored in 13f_index.tsv when running analysis for efficiency."
   ]
  },
  {
   "cell_type": "code",
   "execution_count": 0,
   "metadata": {
    "colab": {},
    "colab_type": "code",
    "id": "utgJOJoPT_kk"
   },
   "outputs": [],
   "source": [
    "# load 2013 to 2018 Q3 report URLs\n",
    "complete_13F_index_df = pd.read_table(data_folder + '13f_index.tsv', sep=',', index_col=False, encoding='latin-1')"
   ]
  },
  {
   "cell_type": "markdown",
   "metadata": {
    "colab_type": "text",
    "id": "0qDpxEfEzbWC"
   },
   "source": [
    "We perform a sanity check to confirm that we are working with the types of URLs intended"
   ]
  },
  {
   "cell_type": "code",
   "execution_count": 0,
   "metadata": {
    "colab": {
     "base_uri": "https://localhost:8080/",
     "height": 34
    },
    "colab_type": "code",
    "id": "COXz6T1CT_ku",
    "outputId": "fbb66b5f-2f0c-472e-c910-8b9800296d91"
   },
   "outputs": [
    {
     "data": {
      "text/plain": [
       "'edgar/data/1000097/0000919574-13-005176-index.html'"
      ]
     },
     "execution_count": 27,
     "metadata": {
      "tags": []
     },
     "output_type": "execute_result"
    }
   ],
   "source": [
    "# inspect if URL to be parsed is valid\n",
    "complete_13F_index_df['Filing URL .html'].iloc[0]"
   ]
  },
  {
   "cell_type": "markdown",
   "metadata": {
    "colab_type": "text",
    "id": "mhRvV7G5z6_D"
   },
   "source": [
    "We download each investor's Q3 13F financial report filing from 2013 to 2018 from the URL provided by the filtered 13f_index.tsv  index. \n",
    "\n",
    "In the process of scraping this data, we also reformat the data for readabilility and add a column denoting the percentage weight of each investment in each portfolio.\n",
    "\n",
    "\n",
    "\n",
    "We also perform some **Data Cleaning and Selection**  by filtering the data from the reports downloaded for information relevant to our analysis, such as the investor name, the data the information was published,  and the name and value of each major investment. "
   ]
  },
  {
   "cell_type": "code",
   "execution_count": 0,
   "metadata": {
    "colab": {},
    "colab_type": "code",
    "id": "8NGVRKVGT_k8"
   },
   "outputs": [],
   "source": [
    "# initialize empty list to store dataframes from different investors (to be appended later)\n",
    "appended_data = []\n",
    "\n",
    "# loop through all reports, filter relevant data, create normalized dataframes per investor, add to list of dataframes to be appended\n",
    "for index, row in complete_13F_index_df.iterrows():\n",
    "     \n",
    "    \n",
    "    # need to parse initial html file for name of html file with investment data\n",
    "    url = 'https://www.sec.gov/Archives/' + row['Filing URL .html'] #.iloc[index]\n",
    "    page = pd.read_html( url )\n",
    "    df = page[0]\n",
    "    if len(df) < 5:\n",
    "        print('skip: ' + url)\n",
    "        continue\n",
    "    table_url_suffix = df[2].iloc[4]\n",
    "\n",
    "    report_suffix = row['Filing URL .html'] \n",
    "    investor = row['Company Name'] \n",
    "    date = row['Filing Date'] \n",
    "    \n",
    "    ### SET TO RETURN TOP 20 STOCKS PER INVESTOR (BY SIZE OF INVESTMENT)\n",
    "    num_stocks_returned = 20\n",
    "\n",
    "    stem = 'http://www.sec.gov/Archives/'\n",
    "    xml_suffix = '/xslForm13F_X01/'\n",
    "\n",
    "    report_suffix = report_suffix.replace('-index.html', '')\n",
    "    report_suffix = report_suffix.replace('-', '')\n",
    "\n",
    "    #  build URL to html file with investment data\n",
    "    url = stem + report_suffix + xml_suffix + table_url_suffix\n",
    "    print(url)\n",
    "    \n",
    "    # turn HTML file into dataframe\n",
    "    page = pd.read_html( url )\n",
    "    #  the last element of page contains relevant investement data\n",
    "    df = page[-1]\n",
    "\n",
    "    #  rename columns:\n",
    "    df.columns = [ 'stock', 'class', 'cusip', 'usd', 'size', 'sh_prin', 'putcall', 'discret', 'manager', 'vote1', 'vote2', 'vote3']\n",
    "\n",
    "    #  But first three rows are SEC labels, not data, \n",
    "    #  so delete them:\n",
    "    df = df[3:]\n",
    "\n",
    "    #  Start a new index from 0 instead of 3:\n",
    "    df.reset_index( drop=True )\n",
    "\n",
    "\n",
    "    #  Delete irrevelant columns:\n",
    "    dflite = df.drop( df.columns[[1, 4, 5, 7, 8, 9, 10, 11]], axis=1 )\n",
    "\n",
    "    #  usd needs float type since usd was read as string:\n",
    "    dflite[['usd']] = dflite[['usd']].astype( float )\n",
    "    #                  NOTE: int as type will fail for NaN\n",
    "\n",
    "    #  Type change allows proper sort:\n",
    "    dfusd = dflite.sort_values( by=['usd'], ascending=[False] )\n",
    "\n",
    "\n",
    "    usdsum = sum( dfusd.usd )\n",
    "    #  Portfolio total in USD:\n",
    "    #usdsum\n",
    "\n",
    "\n",
    "    #  New column for percentage of total portfolio:\n",
    "    dfusd['pcent'] = np.round(( dfusd.usd / usdsum ) * 100, 2)\n",
    "\n",
    "\n",
    "    # New column for date of report filling\n",
    "    dfusd.insert(0, 'date', date)\n",
    "\n",
    "    # New column for investor\n",
    "    dfusd.insert(0, 'investor', investor)\n",
    "\n",
    "    #  Dataframe per investor with top num_stocks_returned \n",
    "    appended_data.append(dfusd.head( num_stocks_returned ))\n",
    "\n",
    "# show list of dataframes    \n",
    "#appended_data\n"
   ]
  },
  {
   "cell_type": "markdown",
   "metadata": {
    "colab_type": "text",
    "id": "YTmV2VTf2J5-"
   },
   "source": [
    "We merge investment records from different investors together into a single dataframe, and will later save the final cleaned result to a CSV file locally because the data is time consuming to recompute."
   ]
  },
  {
   "cell_type": "code",
   "execution_count": 0,
   "metadata": {
    "colab": {},
    "colab_type": "code",
    "id": "OfP-uQlgT_lB"
   },
   "outputs": [],
   "source": [
    "# Concat investor dataframes together\n",
    "appended_data = pd.concat(appended_data, axis=0)"
   ]
  },
  {
   "cell_type": "markdown",
   "metadata": {
    "colab_type": "text",
    "id": "U7wZ24kCBZ13"
   },
   "source": [
    "### Loading CUSIP to Stock Symbol Mapping from cnfails Data\n",
    "We want to annotate each investment stock with an industry standardized stock symbol (for example APPL for Apple Inc) to enable us to consistently clean and organize the financial records, as well as easily augment additional stock related data by the Stock Symbol attribute.\n",
    "\n",
    "To do this, we load a mapping of the CUSIP attributes to Stock Symbols from the SEC's ( US Government Agency) cnfails dataset, dropping unrelevant attributes. "
   ]
  },
  {
   "cell_type": "code",
   "execution_count": 0,
   "metadata": {
    "colab": {},
    "colab_type": "code",
    "id": "k9yLB-DxT_lF"
   },
   "outputs": [],
   "source": [
    "# create mapping from cusip to symbol to allow Just Capital and 13F sample data to be joined\n",
    "## load CUSIP to ticker data from \"fail to deliver\" data - we load several monthes of data to capture a greater number of unique investment managers\n",
    "## note: \"fail to deliver\" data records the volume of transactions that a investment manager fails to deliver on\n",
    "cusip_to_ticker_df_raw_data = pd.read_csv(data_folder + 'cnfails2018.txt', sep='|', index_col=False, encoding='latin-1' )\n",
    "### drop duplicate entries for invesment managers\n",
    "cusip_to_ticker_df = cusip_to_ticker_df_raw_data.drop_duplicates(subset=['CUSIP'], keep='first')\n",
    "## drop unnessasary attributes from dataframe\n",
    "cusip_to_ticker_df = cusip_to_ticker_df.drop(['SETTLEMENT DATE', 'DESCRIPTION'], axis=1)\n",
    "## rename to make joining with 13F dataset easier\n",
    "cusip_to_ticker_df = cusip_to_ticker_df.rename(index=str, columns={\"CUSIP\": \"cusip\", \"SYMBOL\": \"symbol\"})\n"
   ]
  },
  {
   "cell_type": "markdown",
   "metadata": {
    "colab_type": "text",
    "id": "1mHuT6hdGH_Z"
   },
   "source": [
    "### Loading Just Capital Compay Social Impact Scores\n",
    "\n",
    "We want to be able to compare the social impact of different financial investements asset managers make. To do this, we load jc_companies.csv, an index of Just Capital Company social impact scores and rankings. This index gives a social impact score to the ~800 largest publicly traded companies, and is backed up by extensive research and a rigourously defended methodology. \n",
    "\n",
    "To learn more about the Just Capital Ranking Methodology, check out their [86 page report](https://com-justcapital-web-v2.s3.amazonaws.com/pdf/18May2018_JUST_Capital_2017_Ranking_Methodology.pdf) explaining their research methodology."
   ]
  },
  {
   "cell_type": "code",
   "execution_count": 0,
   "metadata": {
    "colab": {},
    "colab_type": "code",
    "id": "uNB0ML9cdnXp"
   },
   "outputs": [],
   "source": [
    "## load Just Capital company scoring and rankings of ~800 largest public (investable) companies \n",
    "jc_companies_df = pd.read_csv(data_folder + \"jc_companies.csv\")\n",
    "\n",
    "## rename investment scoring dataframe ticker attribute to make joining data with 13F data easier\n",
    "jc_companies_df = jc_companies_df.rename(index=str, columns={\"ticker\": \"symbol\"})"
   ]
  },
  {
   "cell_type": "markdown",
   "metadata": {
    "colab_type": "text",
    "id": "TsSNLynEP7D6"
   },
   "source": [
    "## Data Cleaning and Selection\n",
    "\n",
    "\n",
    "---\n",
    "\n"
   ]
  },
  {
   "cell_type": "markdown",
   "metadata": {
    "colab_type": "text",
    "id": "Tx9PhHzAP97_"
   },
   "source": [
    "We want to merge together the three datasets loaded above into a single dataframe for ease of analysis. \n",
    "\n",
    "We also want to know the portfolio-wide social impact of an investor, instead of just the impact of the investor's individual investements. To create this aggragate metric, we compute an additional attribute called 'weighted_score' that adjusts the social impact score of a particular investor's stock by the percentage allocation of that stock in the given investor's portfolio."
   ]
  },
  {
   "cell_type": "code",
   "execution_count": 0,
   "metadata": {
    "colab": {},
    "colab_type": "code",
    "id": "0LrDuENuT_lI"
   },
   "outputs": [],
   "source": [
    "# for every investment manager asset holding entry in sec13f_sample_df, \n",
    "# if the \"stock\" matches a company scored by the Just Capital dataset, merge the datasets together\n",
    "## do left outer join\n",
    "merged_df = pd.merge(appended_data, cusip_to_ticker_df, how=\"inner\", on=\"cusip\")\n",
    "merged_df = pd.merge(merged_df, jc_companies_df, how=\"inner\", on = 'symbol')\n",
    "## create weighted_score attribute\n",
    "merged_df[\"weighted_score\"] = merged_df['pcent']/100*merged_df['scores.overall']\n",
    "\n",
    "# show merged dataset\n",
    "merged_df.head()"
   ]
  },
  {
   "cell_type": "markdown",
   "metadata": {
    "colab_type": "text",
    "id": "3HGLwtdhUCue"
   },
   "source": [
    "We remove additional attributes that are not useful to our analysis, such as 'QUANTITY (FAILS)' from the cnfails dataset.\n",
    "\n",
    "We convert the 'date' attribute into a datetime type and create a separate 'year' attribute based the date."
   ]
  },
  {
   "cell_type": "code",
   "execution_count": 0,
   "metadata": {
    "colab": {},
    "colab_type": "code",
    "id": "WZhk4sFUEQru"
   },
   "outputs": [],
   "source": [
    "merged_df = merged_df.drop(['Unnamed: 0', 'QUANTITY (FAILS)', 'scores.worker.health'], axis=1)\n",
    "merged_df['date'] = pd.to_datetime(merged_df['date'])\n",
    "merged_df['year'] = merged_df['date'].dt.year"
   ]
  },
  {
   "cell_type": "markdown",
   "metadata": {
    "colab_type": "text",
    "id": "wZbURM_UUdzC"
   },
   "source": [
    "We download this cleaned dataset result as 13f_results_13-18Q3_merged.csv to avoid having to rerun time consuming computations."
   ]
  },
  {
   "cell_type": "code",
   "execution_count": 0,
   "metadata": {
    "colab": {},
    "colab_type": "code",
    "id": "Hj2Cbfeq-44H"
   },
   "outputs": [],
   "source": [
    "# Export as CSV file\n",
    "merged_df.to_csv(data_folder + '13f_results_13-18Q3_merged.csv')"
   ]
  },
  {
   "cell_type": "markdown",
   "metadata": {
    "colab_type": "text",
    "id": "2oxkDFbZXX7I"
   },
   "source": [
    "Moving forward, we run computations by directly loading the cleaned and saved 13f_results_13-18Q3_merged.csv result dataset. "
   ]
  },
  {
   "cell_type": "code",
   "execution_count": 0,
   "metadata": {
    "colab": {},
    "colab_type": "code",
    "id": "VlsDOeVeLC30"
   },
   "outputs": [],
   "source": [
    "merged_df = pd.read_csv(data_folder + \"13f_results_13-18Q3_merged.csv\")\n"
   ]
  },
  {
   "cell_type": "markdown",
   "metadata": {
    "colab_type": "text",
    "id": "-tMilRZoRfpm"
   },
   "source": [
    "## Data Visualization\n",
    "\n",
    "We will be using Plot.ly for data visualization. \n",
    "\n",
    "To prepare the data for visualization in Plotly, we select attributes and values of interest as shown below."
   ]
  },
  {
   "cell_type": "markdown",
   "metadata": {
    "colab_type": "text",
    "id": "SFIhNlAkZauA"
   },
   "source": [
    "### We want to visualize the social impact of different asset manager investment portfolios\n",
    "\n",
    "To do this, we create a dataframe for investor scores. \n",
    "\n",
    "This dataframe selects the following attributes: investor, year (when the investment was declared), and weighted_score (an aggragate score of the social impact of the stocks in an investors portfolio adjusted by portfolio composition).\n"
   ]
  },
  {
   "cell_type": "code",
   "execution_count": 0,
   "metadata": {
    "colab": {},
    "colab_type": "code",
    "id": "0-hUwXY2T_lQ"
   },
   "outputs": [],
   "source": [
    "# group merged dataset by investor, and sum the investment weighted_score entries by investor\n",
    "investor_score_df = merged_df.groupby(['investor', 'year'])['weighted_score'].sum().reset_index()\n",
    "investor_score_df = investor_score_df.sort_values('weighted_score', ascending=False)"
   ]
  },
  {
   "cell_type": "markdown",
   "metadata": {
    "colab_type": "text",
    "id": "JizHJeMNbaU7"
   },
   "source": [
    "Specifically, we are interested in showing a multi-year sample of data to show how social impact scores may have varied over time. \n",
    "\n",
    "We choose to visualize data for the years 2013, 2015, and 2017 since our dataset is from 2013 to 2018, we want to choose a sample set of evenly spaced out years, and because we are also performing Twitter data analysis for 2017. "
   ]
  },
  {
   "cell_type": "code",
   "execution_count": 0,
   "metadata": {
    "colab": {},
    "colab_type": "code",
    "id": "syUdW0B-DKpu"
   },
   "outputs": [],
   "source": [
    "investor_score_13_15_17_df = investor_score_df.loc[(investor_score_df['year'] == 2013) | (investor_score_df['year'] == 2015) | (investor_score_df['year'] == 2017)]\n",
    "#investor_score_13_15_17_df = investor_score_13_15_17_df.drop([16651])\n"
   ]
  },
  {
   "cell_type": "markdown",
   "metadata": {
    "colab_type": "text",
    "id": "yh8EFaDrevLN"
   },
   "source": [
    "We download the subset of data selected and returned in the investor_score_13_15_17_df dataframe, and generate a visualization using the Plot.ly Chart Studio tool.\n",
    "\n",
    "Plot.ly Chart Studio allows us to create an interactive graph visualization of the [Portfolio Social Impact by Investor and Year](https://plot.ly/~mike.jiao/8/)\n",
    "\n",
    "The 3-D Scatterplot shows the portfolio-wide social impact of institutional investors with over 100M in holders in a sample of three years between 2013 and 2018 (2013, 2015, and 2017). Portfolio-wide social impact is measured using a score computed as a weighted average of a portfolio’s individual stocks’ social impact. The score is computed using the portfolio weight percentage of each stock declared in SEC 13F filings, and individual stock social impact scores computed by Just Capital. \n",
    "\n"
   ]
  },
  {
   "cell_type": "code",
   "execution_count": 0,
   "metadata": {
    "colab": {},
    "colab_type": "code",
    "id": "kYhaqsE9DsHz"
   },
   "outputs": [],
   "source": [
    "# Export as CSV file\n",
    "investor_score_13_15_17_df.to_csv(data_folder + 'investorsByYearScore_13_15_17.csv', index=False)"
   ]
  },
  {
   "cell_type": "markdown",
   "metadata": {
    "colab_type": "text",
    "id": "VEyGnVF3fq_j"
   },
   "source": [
    "We choose to separately select and visualize Investor Portfolio Social Impact in 2017, since we are also analyzing Twitter data for 2017."
   ]
  },
  {
   "cell_type": "code",
   "execution_count": 0,
   "metadata": {
    "colab": {},
    "colab_type": "code",
    "id": "zpgo53VmKW2g"
   },
   "outputs": [],
   "source": [
    "investor_score_17_df = investor_score_df.loc[(investor_score_df['year'] == 2017)]"
   ]
  },
  {
   "cell_type": "markdown",
   "metadata": {
    "colab_type": "text",
    "id": "kPJ116aegccy"
   },
   "source": [
    "We download the subset of data selected and returned in the investor_score_17_df dataframe, and generate a visualization using the Plot.ly Chart Studio tool.\n",
    "\n",
    "Plot.ly Chart Studio allows us to create an interactive graph visualization of the [2017 Investor Portfolios by Social Impact](https://plot.ly/~mike.jiao/10/)\n",
    "\n",
    "The 2-D Scatterplot focus in on year 2017 data from the previous 3-D Scatterplot.\n"
   ]
  },
  {
   "cell_type": "code",
   "execution_count": 0,
   "metadata": {
    "colab": {},
    "colab_type": "code",
    "id": "V2OpjDLFcLEi"
   },
   "outputs": [],
   "source": [
    "# Export as CSV file\n",
    "investor_score_17_df.to_csv(data_folder + 'investors2017Score.csv')"
   ]
  },
  {
   "cell_type": "markdown",
   "metadata": {
    "colab_type": "text",
    "id": "qHOK80QkhFD0"
   },
   "source": [
    "### We want to visualize the popularity of high social impact and low social impact stocks. \n",
    "\n",
    "Since we use Just Capital's Social Impact Company index as our metric for social impact, we first define high social impact stocks as the top 10% of companies in Just Capital's Social Impact Index, and low social impact stocks as the bottom 10% of companeis in Just Capital's Social Impact Index. \n",
    "\n",
    "The Just Capital Index includes 870 companies, so we select the top and bottom 87 companies. "
   ]
  },
  {
   "cell_type": "code",
   "execution_count": 0,
   "metadata": {
    "colab": {},
    "colab_type": "code",
    "id": "-mIjd12YL3id"
   },
   "outputs": [],
   "source": [
    "# top 10% social impact stocks\n",
    "stock_score_top_df = jc_companies_df.nlargest(87, 'scores.overall')\n",
    "\n",
    "# botton 10% social impact stocks\n",
    "stock_score_bottom_df = jc_companies_df.nsmallest(87, 'scores.overall')"
   ]
  },
  {
   "cell_type": "markdown",
   "metadata": {
    "colab_type": "text",
    "id": "9ADw9OLhlwkf"
   },
   "source": [
    "To find the popularity of the stocks, we count the number of times they appear in an investor's portfolio in 2017. \n",
    "\n",
    "We do this by extracting the set of high and low impact stocks from our augmented and cleaned 13F investor portfolio dataset (merged_df), and counting the occurance of unique stocks (via stock 'symbol')."
   ]
  },
  {
   "cell_type": "code",
   "execution_count": 0,
   "metadata": {
    "colab": {
     "base_uri": "https://localhost:8080/",
     "height": 119
    },
    "colab_type": "code",
    "id": "ObWfupVvOsLi",
    "outputId": "0ec91a07-e4b4-4fa7-af4c-51e5a80b7218"
   },
   "outputs": [
    {
     "name": "stderr",
     "output_type": "stream",
     "text": [
      "/usr/local/lib/python3.6/dist-packages/ipykernel_launcher.py:4: FutureWarning: using a dict on a Series for aggregation\n",
      "is deprecated and will be removed in a future version\n",
      "  after removing the cwd from sys.path.\n",
      "/usr/local/lib/python3.6/dist-packages/ipykernel_launcher.py:9: FutureWarning: using a dict on a Series for aggregation\n",
      "is deprecated and will be removed in a future version\n",
      "  if __name__ == '__main__':\n"
     ]
    }
   ],
   "source": [
    "popular_good_df = merged_df[merged_df[\"symbol\"].isin(stock_score_top_df[\"symbol\"])]\n",
    "popular_good_df = popular_good_df.loc[(popular_good_df['year'] == 2017)]\n",
    "\n",
    "popular_good_df = popular_good_df.groupby(['symbol', 'scores.overall'])['symbol'].agg({'Frequency':'count'})\n",
    "\n",
    "popular_bad_df = merged_df[merged_df[\"symbol\"].isin(stock_score_bottom_df[\"symbol\"])]\n",
    "popular_bad_df = popular_bad_df.loc[(popular_bad_df['year'] == 2017)]\n",
    "\n",
    "popular_bad_df = popular_bad_df.groupby(['symbol', 'scores.overall'])['symbol'].agg({'Frequency':'count'})\n"
   ]
  },
  {
   "cell_type": "markdown",
   "metadata": {
    "colab_type": "text",
    "id": "jwLfwGA_noyS"
   },
   "source": [
    "We download the subset of data selected and returned in the popular_good_df and popular_bad_df dataframes, and generate two visualization using the Plot.ly Chart Studio tool.\n",
    "\n",
    "Plot.ly Chart Studio allows us to create an interactive graph visualization of the [Popularity of High Social Impact Stocks](https://plot.ly/~mike.jiao/12/) and [Popularity of Low Social Impact Stocks](https://plot.ly/~mike.jiao/14/) \n",
    "\n",
    "The heatmaps displays the social impact (scored by Just Capital) of each stock within the top or bottom 10% of Just Capital Social Impact Scores, as well as the number of large institutional investors (with at least 100M in US 13F type securities) that own that stock. \n",
    "More popular stocks are represented by lighter colours, whereas less popular stocks are represented with darker colours. \n"
   ]
  },
  {
   "cell_type": "code",
   "execution_count": 0,
   "metadata": {
    "colab": {},
    "colab_type": "code",
    "id": "Wy-M3pWsQSBY"
   },
   "outputs": [],
   "source": [
    "# Export popularity of high social impact stocks as CSV file\n",
    "popular_good_df.to_csv(data_folder + 'popular_good_df.csv')\n",
    "\n",
    "# Export popularity of low social impact stocks as CSV file\n",
    "popular_bad_df.to_csv(data_folder + 'popular_bad_df.csv')\n"
   ]
  },
  {
   "cell_type": "markdown",
   "metadata": {
    "colab_type": "text",
    "id": "lno2GM0CovpI"
   },
   "source": [
    "### We want to visualize a comparision of investor portfolio social impact in 2013 compared to 2017."
   ]
  },
  {
   "cell_type": "markdown",
   "metadata": {
    "colab_type": "text",
    "id": "jQqzgHiRqP57"
   },
   "source": [
    "Since we have data on the highest and lowest scoring social impact investor portfolios in 2013 and 2017, we aim to observe not only the state of social impact in investor portfolios in 2017, but where the top and bottom 10% of investor portfolios in 2013 ended up in 2017 based on portfolio social impact score. \n",
    "\n",
    "We select the top 10% of investors in 2013, and also select the social impact data of those same investors in 2017.\n",
    "\n",
    "We do the same for the bottom 10% of investors in 2013.\n",
    "\n",
    "\n"
   ]
  },
  {
   "cell_type": "code",
   "execution_count": 0,
   "metadata": {
    "colab": {},
    "colab_type": "code",
    "id": "LF10J4b0RmuF"
   },
   "outputs": [],
   "source": [
    "# select 2013 investor portfolio social impact scores\n",
    "investor_score_13_df = investor_score_df.loc[(investor_score_df['year'] == 2013)]\n",
    "\n",
    "# top 10% 2013 (810 investors)\n",
    "investor_score_top_2013_df = investor_score_13_df.nlargest(810, 'weighted_score')\n",
    "\n",
    "# 2017 investor scores, for the top social investors from 2013\n",
    "top_2013_investors_in_2017_df = investor_score_17_df[investor_score_17_df[\"investor\"].isin(investor_score_top_2013_df[\"investor\"])]\n",
    "\n",
    "# bottom 10% 2013\n",
    "investor_score_bottom_2013_df = investor_score_13_df.nsmallest(810, 'weighted_score')\n",
    "\n",
    "# 2017 investor scores, for the bottom social investors from 2013\n",
    "bottom_2013_investors_in_2017_df = investor_score_17_df[investor_score_17_df[\"investor\"].isin(investor_score_bottom_2013_df[\"investor\"])]\n"
   ]
  },
  {
   "cell_type": "markdown",
   "metadata": {
    "colab_type": "text",
    "id": "gqbPJAlqtj0D"
   },
   "source": [
    "Likewise, we are interested in where the top and bottom 10% of investor portfolios in 2017 were in 2013 based on portfolio social impact score.\n",
    "\n",
    "We find the top 10% of investors in 2017, and select the social impact data of those same investors in 2013.\n",
    "\n",
    "We do the same for the bottom 10% of investors in 2017."
   ]
  },
  {
   "cell_type": "code",
   "execution_count": 0,
   "metadata": {
    "colab": {},
    "colab_type": "code",
    "id": "wHU_Evmls8Tq"
   },
   "outputs": [],
   "source": [
    "# top 10% 2017 (732 investors)\n",
    "investor_score_top_2017_df = investor_score_17_df.nlargest(732, 'weighted_score')\n",
    "# bottom 10% 2017 \n",
    "investor_score_bottom_2017_df = investor_score_17_df.nsmallest(732, 'weighted_score')\n",
    "\n",
    "#where were the 2017 bottom social investors in 2013\n",
    "bottom_2017_investors_in_2013_df = investor_score_13_df[investor_score_13_df[\"investor\"].isin(investor_score_bottom_2017_df[\"investor\"])]\n",
    "\n",
    "#where were the 2017 top social investors in 2013\n",
    "top_2017_investors_in_2013_df = investor_score_13_df[investor_score_13_df[\"investor\"].isin(investor_score_top_2017_df[\"investor\"])]"
   ]
  },
  {
   "cell_type": "markdown",
   "metadata": {
    "colab_type": "text",
    "id": "YifEQeNfut1e"
   },
   "source": [
    "We download the 6 subsets of data selected and returned in the following dataframes: \n",
    "* investor_score_17_df (already previously downloaded)\n",
    "* top_2013_investors_in_2017_df\n",
    "* bottom_2013_investors_in_2017_df\n",
    "* bottom_2017_investors_in_2013_df\n",
    "* top_2017_investors_in_2013_df\n",
    "\n",
    "\n",
    "\n",
    "\n",
    "\n",
    "Using these datasets, we generate one visualization with 5 layers of data tracings using the Plot.ly Chart Studio tool.\n",
    "\n",
    "Plot.ly Chart Studio allows us to create an interactive graph visualization of the [Investor Social Impact in 2013 vs 2017](https://plot.ly/~mike.jiao/25/)\n",
    "\n",
    "The Scatterplot displays how the social impact of investor portfolios has changed from 2013 to 2017. The graph has 5 layers/traces that can be optionally displayed or removed from the plot by clicking the respective item in the Legend. These layers in order from top to bottom correspond with: \n",
    "1. All 2017 Investor Portfolio Social Impact Scores, \n",
    "2. 2017 Investor Portfolio Social Impact Scores for the top 10% of Investors by Portfolio Social Impact Score from 2013, \n",
    "3. 2017 Investor Portfolio Social Impact Scores for the bottom 10% of Investors by Portfolio Social Impact Score from 2013, \n",
    "4. 2013 Investor Portfolio Social Impact Scores for the top 10% of Investors by Portfolio Social Impact Score in 2017, and \n",
    "5. 2013 Investor Portfolio Social Impact Scores for the bottom 10% of Investors by Portfolio Social Impact Score in 2017.\n",
    "\n",
    "\n",
    "\n",
    "\n",
    "\n",
    "Using these different layers, you can see how the Social Impact of the best and worst Social Impact Investors has changed, or not changed between 2013 and 2017. \n"
   ]
  },
  {
   "cell_type": "code",
   "execution_count": 0,
   "metadata": {
    "colab": {},
    "colab_type": "code",
    "id": "qa5Y3MeASUO_"
   },
   "outputs": [],
   "source": [
    "# Export top_2013_investors_in_2017_df as CSV file\n",
    "top_2013_investors_in_2017_df.to_csv(data_folder + 'top_2013_investors_in_2017.csv')\n",
    "\n",
    "# Export bottom_2013_investors_in_2017_df as CSV file\n",
    "bottom_2013_investors_in_2017_df.to_csv(data_folder + 'bottom_2013_investors_in_2017.csv')\n",
    "\n",
    "# Export bottom_2017_investors_in_2013_df as CSV file\n",
    "bottom_2017_investors_in_2013_df.to_csv(data_folder + 'bottom_2017_investors_in_2013.csv')\n",
    "\n",
    "# Export top_2017_investors_in_2013_df as CSV file\n",
    "top_2017_investors_in_2013_df.to_csv(data_folder + 'top_2017_investors_in_2013.csv')"
   ]
  },
  {
   "cell_type": "markdown",
   "metadata": {},
   "source": [
    "# Sentiment Analysis\n",
    "It could be interesting to correlate the greater public's interest into social good projects expressed on social media platforms such as Twitter and Facebook, or news platforms, with the actual investments that are done. \n",
    "To add the public opinion part, sentiment analysis was done on tweet from 2017. In fact, sentiment analysis is contextual mining of text which identifies and extracts subjective information in source material, and helping a business to understand the social sentiment of their brand, product or service while monitoring online conversations. In this part of the data story, the text classifier process tool that analyses an incoming message and tells whether the underlying sentiment is positive, negative our neutral will be describe.\n",
    "\n",
    " To do that, several questions needed to be answered. \n",
    "    - How to make a ranking of “public opinion” regarding a company?\n",
    "    - What is the great public's opinion regarding the companies and investors ? \n",
    "    - Just capital ranking is one thing. This metrics is complex and tries to take into account a high number of variables. But it just capital score correlated with public opinion ? It means that we will try to understand the public’s opinion regarding the companies that held many investments in social good versus those who do not invest in social good?"
   ]
  },
  {
   "cell_type": "markdown",
   "metadata": {},
   "source": [
    "# Import"
   ]
  },
  {
   "cell_type": "code",
   "execution_count": 41,
   "metadata": {},
   "outputs": [],
   "source": [
    "import pandas as pd\n",
    "import numpy as np\n",
    "import pickle\n",
    "import os\n",
    "from translate import translator\n",
    "from googletrans import Translator\n",
    "import plotly.plotly as py\n",
    "import plotly.graph_objs as go\n",
    "import re\n",
    "import networkx as nx\n",
    "from operator import itemgetter\n",
    "import matplotlib.pyplot as plt\n",
    "import collections\n",
    "import fastText\n",
    "import string\n",
    "from vaderSentiment.vaderSentiment import SentimentIntensityAnalyzer\n",
    "from networkx.algorithms.community.centrality import girvan_newman\n",
    "import itertools\n",
    "from community import community_louvain\n",
    "%matplotlib inline\n",
    "import warnings\n",
    "warnings.filterwarnings('ignore')"
   ]
  },
  {
   "cell_type": "markdown",
   "metadata": {},
   "source": [
    "# General functions"
   ]
  },
  {
   "cell_type": "code",
   "execution_count": 6,
   "metadata": {},
   "outputs": [],
   "source": [
    "class MacOSFile(object):\n",
    "    '''\n",
    "    This function allows the saving and the loading of huge files.\n",
    "    '''\n",
    "\n",
    "    def __init__(self, f):\n",
    "        self.f = f\n",
    "\n",
    "    def __getattr__(self, item):\n",
    "        return getattr(self.f, item)\n",
    "\n",
    "    def read(self, n):\n",
    "        # print(\"reading total_bytes=%s\" % n, flush=True)\n",
    "        if n >= (1 << 31):\n",
    "            buffer = bytearray(n)\n",
    "            idx = 0\n",
    "            while idx < n:\n",
    "                batch_size = min(n - idx, 1 << 31 - 1)\n",
    "                # print(\"reading bytes [%s,%s)...\" % (idx, idx + batch_size), end=\"\", flush=True)\n",
    "                buffer[idx:idx + batch_size] = self.f.read(batch_size)\n",
    "                # print(\"done.\", flush=True)\n",
    "                idx += batch_size\n",
    "            return buffer\n",
    "        return self.f.read(n)\n",
    "\n",
    "    def write(self, buffer):\n",
    "        n = len(buffer)\n",
    "        print(\"writing total_bytes=%s...\" % n, flush=True)\n",
    "        idx = 0\n",
    "        while idx < n:\n",
    "            batch_size = min(n - idx, 1 << 31 - 1)\n",
    "            print(\"writing bytes [%s, %s)... \" % (idx, idx + batch_size), end=\"\", flush=True)\n",
    "            self.f.write(buffer[idx:idx + batch_size])\n",
    "            print(\"done.\", flush=True)\n",
    "            idx += batch_size\n",
    "\n",
    "\n",
    "def pickle_dump(obj, file_path):\n",
    "    '''\n",
    "    This function allows the saving of huge files to pickle.\n",
    "    '''\n",
    "    with open(file_path, \"wb\") as f:\n",
    "        return pickle.dump(obj, MacOSFile(f), protocol=pickle.HIGHEST_PROTOCOL)\n",
    "\n",
    "def pickle_load(file_path):\n",
    "    '''\n",
    "    This function allows the loading of huge files to pickle.\n",
    "    '''\n",
    "    with open(file_path, \"rb\") as f:\n",
    "        return pickle.load(MacOSFile(f))"
   ]
  },
  {
   "cell_type": "code",
   "execution_count": 4,
   "metadata": {},
   "outputs": [],
   "source": [
    "def clean_text(text):\n",
    "    \"\"\"\n",
    "    Applies some pre-processing to clean text data.\n",
    "    \n",
    "    In particular:\n",
    "    - lowers the string\n",
    "    - removes the character [']\n",
    "    - replaces punctuation characters with spaces\n",
    "\n",
    "    \"\"\"\n",
    "    \n",
    "    text = text.lower()\n",
    "\n",
    "    text = re.sub(r\"\\'\", \"\", text)  # remove the character [']\n",
    "\n",
    "    # removing the punctuation\n",
    "    filters='!\"#$%&()*+,-./:;<=>?@[\\\\]^_`{|}~\\t\\n'\n",
    "    split = \" \"\n",
    "\n",
    "    if isinstance(text, str):\n",
    "        translate_map = dict((ord(c), str(split)) for c in filters)\n",
    "        text = text.translate(translate_map)\n",
    "    elif len(split) == 1:\n",
    "        translate_map = maketrans(filters, split * len(filters))\n",
    "        text = text.translate(translate_map)\n",
    "    else:\n",
    "        for c in filters:\n",
    "            text = text.replace(c, split)\n",
    "    return text"
   ]
  },
  {
   "cell_type": "code",
   "execution_count": 5,
   "metadata": {},
   "outputs": [],
   "source": [
    "def translate(tweet):\n",
    "    \"\"\"\n",
    "    This function allows the translation of a string to english language\n",
    "    Arg :\n",
    "        -tweet : String corresponding to the string we want to translate.\n",
    "    \"\"\"\n",
    "    tw_translated = translator('en', tweet)\n",
    "    return tw_translated\n",
    "\n",
    "def translate(tweet,language):\n",
    "    '''\n",
    "    Other translate function using google API.\n",
    "    '''\n",
    "    translator = Translator()\n",
    "    tw_inggris = translator.translate(tweet, src=language, dest='en')"
   ]
  },
  {
   "cell_type": "code",
   "execution_count": 279,
   "metadata": {},
   "outputs": [],
   "source": [
    "def load_files(filepath, extension):\n",
    "        '''\n",
    "        This function allows the loading of all the files in a folder corresponding to the Data we want to use.\n",
    "        Argument :\n",
    "            - filepath : String corresponding to the folder where we want to select all the files with type_of_file and extension string in their names.\n",
    "            - extension : String corresponding to the extension of the files we want to select and use. Should be '.p' or '.txt'.\n",
    "        Return :\n",
    "            - files : list of the files name order alphabetically that we will load.\n",
    "        '''\n",
    "        # Get all the files with the correponding type of file name:\n",
    "        all_files = os.listdir(filepath)\n",
    "        files = list()\n",
    "        for file in all_files:\n",
    "            if (extension in file):\n",
    "                files.append(file)\n",
    "        # Put them in alphabetical order:\n",
    "        files = sorted(files)\n",
    "        return files"
   ]
  },
  {
   "cell_type": "code",
   "execution_count": 6,
   "metadata": {},
   "outputs": [],
   "source": [
    "def load_files_type(filepath, extension, type_of_file):\n",
    "        '''\n",
    "        This function allows the loading of all the files in a folder corresponding to the Data we want to use.\n",
    "        Argument :\n",
    "            - filepath : String corresponding to the folder where we want to select all the files with type_of_file and extension string in their names.\n",
    "            - extension : String corresponding to the extension of the files we want to select and use. Should be '.p' or '.txt'.\n",
    "            - type_of_file : String corresponding to the type of data we want to load. Should be 'Booking' or 'BOL'\n",
    "        Return :\n",
    "            - files : list of the files name order alphabetically that we will load.\n",
    "        '''\n",
    "        # Get all the files with the correponding type of file name:\n",
    "        all_files = os.listdir(filepath)\n",
    "        files = list()\n",
    "        for file in all_files:\n",
    "            if (extension in file)&(type_of_file in file):\n",
    "                files.append(file)\n",
    "        # Put them in alphabetical order:\n",
    "        files = sorted(files)\n",
    "        return files"
   ]
  },
  {
   "cell_type": "code",
   "execution_count": 1,
   "metadata": {},
   "outputs": [],
   "source": [
    "def filter_english_tweet(df):\n",
    "    '''\n",
    "    This function allows the filtering of the tweet which are not written in english.\n",
    "    Arg :\n",
    "        - df : Raw dataframe from the tweet dataset we want to filter.\n",
    "    Return :\n",
    "        - df : Input dataframe filtered.\n",
    "    '''\n",
    "    df = df[df.lang=='en']\n",
    "    df = df.reset_index()\n",
    "    return df"
   ]
  },
  {
   "cell_type": "code",
   "execution_count": null,
   "metadata": {},
   "outputs": [],
   "source": [
    "def decompress_json(archive_path, outfile_path):\n",
    "    outfile_path = outfile_path[:-4]\n",
    "    with open(archive_path, 'rb') as source, open(outfile_path, 'wb') as dest:\n",
    "        dest.write(bz2.decompress(source.read()))"
   ]
  },
  {
   "cell_type": "markdown",
   "metadata": {},
   "source": [
    "# Dataset\n",
    "\n",
    "## Load json data export from the clusters :\n"
   ]
  },
  {
   "cell_type": "code",
   "execution_count": null,
   "metadata": {},
   "outputs": [],
   "source": [
    "import bz2\n",
    "for i in np.arange(12):\n",
    "    for j in ['01','11','21']:\n",
    "        list_df = []\n",
    "        for k in range(24):\n",
    "            files = []\n",
    "            if k<10:\n",
    "                files = load_files(f'../../Desktop/0{i}/{j}/0{k}/', '.json')\n",
    "                for file in files:\n",
    "                    if file.find('bz2')==-1:\n",
    "                        list_df.append(pd.read_json(f'../../Desktop/0{i}/{j}/0{k}/{file}'))\n",
    "            else:\n",
    "                files = load_files(f'../../Desktop/0{i}/{j}/{k}/', '.json')\n",
    "                for file in files:\n",
    "                    if file.find('bz2')==-1:\n",
    "                        list_df.append(pd.read_json(f'../../Desktop/0{i}/{j}/{k}/{file}'))\n",
    "\n",
    "        if len(list_df)!=0:\n",
    "            df = pd.concat(list_df)\n",
    "            pickle_dump(df,f'../../data_twitter/load_tweet_2017_{i}_{j}.p')"
   ]
  },
  {
   "cell_type": "markdown",
   "metadata": {},
   "source": [
    "# Preprocess\n",
    "\n",
    "Public opinion is a important criteria to choose a investement. In fact, each investement will be a part of the identity of the inve stor and public opinion could really sustain some investement and criticize others.\n",
    "It is thus interesting to correlate the greater public's interest into social good projects expressed on social media platforms such as Twitter and Facebook, or news platforms, with the actual investments that are done. \n",
    "To add the public opinion part, sentiment analysis was done on tweet from 2017. In fact, sentiment analysis is contextual mining of text which identifies and extracts subjective information in source material, and helping a business to understand the social sentiment of their brand, product or service while monitoring online conversations. In this part of the data story, the text classifier process tool was used to analyses an incoming message and tells whether the underlying sentiment is positive, negative our neutral.\n",
    "\n",
    "**Used Dataset:** The raw dataset was composed of all the tweets from 2017. \n",
    "First of all, output of the last part where taken and mix with a new dataset which is the Twitter dataset given in the course. It contains the tweets of 2017 and it’s store on the ADA cluster. The documentation of Twitter API was analyzed to understand how to use this database. The group decided to work on a selected part of the entire dataset. In fact, our goal is to score the public’s opinion of compagnies thanks to a sentiment analysis done over tweets of 2017. To do that we decide to take just tweet corresponding to 3 days per month. English tweets were filter as our analysis is made on Americans compagnies. We thus care more about the public opinion of English speaking population as they are more impacted by theses compagnies. For each month, we take always the same days : the 1th, the 11th one and the 21th. Then a preprocessing part corresponding to the cleaning of the tweets and the creation of dictionaries was done. Moreover, we link each tweets to compagny. To do that a easy rule was used : a tweet concerned a company if the name of the company is present in the tweet text or in the tweet tags.\n",
    "\n",
    "\n",
    "\n",
    "## Create a dictionary containing each tweet with the tag"
   ]
  },
  {
   "cell_type": "code",
   "execution_count": null,
   "metadata": {},
   "outputs": [
    {
     "name": "stdout",
     "output_type": "stream",
     "text": [
      "load_tweet_2017_1_01.p\n"
     ]
    }
   ],
   "source": [
    "def dict_tweet_function(df):\n",
    "    list_hashtags = []\n",
    "    dict_tot = dict()\n",
    "    for i in range(df.text.index.max()):\n",
    "        print(f'{i} over {df.text.index.max()}')\n",
    "        dict_tmp = dict()\n",
    "        if (type(df.text[i])==str):\n",
    "            if (len(df.entities[i]['hashtags'])!=0):\n",
    "                dict_tmp['hashtags'] = df.entities[i]['hashtags'][0]['text']\n",
    "                dict_tmp['text'] = df.text[i]\n",
    "            else :\n",
    "                dict_tmp['hashtags'] = df.entities[i]['hashtags']\n",
    "                dict_tmp['text'] = df.text[i]\n",
    "            dict_tot[(i,-1)]=dict_tmp\n",
    "        elif type(df.text[i])==pd.core.series.Series: \n",
    "            for j in range(len(df.text[i])): \n",
    "                dict_tmp = dict()\n",
    "                if (type(df.text[i].reset_index().text[j])==str):\n",
    "                    if len(df.entities[i].reset_index().entities[j]['hashtags'])!=0:\n",
    "                        dict_tmp['hashtags'] = df.entities[i].reset_index().entities[j]['hashtags'][0]['text']\n",
    "                        dict_tmp['text'] = df.text[i].reset_index()['text'][j]\n",
    "                    else : \n",
    "                        dict_tmp['hashtags'] = df.entities[i].reset_index().entities[j]['hashtags']\n",
    "                        dict_tmp['text'] = df.text[i].reset_index()['text'][j]\n",
    "                    dict_tot[(i,j)]=dict_tmp\n",
    "        pickle_dump(dict_tot, f'../../data_twitter/dict/dict_all_tweet_2017_1_01.p')\n",
    "    return dict_tot\n",
    "\n",
    "df = pickle_load(f'../../data_twitter/load_tweet_2017_1_01.p')\n",
    "tmp = dict_tweet_function(df)"
   ]
  },
  {
   "cell_type": "code",
   "execution_count": null,
   "metadata": {},
   "outputs": [],
   "source": [
    "dict_tot = pickle.load(open('dictionary_with_all_tweets_and_hashtags.p', 'rb'))"
   ]
  },
  {
   "cell_type": "markdown",
   "metadata": {},
   "source": [
    "## Merge several process files done in a segmented way"
   ]
  },
  {
   "cell_type": "code",
   "execution_count": 290,
   "metadata": {},
   "outputs": [
    {
     "name": "stdout",
     "output_type": "stream",
     "text": [
      "writing total_bytes=134177431...\n",
      "writing bytes [0, 134177431)... done.\n"
     ]
    }
   ],
   "source": [
    "files = load_files(f'../../data_twitter/dict/', '.p')\n",
    "dict_tot = pickle_load(f'../../data_twitter/dict/{files[0]}')\n",
    "for file in files[1:]:\n",
    "    dict_tot.update(pickle_load(f'../../data_twitter/dict/{file}'))\n",
    "pickle_dump(dict_tot, 'dictionary_with_all_tweets_and_hashtags.p')"
   ]
  },
  {
   "cell_type": "markdown",
   "metadata": {},
   "source": [
    "## Load the list of investor and compagny we are working on\n",
    "We just take compagnies/investor present in 2017 as our sentiment anlysis is done on this period."
   ]
  },
  {
   "cell_type": "code",
   "execution_count": 291,
   "metadata": {},
   "outputs": [
    {
     "name": "stdout",
     "output_type": "stream",
     "text": [
      "writing total_bytes=75136...\n",
      "writing bytes [0, 75136)... done.\n",
      "writing total_bytes=3768...\n",
      "writing bytes [0, 3768)... done.\n"
     ]
    }
   ],
   "source": [
    "df = pd.read_csv('../../Desktop/13f_results_13-18Q3_merged.csv')\n",
    "df['date'] = pd.to_datetime(df['date'])\n",
    "df['Year'] = df['date'].dt.year\n",
    "df = df[df.Year == 2017]\n",
    "df = df.reset_index()\n",
    "pickle_dump(df.investor.unique(), 'investor.p')\n",
    "pickle_dump(df.name.unique(), 'compagny.p')"
   ]
  },
  {
   "cell_type": "markdown",
   "metadata": {},
   "source": [
    "Here we clean the name of the compagny/investor. In particular:\n",
    "    - lowers the string\n",
    "    - removes the special character \n",
    "    - replaces punctuation characters with spaces\n",
    "Then we split the string and select the longest word and take as name of the compagny the longest word one plus one word before. In fact, after analysis the dataset, this methods gives the best results compare to other trials."
   ]
  },
  {
   "cell_type": "code",
   "execution_count": 193,
   "metadata": {},
   "outputs": [],
   "source": [
    "tmp = pd.read_csv('../../Desktop/13f_results_13-18Q3_merged.csv')\n",
    "compagny = tmp['name'].unique()\n",
    "investor = tmp['investor'].unique()\n",
    "\n",
    "# Clean the name : \n",
    "for i in range(len(compagny)):\n",
    "    index = clean_text(compagny[i]).split().index(max(clean_text(compagny[i]).split(), key=len))\n",
    "    if index > 0:\n",
    "        compagny[i] = f'{clean_text(compagny[i]).split()[index_name-1]} {clean_text(compagny[i]).split()[index_name]}'\n",
    "    else :\n",
    "        compagny[i] = clean_text(compagny[i]).split()[0]\n",
    "        \n",
    "for i in range(len(investor)):\n",
    "    index = clean_text(investor[i]).split().index(max(clean_text(investor[i]).split(), key=len))\n",
    "    if index > 1:\n",
    "        investor[i] = f'{clean_text(investor[i]).split()[index_name-2]} {clean_text(investor[i]).split()[index_name-1]} {clean_text(investor[i]).split()[index_name]}'\n",
    "    elif index > 0:\n",
    "        investor[i] = f'{clean_text(investor[i]).split()[index_name-1]} {clean_text(investor[i]).split()[index_name]}'\n",
    "    else :\n",
    "        investor[i] = clean_text(investor[i]).split()[0]"
   ]
  },
  {
   "cell_type": "code",
   "execution_count": 292,
   "metadata": {},
   "outputs": [
    {
     "name": "stdout",
     "output_type": "stream",
     "text": [
      "writing total_bytes=3004...\n",
      "writing bytes [0, 3004)... done.\n",
      "writing total_bytes=89165...\n",
      "writing bytes [0, 89165)... done.\n",
      "217\n",
      "5146\n"
     ]
    }
   ],
   "source": [
    "pickle_dump(compagny, 'compagny_dataset_clean.p')\n",
    "pickle_dump(investor, 'investor_dataset_clean.p')\n",
    "print(len(compagny))\n",
    "print(len(investor))"
   ]
  },
  {
   "cell_type": "code",
   "execution_count": null,
   "metadata": {},
   "outputs": [],
   "source": [
    "compagny = pickle_load('compagny_dataset_clean.p')\n",
    "investor = pickle_load('investor_dataset_clean.p')"
   ]
  },
  {
   "cell_type": "markdown",
   "metadata": {},
   "source": [
    "## Create a dictionary using the compagny or investor as key grouping all the tweets about it\n",
    "We consider that the tweet concerned a compagny/investor is there is his name in the tweet or the hashtag"
   ]
  },
  {
   "cell_type": "code",
   "execution_count": 293,
   "metadata": {},
   "outputs": [],
   "source": [
    "def tweet_per_category(list_of_names, dict_tot):\n",
    "    dict_per_category = dict()\n",
    "    i = 0\n",
    "    for name in list_of_names :\n",
    "        print(i)\n",
    "        list_tweet = []\n",
    "        for key in list(dict_tot.keys()) :\n",
    "            if (str(dict_tot[key]['hashtags']).lower().find(name.lower()) != -1) | (dict_tot[key]['text'].lower().find(name.lower()) != -1):\n",
    "                list_tweet.append(dict_tot[key]['text'])\n",
    "        dict_per_category[name] = list_tweet\n",
    "        i=i+1\n",
    "    return dict_per_category"
   ]
  },
  {
   "cell_type": "code",
   "execution_count": null,
   "metadata": {},
   "outputs": [],
   "source": [
    "dict_tot = pickle_load(f'../../data_twitter/dict/dict_all_tweet_2017_1_01.p')\n",
    "dict_per_compagny = tweet_per_category(compagny, dict_tot)\n",
    "pickle_dump(dict_per_compagny, 'dictionary_per_compagny_tweet.p')"
   ]
  },
  {
   "cell_type": "code",
   "execution_count": null,
   "metadata": {},
   "outputs": [],
   "source": [
    "dict_tot = pickle_load(f'../../data_twitter/dict/dict_all_tweet_2017_1_01.p')\n",
    "dict_per_investor = tweet_per_category(investor, dict_tot)\n",
    "pickle_dump(dict_per_investor, 'dictionary_per_investor_tweet.p')"
   ]
  },
  {
   "cell_type": "code",
   "execution_count": 296,
   "metadata": {},
   "outputs": [],
   "source": [
    "dict_per_compagny = pickle.load(open('dictionary_per_compagny_tweet.p', 'rb'))"
   ]
  },
  {
   "cell_type": "code",
   "execution_count": 297,
   "metadata": {},
   "outputs": [],
   "source": [
    "dict_per_investor = pickle.load(open('dictionary_per_investor_tweet.p', 'rb'))"
   ]
  },
  {
   "cell_type": "markdown",
   "metadata": {},
   "source": [
    "# Method of sentiment analysis :\n",
    "\n",
    "After this pre-processing part, sentiment analysis can begin. We used 2 different method. \n",
    "We apply theses two different method for each tweet and thus as output we have two different scores per tweet (Vader and Fastest). We do the mean of theses two scores. Then if there are several tweets, we take the mean. In fact, we want to penalized when we have extreme score.\n",
    "\n",
    "\n",
    "## Make sentiment analysis for each tweet for each compagny/investors :\n",
    "### Vader\n",
    "\n",
    "The first one is Vader. VADER belongs to a type of sentiment analysis that is based on lexicons of sentiment-related words. In this approach, each of the words in the lexicon is rated as to whether it is positive or negative, and in many cases, how positive or negative. As you might have guessed, when VADER analyses a piece of text it checks to see if any of the words in the text are present in the lexicon. VADER produces four sentiment metrics from these word ratings, which you can see below. The first three, positive, neutral and negative, represent the proportion of the text that falls into those categories.  The final metric, the compound score, is the sum of all of the lexicon ratings which have been standardised to range between -1 and 1. Moreover, VADER doesn’t just do simple matching between the words in the text and in its lexicon. It also considers certain things about the way the words are written as well as their context. One of the things that VADER recognises is capitalisation, which increases the intensity of both positive and negative words. Another factor that increases the intensity of sentence sentiment is exclamation marks, with up to 3 exclamation marks adding additional positive or negative intensity. VADER also takes into account what happens when modifying words are present in front of a sentiment term. Finally, VADER also handles changes in a sentence’s sentiment intensity when it contains ‘but’. Essentially, the rule is that the sentiments expressed both before and after the ‘but’ are taken into consideration, but the sentiment afterwards is weighted more heavily than that before.\n",
    "\n",
    "This library takes into account :\n",
    "\n",
    "- positive sentence example\n",
    "- punctuation emphasis handled correctly (sentiment intensity adjusted)\n",
    "- booster words handled correctly (sentiment intensity adjusted)\n",
    "- emphasis for ALLCAPS handled\n",
    "- combination of signals - VADER appropriately adjusts intensity\n",
    "- booster words & punctuation make this close to ceiling for score\n",
    "- negation sentence example\n",
    "- positive sentence\n",
    "- negated negative sentence with contraction\n",
    "- qualified positive sentence is handled correctly (intensity adjusted)\n",
    "- mixed negation sentence\n",
    "- negative slang with capitalization emphasis\n",
    "- mixed sentiment example with slang and constrastive conjunction \"but\"\n",
    "- emoticons handled\n",
    "- emojis handled\n",
    "- Capitalized negation"
   ]
  },
  {
   "cell_type": "code",
   "execution_count": 298,
   "metadata": {},
   "outputs": [],
   "source": [
    "def vader_analysis(dict_per_):\n",
    "    i = 0\n",
    "    analyzer = SentimentIntensityAnalyzer()\n",
    "    dict_score = dict()\n",
    "    for key in list(dict_per_.keys()):\n",
    "        print(f'{i} over {len(dict_per_.keys())}')\n",
    "        neg, pos, neu, compound, tmp_dict = [], [], [], [], dict()\n",
    "        for sentence in dict_per_[key]:\n",
    "            vs = analyzer.polarity_scores(sentence)\n",
    "            compound.append(vs['compound'])\n",
    "        tmp_dict['compound'] = np.mean(compound)\n",
    "        dict_score[key] = tmp_dict \n",
    "        i=i+1\n",
    "        \n",
    "    return dict_score"
   ]
  },
  {
   "cell_type": "code",
   "execution_count": null,
   "metadata": {},
   "outputs": [],
   "source": [
    "output = vader_analysis(dict_per_compagny)\n",
    "pickle.dump(output, open('dictionary_per_compagny_score_vader.p', 'wb'))"
   ]
  },
  {
   "cell_type": "code",
   "execution_count": 300,
   "metadata": {},
   "outputs": [],
   "source": [
    "df = pickle.load(open('dictionary_per_compagny_score_vader.p','rb'))"
   ]
  },
  {
   "cell_type": "code",
   "execution_count": null,
   "metadata": {},
   "outputs": [],
   "source": [
    "output = vader_analysis(dict_per_investor)\n",
    "pickle.dump(output, open('dictionary_per_investor_score_vader.p', 'wb'))"
   ]
  },
  {
   "cell_type": "markdown",
   "metadata": {},
   "source": [
    "### FastText: \n",
    "\n",
    "The second one is FastText. To be efficient on datasets with very large number of categories, it uses a hierarchical classifier instead of a flat structure, in which the different categories are organized in a tree (think binary tree instead of list). This reduces the time complexities of training and testing text classifiers from linear to logarithmic with respect to the number of classes. FastText also exploits the fact that classes are imbalanced (some classes appearing more often than other) by using the Huffman algorithm to build the tree used to represent categories. The depth in the tree of very frequent categories is therefore smaller than for infrequent ones, leading to further computational efficiency.FastText also represents a text by a low dimensional vector, which is obtained by summing vectors corresponding to the words appearing in the text. In fastText, a low dimensional vector is associated to each word of the vocabulary. This hidden representation is shared across all classifiers for different categories, allowing information about words learned for one category to be used by other categories. These kind of representations, called bag of words, ignore word order."
   ]
  },
  {
   "cell_type": "code",
   "execution_count": 302,
   "metadata": {},
   "outputs": [],
   "source": [
    "MODEL_DIR_PATH = \"../../data_twitter/\"\n",
    "\n",
    "# Load a pretrained model for classification\n",
    "model = fastText.load_model(os.path.join(MODEL_DIR_PATH, \"amazon_review_full.bin\"))\n",
    "\n",
    "maketrans = str.maketrans"
   ]
  },
  {
   "cell_type": "code",
   "execution_count": 303,
   "metadata": {},
   "outputs": [],
   "source": [
    "predict_sentiment = lambda s: model.predict(clean_text(s))"
   ]
  },
  {
   "cell_type": "code",
   "execution_count": 304,
   "metadata": {},
   "outputs": [],
   "source": [
    "def fastext_prediction(dict_per_):\n",
    "    dict_score = dict()\n",
    "    i=0\n",
    "    for key in list(dict_per_.keys()):\n",
    "        print(f'{i} over {len(dict_per_.keys())}')\n",
    "        label, confidence, tmp_dict = [], [], dict()\n",
    "        for sentence in dict_per_[key]:\n",
    "            res = predict_sentiment(sentence)\n",
    "            label.append(int(res[0][0][9]))\n",
    "            confidence.append(res[1][0])\n",
    "        tmp_dict['label'] = np.mean(label)\n",
    "        tmp_dict['confidence'] = np.mean(confidence)\n",
    "        dict_score[key] = tmp_dict  \n",
    "        i=i+1\n",
    "    return dict_score"
   ]
  },
  {
   "cell_type": "code",
   "execution_count": null,
   "metadata": {},
   "outputs": [],
   "source": [
    "output = fastext_prediction(dict_per_compagny)\n",
    "print(len(output.keys()))\n",
    "pickle.dump(output, open('dictionary_per_compagny_score_fasttext.p', 'wb'))"
   ]
  },
  {
   "cell_type": "code",
   "execution_count": null,
   "metadata": {},
   "outputs": [],
   "source": [
    "output = fastext_prediction(dict_per_investor)\n",
    "pickle.dump(output, open('dictionary_per_investor_score_fasttext.p', 'wb'))"
   ]
  },
  {
   "cell_type": "markdown",
   "metadata": {},
   "source": [
    "# Visualisation Part\n",
    "\n",
    "### Preprocessing : Import scores and plot the distribution  :\n",
    "\n",
    "In this part, we are going pre-process the data to have a good format to allows the usage of Gephi to make some grah plot. To do that we will first create dataframe per type of error and per category (investor/compagny). Then, a third scores will be created : the mean of the both normalized scores. We normalized it to give the same importance to each metrics. Then, merging of compagny and investor data will be done. The categorical features is kept by creating a category features with two different string : 'investor' and 'compagny'. To conclude this preprocessing part, node and edge csv files will be created to allows a easy usage of Gephi tool. A correlation dataframe will also be created to allow the creation of a scatter plot. This dataframe will contain Just Capital score and sentiment analysis scores for all compagnies/investors.\n",
    "\n",
    "In this first part, dataframe creation, normalization of fasttext score and merging both metrics will be done.\n",
    "\n",
    "### Compagnies scores\n",
    "\n",
    "#### Vader"
   ]
  },
  {
   "cell_type": "code",
   "execution_count": 307,
   "metadata": {},
   "outputs": [],
   "source": [
    "df = pickle.load(open('dictionary_per_compagny_score_vader.p','rb'))\n",
    "dataframe_compagny = pd.DataFrame()"
   ]
  },
  {
   "cell_type": "code",
   "execution_count": 308,
   "metadata": {},
   "outputs": [],
   "source": [
    "list_key, list_score = [],[]\n",
    "for key in df.keys():\n",
    "    list_key.append(key)\n",
    "    list_score.append(df[key]['compound'])\n",
    "dataframe_compagny['compagny'] = list_key\n",
    "dataframe_compagny['Vader_score'] = list_score"
   ]
  },
  {
   "cell_type": "code",
   "execution_count": 309,
   "metadata": {},
   "outputs": [
    {
     "data": {
      "text/html": [
       "<iframe id=\"igraph\" scrolling=\"no\" style=\"border:none;\" seamless=\"seamless\" src=\"https://plot.ly/~dcleres/30.embed\" height=\"525px\" width=\"100%\"></iframe>"
      ],
      "text/plain": [
       "<plotly.tools.PlotlyDisplay object>"
      ]
     },
     "execution_count": 309,
     "metadata": {},
     "output_type": "execute_result"
    }
   ],
   "source": [
    "# Plot\n",
    "data = [go.Histogram(x=dataframe_compagny.Vader_score)]\n",
    "py.iplot(data, filename='Vader Score histogram for compagnies')"
   ]
  },
  {
   "cell_type": "markdown",
   "metadata": {},
   "source": [
    "#### FastText Score"
   ]
  },
  {
   "cell_type": "code",
   "execution_count": 330,
   "metadata": {},
   "outputs": [],
   "source": [
    "df = pickle.load(open('dictionary_per_compagny_score_fasttext.p','rb'))"
   ]
  },
  {
   "cell_type": "code",
   "execution_count": 346,
   "metadata": {},
   "outputs": [
    {
     "name": "stdout",
     "output_type": "stream",
     "text": [
      "compagny               0.000000\n",
      "Vader_score            0.408451\n",
      "FastText_score         0.408451\n",
      "FastText_confidence    0.408451\n",
      "category               0.000000\n",
      "dtype: float64\n"
     ]
    }
   ],
   "source": [
    "import sklearn.preprocessing\n",
    "list_key, list_score, list_confidence = [],[],[]\n",
    "for key in df.keys():\n",
    "    list_key.append(key)\n",
    "    list_score.append(df[key]['label']) \n",
    "    list_confidence.append(df[key]['confidence'])\n",
    "dataframe_compagny['compagny'] = list_key\n",
    "dataframe_compagny['FastText_score'] = list_score\n",
    "dataframe_compagny['FastText_confidence'] = list_confidence\n",
    "print(dataframe_compagny.isnull().mean())\n",
    "# We normalize the score\n",
    "scaler = sklearn.preprocessing.MinMaxScaler(feature_range=(-1, 1))\n",
    "scaler = scaler.fit(dataframe_compagny['FastText_score'].fillna(3).values.reshape(len(dataframe_compagny['FastText_score'].values),1)) # We fill nan with the 3 as the middle score which is the neutral label is 3\n",
    "dataframe_compagny['FastText_score'] = scaler.transform(dataframe_compagny['FastText_score'].fillna(3).values.reshape(len(dataframe_compagny['FastText_score'].values),1))\n",
    "# We normalize the score\n",
    "scaler_confidence = sklearn.preprocessing.MinMaxScaler(feature_range=(-1, 1))\n",
    "scaler_confidence = scaler_confidence.fit(dataframe_compagny['FastText_confidence'].fillna(0.5).values.reshape(len(dataframe_compagny['FastText_confidence'].values),1)) # We fill nan with the 0.5 as it makes sense with the label score 3 previously used to fill nan\n",
    "dataframe_compagny['FastText_confidence'] = scaler_confidence.transform(dataframe_compagny['FastText_confidence'].fillna(0.5).values.reshape(len(dataframe_compagny['FastText_confidence'].values),1))\n"
   ]
  },
  {
   "cell_type": "code",
   "execution_count": 347,
   "metadata": {},
   "outputs": [
    {
     "data": {
      "text/html": [
       "<iframe id=\"igraph\" scrolling=\"no\" style=\"border:none;\" seamless=\"seamless\" src=\"https://plot.ly/~dcleres/40.embed\" height=\"525px\" width=\"100%\"></iframe>"
      ],
      "text/plain": [
       "<plotly.tools.PlotlyDisplay object>"
      ]
     },
     "execution_count": 347,
     "metadata": {},
     "output_type": "execute_result"
    }
   ],
   "source": [
    "#Plot\n",
    "score = go.Histogram(x=dataframe_compagny.FastText_score, opacity=0.8)\n",
    "confidence = go.Histogram(x=dataframe_compagny.FastText_confidence, opacity=0.5)\n",
    "\n",
    "data = [score, confidence]\n",
    "layout = go.Layout(barmode='overlay')\n",
    "fig = go.Figure(data=data, layout=layout)\n",
    "\n",
    "py.iplot(fig, filename='FastTest Score and confidence histogram for compagnies')"
   ]
  },
  {
   "cell_type": "markdown",
   "metadata": {},
   "source": [
    "###  Investors scores :\n",
    "\n",
    "#### Vader :"
   ]
  },
  {
   "cell_type": "code",
   "execution_count": 361,
   "metadata": {},
   "outputs": [],
   "source": [
    "df = pickle.load(open('dictionary_per_investor_score_vader.p','rb'))\n",
    "dataframe_investor = pd.DataFrame()"
   ]
  },
  {
   "cell_type": "code",
   "execution_count": 362,
   "metadata": {},
   "outputs": [],
   "source": [
    "list_key, list_score = [],[]\n",
    "for key in df.keys():\n",
    "    list_key.append(key)\n",
    "    list_score.append(df[key]['compound'])\n",
    "dataframe_investor['compagny'] = list_key\n",
    "dataframe_investor['Vader_score'] = list_score"
   ]
  },
  {
   "cell_type": "code",
   "execution_count": 364,
   "metadata": {},
   "outputs": [
    {
     "data": {
      "text/html": [
       "<iframe id=\"igraph\" scrolling=\"no\" style=\"border:none;\" seamless=\"seamless\" src=\"https://plot.ly/~dcleres/30.embed\" height=\"525px\" width=\"100%\"></iframe>"
      ],
      "text/plain": [
       "<plotly.tools.PlotlyDisplay object>"
      ]
     },
     "execution_count": 364,
     "metadata": {},
     "output_type": "execute_result"
    }
   ],
   "source": [
    "# Plot\n",
    "data = [go.Histogram(x=dataframe_investor.Vader_score)]\n",
    "py.iplot(data, filename='Vader Score histogram for compagnies')"
   ]
  },
  {
   "cell_type": "markdown",
   "metadata": {},
   "source": [
    "#### FastText :"
   ]
  },
  {
   "cell_type": "code",
   "execution_count": 366,
   "metadata": {},
   "outputs": [],
   "source": [
    "df = pickle.load(open('dictionary_per_investor_score_fasttext.p','rb'))"
   ]
  },
  {
   "cell_type": "code",
   "execution_count": 367,
   "metadata": {},
   "outputs": [],
   "source": [
    "list_key, list_score, list_confidence = [],[],[]\n",
    "for key in df.keys():\n",
    "    list_key.append(key)\n",
    "    list_score.append(df[key]['label'])\n",
    "    list_confidence.append(df[key]['confidence'])\n",
    "dataframe_investor['compagny'] = list_key\n",
    "dataframe_investor['FastText_score'] = list_score\n",
    "dataframe_investor['FastText_confidence'] = list_confidence\n",
    "# We normalize the score\n",
    "scaler = sklearn.preprocessing.MinMaxScaler(feature_range=(-1, 1))\n",
    "scaler = scaler.fit(dataframe_investor['FastText_score'].fillna(3).values.reshape(len(dataframe_investor['FastText_score'].values),1)) # We fill nan with the 3 as the middle score which is the neutral label is 3\n",
    "dataframe_investor['FastText_score'] = scaler.transform(dataframe_investor['FastText_score'].fillna(3).values.reshape(len(dataframe_investor['FastText_score'].values),1))\n",
    "# We normalize the score\n",
    "scaler_confidence = sklearn.preprocessing.MinMaxScaler(feature_range=(-1, 1))\n",
    "scaler_confidence = scaler_confidence.fit(dataframe_investor['FastText_confidence'].fillna(0.5).values.reshape(len(dataframe_investor['FastText_confidence'].values),1)) # We fill nan with the 0.5 as it makes sense with the label score 3 previously used to fill nan\n",
    "dataframe_investor['FastText_confidence'] = scaler_confidence.transform(dataframe_investor['FastText_confidence'].fillna(0.5).values.reshape(len(dataframe_investor['FastText_confidence'].values),1))"
   ]
  },
  {
   "cell_type": "code",
   "execution_count": 368,
   "metadata": {},
   "outputs": [
    {
     "data": {
      "text/html": [
       "<iframe id=\"igraph\" scrolling=\"no\" style=\"border:none;\" seamless=\"seamless\" src=\"https://plot.ly/~dcleres/40.embed\" height=\"525px\" width=\"100%\"></iframe>"
      ],
      "text/plain": [
       "<plotly.tools.PlotlyDisplay object>"
      ]
     },
     "execution_count": 368,
     "metadata": {},
     "output_type": "execute_result"
    }
   ],
   "source": [
    "score = go.Histogram(x=dataframe_investor.FastText_score, opacity=0.75)\n",
    "confidence = go.Histogram(x=dataframe_investor.FastText_confidence, opacity=0.75)\n",
    "\n",
    "data = [score, confidence]\n",
    "layout = go.Layout(barmode='overlay')\n",
    "fig = go.Figure(data=data, layout=layout)\n",
    "\n",
    "py.iplot(fig, filename='FastTest Score and confidence histogram for compagnies')"
   ]
  },
  {
   "cell_type": "code",
   "execution_count": 359,
   "metadata": {},
   "outputs": [
    {
     "name": "stdout",
     "output_type": "stream",
     "text": [
      "writing total_bytes=219795...\n",
      "writing bytes [0, 219795)... done.\n",
      "writing total_bytes=9217...\n",
      "writing bytes [0, 9217)... done.\n"
     ]
    }
   ],
   "source": [
    "# Save intermediate steps \n",
    "pickle_dump(dataframe_investor,'dataframe_investor_both_scores.p')\n",
    "pickle_dump(dataframe_compagny,'dataframe_compagny_both_scores.p')"
   ]
  },
  {
   "cell_type": "markdown",
   "metadata": {},
   "source": [
    "### Distribution histogram for both scores\n",
    "For the following histogram plots, we will plot values with filled nan for defined values and the series by not taking in account theses nan.\n",
    "User just have to de-select the corresponding by cliking on the legend.\n",
    "\n",
    "#### Compagnies"
   ]
  },
  {
   "cell_type": "code",
   "execution_count": 378,
   "metadata": {},
   "outputs": [
    {
     "data": {
      "text/html": [
       "<iframe id=\"igraph\" scrolling=\"no\" style=\"border:none;\" seamless=\"seamless\" src=\"https://plot.ly/~dcleres/42.embed\" height=\"525px\" width=\"100%\"></iframe>"
      ],
      "text/plain": [
       "<plotly.tools.PlotlyDisplay object>"
      ]
     },
     "execution_count": 378,
     "metadata": {},
     "output_type": "execute_result"
    }
   ],
   "source": [
    "ft_score = go.Histogram(x=dataframe_compagny.FastText_score[dataframe_compagny.FastText_score!=0], opacity=0.75)\n",
    "vd_score = go.Histogram(x=dataframe_compagny.Vader_score, opacity=0.75)\n",
    "ft_score_fill = go.Histogram(x=dataframe_compagny.FastText_score, opacity=0.75)\n",
    "vd_score_fill = go.Histogram(x=dataframe_compagny.Vader_score.fillna(0.5), opacity=0.75)\n",
    "confidence = go.Histogram(x=dataframe_compagny.FastText_confidence[dataframe_compagny.FastText_confidence!=0.355], opacity=0.75)\n",
    "\n",
    "data = [ft_score, vd_score, ft_score_fill,vd_score_fill,confidence]\n",
    "layout = go.Layout(barmode='overlay')\n",
    "fig = go.Figure(data=data, layout=layout)\n",
    "\n",
    "py.iplot(fig, filename='Both Score histogram for compagnies')"
   ]
  },
  {
   "cell_type": "markdown",
   "metadata": {},
   "source": [
    "#### Investors"
   ]
  },
  {
   "cell_type": "code",
   "execution_count": 374,
   "metadata": {},
   "outputs": [
    {
     "data": {
      "text/html": [
       "<iframe id=\"igraph\" scrolling=\"no\" style=\"border:none;\" seamless=\"seamless\" src=\"https://plot.ly/~dcleres/42.embed\" height=\"525px\" width=\"100%\"></iframe>"
      ],
      "text/plain": [
       "<plotly.tools.PlotlyDisplay object>"
      ]
     },
     "execution_count": 374,
     "metadata": {},
     "output_type": "execute_result"
    }
   ],
   "source": [
    "ft_score = go.Histogram(x=dataframe_investor.FastText_score[dataframe_investor.FastText_score!=0], opacity=0.75)\n",
    "vd_score = go.Histogram(x=dataframe_investor.Vader_score, opacity=0.75)\n",
    "ft_score_fill = go.Histogram(x=dataframe_investor.FastText_score, opacity=0.75)\n",
    "vd_score_fill = go.Histogram(x=dataframe_investor.Vader_score.fillna(0.5), opacity=0.75)\n",
    "confidence = go.Histogram(x=dataframe_investor.FastText_confidence[dataframe_investor.FastText_confidence!=0.355], opacity=0.75)\n",
    "\n",
    "data = [ft_score, vd_score, ft_score_fill,vd_score_fill,confidence]\n",
    "layout = go.Layout(barmode='overlay')\n",
    "fig = go.Figure(data=data, layout=layout)\n",
    "\n",
    "py.iplot(fig, filename='Both Score histogram for compagnies')"
   ]
  },
  {
   "cell_type": "markdown",
   "metadata": {},
   "source": [
    "### Merge investors and compagnies in the same dataframe\n",
    "Doing this process will help us doing the following graphs."
   ]
  },
  {
   "cell_type": "code",
   "execution_count": 375,
   "metadata": {},
   "outputs": [],
   "source": [
    "# We need this features for categories different categories in the futur plots.\n",
    "dataframe_investor['category'] = 'investor'\n",
    "dataframe_compagny['category'] = 'compagny'\n",
    "dataframe_final_scores = pd.concat([dataframe_compagny, dataframe_investor], ignore_index = True)"
   ]
  },
  {
   "cell_type": "code",
   "execution_count": 376,
   "metadata": {},
   "outputs": [
    {
     "data": {
      "text/html": [
       "<div>\n",
       "<style scoped>\n",
       "    .dataframe tbody tr th:only-of-type {\n",
       "        vertical-align: middle;\n",
       "    }\n",
       "\n",
       "    .dataframe tbody tr th {\n",
       "        vertical-align: top;\n",
       "    }\n",
       "\n",
       "    .dataframe thead th {\n",
       "        text-align: right;\n",
       "    }\n",
       "</style>\n",
       "<table border=\"1\" class=\"dataframe\">\n",
       "  <thead>\n",
       "    <tr style=\"text-align: right;\">\n",
       "      <th></th>\n",
       "      <th>compagny</th>\n",
       "      <th>Vader_score</th>\n",
       "      <th>FastText_score</th>\n",
       "      <th>FastText_confidence</th>\n",
       "      <th>category</th>\n",
       "    </tr>\n",
       "  </thead>\n",
       "  <tbody>\n",
       "    <tr>\n",
       "      <th>0</th>\n",
       "      <td>hca holdings</td>\n",
       "      <td>NaN</td>\n",
       "      <td>0.000000</td>\n",
       "      <td>-0.231809</td>\n",
       "      <td>compagny</td>\n",
       "    </tr>\n",
       "    <tr>\n",
       "      <th>1</th>\n",
       "      <td>citigroup</td>\n",
       "      <td>0.300300</td>\n",
       "      <td>0.000000</td>\n",
       "      <td>-0.135986</td>\n",
       "      <td>compagny</td>\n",
       "    </tr>\n",
       "    <tr>\n",
       "      <th>2</th>\n",
       "      <td>general</td>\n",
       "      <td>0.099932</td>\n",
       "      <td>-0.026005</td>\n",
       "      <td>-0.080995</td>\n",
       "      <td>compagny</td>\n",
       "    </tr>\n",
       "    <tr>\n",
       "      <th>3</th>\n",
       "      <td>visteon</td>\n",
       "      <td>NaN</td>\n",
       "      <td>0.000000</td>\n",
       "      <td>-0.231809</td>\n",
       "      <td>compagny</td>\n",
       "    </tr>\n",
       "    <tr>\n",
       "      <th>4</th>\n",
       "      <td>micron technology</td>\n",
       "      <td>NaN</td>\n",
       "      <td>0.000000</td>\n",
       "      <td>-0.231809</td>\n",
       "      <td>compagny</td>\n",
       "    </tr>\n",
       "  </tbody>\n",
       "</table>\n",
       "</div>"
      ],
      "text/plain": [
       "            compagny  Vader_score  FastText_score  FastText_confidence  \\\n",
       "0       hca holdings          NaN        0.000000            -0.231809   \n",
       "1          citigroup     0.300300        0.000000            -0.135986   \n",
       "2            general     0.099932       -0.026005            -0.080995   \n",
       "3            visteon          NaN        0.000000            -0.231809   \n",
       "4  micron technology          NaN        0.000000            -0.231809   \n",
       "\n",
       "   category  \n",
       "0  compagny  \n",
       "1  compagny  \n",
       "2  compagny  \n",
       "3  compagny  \n",
       "4  compagny  "
      ]
     },
     "execution_count": 376,
     "metadata": {},
     "output_type": "execute_result"
    }
   ],
   "source": [
    "dataframe_final_scores.head()"
   ]
  },
  {
   "cell_type": "code",
   "execution_count": 379,
   "metadata": {},
   "outputs": [
    {
     "data": {
      "text/html": [
       "<iframe id=\"igraph\" scrolling=\"no\" style=\"border:none;\" seamless=\"seamless\" src=\"https://plot.ly/~dcleres/42.embed\" height=\"525px\" width=\"100%\"></iframe>"
      ],
      "text/plain": [
       "<plotly.tools.PlotlyDisplay object>"
      ]
     },
     "execution_count": 379,
     "metadata": {},
     "output_type": "execute_result"
    }
   ],
   "source": [
    "ft_score = go.Histogram(x=dataframe_final_scores.FastText_score[dataframe_final_scores.FastText_score!=0], opacity=0.75)\n",
    "vd_score = go.Histogram(x=dataframe_final_scores.Vader_score, opacity=0.75)\n",
    "ft_score_fill = go.Histogram(x=dataframe_final_scores.FastText_score, opacity=0.75)\n",
    "vd_score_fill = go.Histogram(x=dataframe_final_scores.Vader_score.fillna(0.5), opacity=0.75)\n",
    "confidence = go.Histogram(x=dataframe_final_scores.FastText_confidence[dataframe_final_scores.FastText_confidence!=0.355], opacity=0.75)\n",
    "\n",
    "data = [ft_score, vd_score, ft_score_fill,vd_score_fill,confidence]\n",
    "layout = go.Layout(barmode='overlay')\n",
    "fig = go.Figure(data=data, layout=layout)\n",
    "\n",
    "py.iplot(fig, filename='Both Score histogram for compagnies')"
   ]
  },
  {
   "cell_type": "markdown",
   "metadata": {},
   "source": [
    "### Merge both scores in a single one"
   ]
  },
  {
   "cell_type": "code",
   "execution_count": 380,
   "metadata": {},
   "outputs": [],
   "source": [
    "dataframe_final_scores['Scores_Total'] = dataframe_final_scores[['Vader_score','FastText_score']].mean(axis = 1)"
   ]
  },
  {
   "cell_type": "code",
   "execution_count": 381,
   "metadata": {},
   "outputs": [
    {
     "data": {
      "text/html": [
       "<div>\n",
       "<style scoped>\n",
       "    .dataframe tbody tr th:only-of-type {\n",
       "        vertical-align: middle;\n",
       "    }\n",
       "\n",
       "    .dataframe tbody tr th {\n",
       "        vertical-align: top;\n",
       "    }\n",
       "\n",
       "    .dataframe thead th {\n",
       "        text-align: right;\n",
       "    }\n",
       "</style>\n",
       "<table border=\"1\" class=\"dataframe\">\n",
       "  <thead>\n",
       "    <tr style=\"text-align: right;\">\n",
       "      <th></th>\n",
       "      <th>compagny</th>\n",
       "      <th>Vader_score</th>\n",
       "      <th>FastText_score</th>\n",
       "      <th>FastText_confidence</th>\n",
       "      <th>category</th>\n",
       "      <th>Scores_Total</th>\n",
       "    </tr>\n",
       "  </thead>\n",
       "  <tbody>\n",
       "    <tr>\n",
       "      <th>0</th>\n",
       "      <td>hca holdings</td>\n",
       "      <td>NaN</td>\n",
       "      <td>0.000000</td>\n",
       "      <td>-0.231809</td>\n",
       "      <td>compagny</td>\n",
       "      <td>0.000000</td>\n",
       "    </tr>\n",
       "    <tr>\n",
       "      <th>1</th>\n",
       "      <td>citigroup</td>\n",
       "      <td>0.300300</td>\n",
       "      <td>0.000000</td>\n",
       "      <td>-0.135986</td>\n",
       "      <td>compagny</td>\n",
       "      <td>0.150150</td>\n",
       "    </tr>\n",
       "    <tr>\n",
       "      <th>2</th>\n",
       "      <td>general</td>\n",
       "      <td>0.099932</td>\n",
       "      <td>-0.026005</td>\n",
       "      <td>-0.080995</td>\n",
       "      <td>compagny</td>\n",
       "      <td>0.036964</td>\n",
       "    </tr>\n",
       "    <tr>\n",
       "      <th>3</th>\n",
       "      <td>visteon</td>\n",
       "      <td>NaN</td>\n",
       "      <td>0.000000</td>\n",
       "      <td>-0.231809</td>\n",
       "      <td>compagny</td>\n",
       "      <td>0.000000</td>\n",
       "    </tr>\n",
       "    <tr>\n",
       "      <th>4</th>\n",
       "      <td>micron technology</td>\n",
       "      <td>NaN</td>\n",
       "      <td>0.000000</td>\n",
       "      <td>-0.231809</td>\n",
       "      <td>compagny</td>\n",
       "      <td>0.000000</td>\n",
       "    </tr>\n",
       "  </tbody>\n",
       "</table>\n",
       "</div>"
      ],
      "text/plain": [
       "            compagny  Vader_score  FastText_score  FastText_confidence  \\\n",
       "0       hca holdings          NaN        0.000000            -0.231809   \n",
       "1          citigroup     0.300300        0.000000            -0.135986   \n",
       "2            general     0.099932       -0.026005            -0.080995   \n",
       "3            visteon          NaN        0.000000            -0.231809   \n",
       "4  micron technology          NaN        0.000000            -0.231809   \n",
       "\n",
       "   category  Scores_Total  \n",
       "0  compagny      0.000000  \n",
       "1  compagny      0.150150  \n",
       "2  compagny      0.036964  \n",
       "3  compagny      0.000000  \n",
       "4  compagny      0.000000  "
      ]
     },
     "execution_count": 381,
     "metadata": {},
     "output_type": "execute_result"
    }
   ],
   "source": [
    "dataframe_final_scores.head()"
   ]
  },
  {
   "cell_type": "code",
   "execution_count": 385,
   "metadata": {},
   "outputs": [
    {
     "data": {
      "text/html": [
       "<iframe id=\"igraph\" scrolling=\"no\" style=\"border:none;\" seamless=\"seamless\" src=\"https://plot.ly/~dcleres/42.embed\" height=\"525px\" width=\"100%\"></iframe>"
      ],
      "text/plain": [
       "<plotly.tools.PlotlyDisplay object>"
      ]
     },
     "execution_count": 385,
     "metadata": {},
     "output_type": "execute_result"
    }
   ],
   "source": [
    "ft_score = go.Histogram(x=dataframe_final_scores.FastText_score[dataframe_final_scores.FastText_score!=0], opacity=0.5)\n",
    "vd_score = go.Histogram(x=dataframe_final_scores.Vader_score, opacity=0.5)\n",
    "ft_score_fill = go.Histogram(x=dataframe_final_scores.FastText_score, opacity=0.75)\n",
    "vd_score_fill = go.Histogram(x=dataframe_final_scores.Vader_score.fillna(0.5), opacity=0.75)\n",
    "confidence = go.Histogram(x=dataframe_final_scores.FastText_confidence[dataframe_final_scores.FastText_confidence!=0.355], opacity=0.75)\n",
    "tot_score_fill = go.Histogram(x=dataframe_final_scores.Scores_Total, opacity=0.75)\n",
    "tot_score = go.Histogram(x=dataframe_final_scores.Scores_Total[dataframe_final_scores.Scores_Total!=0], opacity=0.5)\n",
    "\n",
    "data = [ft_score, vd_score, ft_score_fill,vd_score_fill, confidence, tot_score_fill, tot_score]\n",
    "layout = go.Layout(barmode='overlay')\n",
    "fig = go.Figure(data=data, layout=layout)\n",
    "\n",
    "py.iplot(fig, filename='Both Score histogram for compagnies')\n",
    "#jane"
   ]
  },
  {
   "cell_type": "markdown",
   "metadata": {},
   "source": [
    "### Create node dataframe for the merge data with the 3 different type of scores"
   ]
  },
  {
   "cell_type": "code",
   "execution_count": 387,
   "metadata": {},
   "outputs": [
    {
     "data": {
      "text/html": [
       "<div>\n",
       "<style scoped>\n",
       "    .dataframe tbody tr th:only-of-type {\n",
       "        vertical-align: middle;\n",
       "    }\n",
       "\n",
       "    .dataframe tbody tr th {\n",
       "        vertical-align: top;\n",
       "    }\n",
       "\n",
       "    .dataframe thead th {\n",
       "        text-align: right;\n",
       "    }\n",
       "</style>\n",
       "<table border=\"1\" class=\"dataframe\">\n",
       "  <thead>\n",
       "    <tr style=\"text-align: right;\">\n",
       "      <th></th>\n",
       "      <th>Vader_score</th>\n",
       "      <th>FastText_score</th>\n",
       "      <th>FastText_confidence</th>\n",
       "      <th>Scores_Total</th>\n",
       "    </tr>\n",
       "    <tr>\n",
       "      <th>ID</th>\n",
       "      <th></th>\n",
       "      <th></th>\n",
       "      <th></th>\n",
       "      <th></th>\n",
       "    </tr>\n",
       "  </thead>\n",
       "  <tbody>\n",
       "    <tr>\n",
       "      <th>13d management</th>\n",
       "      <td>0.0</td>\n",
       "      <td>0.0</td>\n",
       "      <td>-0.35255</td>\n",
       "      <td>0.0</td>\n",
       "    </tr>\n",
       "    <tr>\n",
       "      <th>1st source</th>\n",
       "      <td>0.0</td>\n",
       "      <td>0.0</td>\n",
       "      <td>-0.35255</td>\n",
       "      <td>0.0</td>\n",
       "    </tr>\n",
       "    <tr>\n",
       "      <th>361 capital</th>\n",
       "      <td>0.0</td>\n",
       "      <td>0.0</td>\n",
       "      <td>-0.35255</td>\n",
       "      <td>0.0</td>\n",
       "    </tr>\n",
       "    <tr>\n",
       "      <th>440 investment</th>\n",
       "      <td>0.0</td>\n",
       "      <td>0.0</td>\n",
       "      <td>-0.35255</td>\n",
       "      <td>0.0</td>\n",
       "    </tr>\n",
       "    <tr>\n",
       "      <th>6 meridian</th>\n",
       "      <td>0.0</td>\n",
       "      <td>0.0</td>\n",
       "      <td>-0.35255</td>\n",
       "      <td>0.0</td>\n",
       "    </tr>\n",
       "  </tbody>\n",
       "</table>\n",
       "</div>"
      ],
      "text/plain": [
       "                Vader_score  FastText_score  FastText_confidence  Scores_Total\n",
       "ID                                                                            \n",
       "13d management          0.0             0.0             -0.35255           0.0\n",
       "1st source              0.0             0.0             -0.35255           0.0\n",
       "361 capital             0.0             0.0             -0.35255           0.0\n",
       "440 investment          0.0             0.0             -0.35255           0.0\n",
       "6 meridian              0.0             0.0             -0.35255           0.0"
      ]
     },
     "execution_count": 387,
     "metadata": {},
     "output_type": "execute_result"
    }
   ],
   "source": [
    "# In this cell, we prepare the dataset to be use in Gephi to do beautiful graph plot\n",
    "dataframe_final_scores.category = dataframe_final_scores.category.astype('category')\n",
    "dataframe_final_scores = dataframe_final_scores[['compagny', 'Vader_score', 'FastText_score', 'FastText_confidence','Scores_Total', 'category']]\n",
    "dataframe_final_scores = dataframe_final_scores.rename(columns = {'compagny' : 'ID'}).reset_index().drop(['index'], axis =1)\n",
    "dataframe_final_scores = dataframe_final_scores.set_index('ID')\n",
    "dataframe_final_scores = dataframe_final_scores.groupby(dataframe_final_scores.index).sum()\n",
    "dataframe_final_scores.head() ####attention dans rename"
   ]
  },
  {
   "cell_type": "code",
   "execution_count": 388,
   "metadata": {},
   "outputs": [
    {
     "data": {
      "text/plain": [
       "Vader_score            0.0\n",
       "FastText_score         0.0\n",
       "FastText_confidence    0.0\n",
       "Scores_Total           0.0\n",
       "dtype: float64"
      ]
     },
     "execution_count": 388,
     "metadata": {},
     "output_type": "execute_result"
    }
   ],
   "source": [
    "dataframe_final_scores.isnull().mean()"
   ]
  },
  {
   "cell_type": "code",
   "execution_count": 389,
   "metadata": {},
   "outputs": [
    {
     "name": "stdout",
     "output_type": "stream",
     "text": [
      "writing total_bytes=242055...\n",
      "writing bytes [0, 242055)... done.\n"
     ]
    }
   ],
   "source": [
    "pickle_dump(dataframe_final_scores,'node_df.csv')"
   ]
  },
  {
   "cell_type": "markdown",
   "metadata": {},
   "source": [
    "### Create the corresponding edge matrix"
   ]
  },
  {
   "cell_type": "code",
   "execution_count": null,
   "metadata": {},
   "outputs": [],
   "source": [
    "# Load and clean load data and select data of interest (which means for year 2017)\n",
    "df_edges = pd.read_csv('../../Desktop/13f_results_13-18Q3_merged.csv')\n",
    "df_edges['date'] = pd.to_datetime(df_edges['date'])\n",
    "df_edges['Year'] = df_edges['date'].dt.year\n",
    "df_edges = df_edges[df_edges.Year == 2017]\n",
    "df_edges = df_edges.reset_index()\n",
    "\n",
    "# Select meaning full features\n",
    "df_edges = df_edges[['investor','date','stock','name', 'industry','scores.overall']]\n",
    "\n",
    "# Create the edges matrix by cleaning it\n",
    "for i in range(len(df_edges)):\n",
    "    print(i, 'over', len(df_edges))\n",
    "    index_name = clean_text(df_edges['name'][i]).split().index(max(clean_text(df_edges['name'][i]).split(), key=len))\n",
    "    if index_name > 0:\n",
    "        df_edges['name'][i] = f'{clean_text(df_edges.name[i]).split()[index_name-1]} {clean_text(df_edges.name[i]).split()[index_name]}'\n",
    "    else :\n",
    "        df_edges['name'][i] = clean_text(df_edges.name[i]).split()[0]\n",
    "    \n",
    "    index_investor = clean_text(df_edges['investor'][i]).split().index(max(clean_text(df_edges['investor'][i]).split(), key=len))\n",
    "    if index_investor > 1 :\n",
    "        df_edges['investor'][i] = f'{clean_text(df_edges.investor[i]).split()[index_investor-2]} {clean_text(df_edges.investor[i]).split()[index_investor-1]} {clean_text(df_edges.investor[i]).split()[index_investor]}'\n",
    "    elif index_investor > 0 :\n",
    "        df_edges['investor'][i] = f'{clean_text(df_edges.investor[i]).split()[index_investor-1]} {clean_text(df_edges.investor[i]).split()[index_investor]}' \n",
    "    else :\n",
    "        df_edges['investor'][i] = clean_text(df_edges.investor[i]).split()[0]\n",
    "    "
   ]
  },
  {
   "cell_type": "code",
   "execution_count": null,
   "metadata": {},
   "outputs": [],
   "source": [
    "pickle_dump(df_edges,'edge_df.csv')"
   ]
  },
  {
   "cell_type": "code",
   "execution_count": null,
   "metadata": {},
   "outputs": [],
   "source": [
    "df_edges = df_edges.rename(columns = {'investor':'Source', 'name':'Target'})\n",
    "df_edges = df_edges.reset_index()[['Source','Target']]\n",
    "df_edges = df_edges.set_index(['Source'])\n",
    "df_edges.to_csv('edge_data.csv')"
   ]
  },
  {
   "cell_type": "markdown",
   "metadata": {},
   "source": [
    "### Create correlation dataframe to produce the following scatter plot"
   ]
  },
  {
   "cell_type": "code",
   "execution_count": 473,
   "metadata": {},
   "outputs": [
    {
     "data": {
      "text/html": [
       "<div>\n",
       "<style scoped>\n",
       "    .dataframe tbody tr th:only-of-type {\n",
       "        vertical-align: middle;\n",
       "    }\n",
       "\n",
       "    .dataframe tbody tr th {\n",
       "        vertical-align: top;\n",
       "    }\n",
       "\n",
       "    .dataframe thead th {\n",
       "        text-align: right;\n",
       "    }\n",
       "</style>\n",
       "<table border=\"1\" class=\"dataframe\">\n",
       "  <thead>\n",
       "    <tr style=\"text-align: right;\">\n",
       "      <th></th>\n",
       "      <th>investor</th>\n",
       "      <th>date</th>\n",
       "      <th>stock</th>\n",
       "      <th>name</th>\n",
       "      <th>industry</th>\n",
       "      <th>scores.overall</th>\n",
       "    </tr>\n",
       "  </thead>\n",
       "  <tbody>\n",
       "    <tr>\n",
       "      <th>0</th>\n",
       "      <td>intrust</td>\n",
       "      <td>2017-08-07</td>\n",
       "      <td>HCA HEALTHCARE INC</td>\n",
       "      <td>hca holdings</td>\n",
       "      <td>Health Care Providers</td>\n",
       "      <td>53.558634</td>\n",
       "    </tr>\n",
       "    <tr>\n",
       "      <th>1</th>\n",
       "      <td>community trust investment</td>\n",
       "      <td>2017-07-10</td>\n",
       "      <td>HCA HEALTHCARE INC</td>\n",
       "      <td>hca holdings</td>\n",
       "      <td>Health Care Providers</td>\n",
       "      <td>53.558634</td>\n",
       "    </tr>\n",
       "    <tr>\n",
       "      <th>2</th>\n",
       "      <td>par capital management</td>\n",
       "      <td>2017-08-14</td>\n",
       "      <td>HCA HEALTHCARE INC</td>\n",
       "      <td>hca holdings</td>\n",
       "      <td>Health Care Providers</td>\n",
       "      <td>53.558634</td>\n",
       "    </tr>\n",
       "    <tr>\n",
       "      <th>3</th>\n",
       "      <td>dreman value management</td>\n",
       "      <td>2017-08-16</td>\n",
       "      <td>HCA Holdings Inc</td>\n",
       "      <td>hca holdings</td>\n",
       "      <td>Health Care Providers</td>\n",
       "      <td>53.558634</td>\n",
       "    </tr>\n",
       "    <tr>\n",
       "      <th>4</th>\n",
       "      <td>highfields</td>\n",
       "      <td>2017-08-14</td>\n",
       "      <td>HCA HEALTHCARE INC</td>\n",
       "      <td>hca holdings</td>\n",
       "      <td>Health Care Providers</td>\n",
       "      <td>53.558634</td>\n",
       "    </tr>\n",
       "  </tbody>\n",
       "</table>\n",
       "</div>"
      ],
      "text/plain": [
       "                     investor       date               stock          name  \\\n",
       "0                     intrust 2017-08-07  HCA HEALTHCARE INC  hca holdings   \n",
       "1  community trust investment 2017-07-10  HCA HEALTHCARE INC  hca holdings   \n",
       "2      par capital management 2017-08-14  HCA HEALTHCARE INC  hca holdings   \n",
       "3     dreman value management 2017-08-16    HCA Holdings Inc  hca holdings   \n",
       "4                  highfields 2017-08-14  HCA HEALTHCARE INC  hca holdings   \n",
       "\n",
       "                industry  scores.overall  \n",
       "0  Health Care Providers       53.558634  \n",
       "1  Health Care Providers       53.558634  \n",
       "2  Health Care Providers       53.558634  \n",
       "3  Health Care Providers       53.558634  \n",
       "4  Health Care Providers       53.558634  "
      ]
     },
     "execution_count": 473,
     "metadata": {},
     "output_type": "execute_result"
    }
   ],
   "source": [
    "df_edges = pickle_load('edge_df.csv')\n",
    "df_edges.head()"
   ]
  },
  {
   "cell_type": "code",
   "execution_count": null,
   "metadata": {},
   "outputs": [],
   "source": [
    "score_capital = []\n",
    "correlation = df_edges\n",
    "correlation['scores_sentiment_compagny'] = 100.0\n",
    "for i in range(correlation.shape[0]) :\n",
    "    print(i, 'over', correlation.shape[0])\n",
    "    for j in range (dataframe_final_scores.shape[0]) :\n",
    "        if (dataframe_final_scores.Scores_Total[j]!=0):\n",
    "            if correlation['name'][i] == dataframe_final_scores.index[j]:\n",
    "                correlation['scores_sentiment_compagny'][i] = float(dataframe_final_scores.loc[(dataframe_final_scores.index == dataframe_final_scores.index[j]),'Scores_Total'].values[0])\n",
    "                correlation.to_pickle('correlation.p')"
   ]
  },
  {
   "cell_type": "code",
   "execution_count": null,
   "metadata": {},
   "outputs": [],
   "source": [
    "correlation.head()"
   ]
  },
  {
   "cell_type": "code",
   "execution_count": 481,
   "metadata": {},
   "outputs": [],
   "source": [
    "correlation = pickle.load(open('correlation.p','rb'))"
   ]
  },
  {
   "cell_type": "markdown",
   "metadata": {},
   "source": [
    "### Scatter plot to analyse correlation between Just Capital scores and sentiment analysis scores "
   ]
  },
  {
   "cell_type": "code",
   "execution_count": null,
   "metadata": {},
   "outputs": [],
   "source": [
    "# Create a trace\n",
    "trace = go.Scatter(\n",
    "    x = correlation['scores.overall'],\n",
    "    y = correlation['scores_sentiment_compagny'],\n",
    "    mode = 'markers'\n",
    ")\n",
    "\n",
    "data = [trace]\n",
    "\n",
    "fig = dict(data=data)\n",
    "py.iplot(fig, filename='Correlation between Sentiment Analysis scores and JustCapital Scores')"
   ]
  },
  {
   "cell_type": "markdown",
   "metadata": {},
   "source": [
    "# Plots\n",
    "\n",
    "### Graph plot exploration :"
   ]
  },
  {
   "cell_type": "code",
   "execution_count": 461,
   "metadata": {},
   "outputs": [],
   "source": [
    "df_edges = pd.read_csv('edge_data.csv')\n",
    "df_node = pd.read_csv('node_df.csv')\n",
    "df_node = df_node.set_index('ID')"
   ]
  },
  {
   "cell_type": "code",
   "execution_count": 450,
   "metadata": {},
   "outputs": [
    {
     "data": {
      "text/html": [
       "<div>\n",
       "<style scoped>\n",
       "    .dataframe tbody tr th:only-of-type {\n",
       "        vertical-align: middle;\n",
       "    }\n",
       "\n",
       "    .dataframe tbody tr th {\n",
       "        vertical-align: top;\n",
       "    }\n",
       "\n",
       "    .dataframe thead th {\n",
       "        text-align: right;\n",
       "    }\n",
       "</style>\n",
       "<table border=\"1\" class=\"dataframe\">\n",
       "  <thead>\n",
       "    <tr style=\"text-align: right;\">\n",
       "      <th></th>\n",
       "      <th>ID</th>\n",
       "      <th>Vader_score</th>\n",
       "      <th>FastText_score</th>\n",
       "      <th>FastText_confidence</th>\n",
       "      <th>Scores_Total</th>\n",
       "    </tr>\n",
       "  </thead>\n",
       "  <tbody>\n",
       "    <tr>\n",
       "      <th>0</th>\n",
       "      <td>13d management</td>\n",
       "      <td>0.0</td>\n",
       "      <td>0.0</td>\n",
       "      <td>-0.35255</td>\n",
       "      <td>0.0</td>\n",
       "    </tr>\n",
       "    <tr>\n",
       "      <th>1</th>\n",
       "      <td>1st source</td>\n",
       "      <td>0.0</td>\n",
       "      <td>0.0</td>\n",
       "      <td>-0.35255</td>\n",
       "      <td>0.0</td>\n",
       "    </tr>\n",
       "    <tr>\n",
       "      <th>2</th>\n",
       "      <td>361 capital</td>\n",
       "      <td>0.0</td>\n",
       "      <td>0.0</td>\n",
       "      <td>-0.35255</td>\n",
       "      <td>0.0</td>\n",
       "    </tr>\n",
       "    <tr>\n",
       "      <th>3</th>\n",
       "      <td>440 investment</td>\n",
       "      <td>0.0</td>\n",
       "      <td>0.0</td>\n",
       "      <td>-0.35255</td>\n",
       "      <td>0.0</td>\n",
       "    </tr>\n",
       "    <tr>\n",
       "      <th>4</th>\n",
       "      <td>6 meridian</td>\n",
       "      <td>0.0</td>\n",
       "      <td>0.0</td>\n",
       "      <td>-0.35255</td>\n",
       "      <td>0.0</td>\n",
       "    </tr>\n",
       "  </tbody>\n",
       "</table>\n",
       "</div>"
      ],
      "text/plain": [
       "               ID  Vader_score  FastText_score  FastText_confidence  \\\n",
       "0  13d management          0.0             0.0             -0.35255   \n",
       "1      1st source          0.0             0.0             -0.35255   \n",
       "2     361 capital          0.0             0.0             -0.35255   \n",
       "3  440 investment          0.0             0.0             -0.35255   \n",
       "4      6 meridian          0.0             0.0             -0.35255   \n",
       "\n",
       "   Scores_Total  \n",
       "0           0.0  \n",
       "1           0.0  \n",
       "2           0.0  \n",
       "3           0.0  \n",
       "4           0.0  "
      ]
     },
     "execution_count": 450,
     "metadata": {},
     "output_type": "execute_result"
    }
   ],
   "source": [
    "df_node.head()"
   ]
  },
  {
   "cell_type": "code",
   "execution_count": 430,
   "metadata": {},
   "outputs": [
    {
     "name": "stdout",
     "output_type": "stream",
     "text": [
      "There are 4887 compagnies/investors linked with 16914 edges in total\n"
     ]
    }
   ],
   "source": [
    "print(f'There are {df_node.shape[0]} compagnies/investors linked with {df_edges.shape[0]} edges in total')"
   ]
  },
  {
   "cell_type": "code",
   "execution_count": 466,
   "metadata": {},
   "outputs": [],
   "source": [
    "# Put the edges information in the good format\n",
    "link_graph = nx.from_pandas_edgelist(df_edges, 'Source', 'Target', edge_attr=None, create_using= nx.Graph())\n",
    "# Set attributes\n",
    "nx.set_node_attributes(link_graph, df_node['Scores_Total'].to_dict(), 'Scores_Total' )\n",
    "nx.set_node_attributes(link_graph, df_node['FastText_confidence'].to_dict(), 'FastText_confidence' )\n",
    "nx.set_node_attributes(link_graph, df_node['FastText_score'].to_dict(), 'FastText_score' )\n",
    "nx.set_node_attributes(link_graph, df_node['Vader_score'].to_dict(), 'Vader_score' )"
   ]
  },
  {
   "cell_type": "code",
   "execution_count": 465,
   "metadata": {},
   "outputs": [
    {
     "data": {
      "text/plain": [
       "{'Scores_Total': 0.2263}"
      ]
     },
     "execution_count": 465,
     "metadata": {},
     "output_type": "execute_result"
    }
   ],
   "source": [
    "link_graph.node['intrust']"
   ]
  },
  {
   "cell_type": "code",
   "execution_count": 432,
   "metadata": {},
   "outputs": [
    {
     "data": {
      "image/png": "[encoded data removed]",
      "text/plain": [
       "<Figure size 432x288 with 1 Axes>"
      ]
     },
     "metadata": {},
     "output_type": "display_data"
    }
   ],
   "source": [
    "# We connect the network\n",
    "pos = nx.spring_layout(link_graph,k=0.2)\n",
    "ec = nx.draw_networkx_edges(link_graph, pos, alpha=0.4)\n",
    "nc = nx.draw_networkx_nodes(link_graph, pos, nodelist=link_graph.nodes(), node_color='g', cmap=plt.cm.jet, node_shape='.')\n",
    "plt.axis('off')\n",
    "plt.show()"
   ]
  },
  {
   "cell_type": "markdown",
   "metadata": {},
   "source": [
    "This visualization is not a very pretty. That's why we installed Gephy for some better-looking plots.\n",
    "Let's answer the classical question of a graph analysis."
   ]
  },
  {
   "cell_type": "code",
   "execution_count": 434,
   "metadata": {},
   "outputs": [
    {
     "name": "stdout",
     "output_type": "stream",
     "text": [
      "Network sparsity: 0.0052\n",
      "True\n",
      "The graph contains 1 connected components\n",
      "The largest component has  2517 nodes accounting for 100.00 % of the nodes\n"
     ]
    }
   ],
   "source": [
    "print(\"Network sparsity: %.4f\" %nx.density(link_graph))\n",
    "print(nx.is_connected(link_graph))\n",
    "comp = list(nx.connected_components(link_graph))\n",
    "print('The graph contains', len(comp), 'connected components')\n",
    "largest_comp = max(comp, key=len)\n",
    "percentage_lcc = len(largest_comp)/ link_graph.number_of_nodes() * 100\n",
    "print('The largest component has ', len(largest_comp), 'nodes', 'accounting for %.2f'% percentage_lcc, '% of the nodes')"
   ]
  },
  {
   "cell_type": "markdown",
   "metadata": {},
   "source": [
    "From visually inspecting the graph, we already saw that most of the nodes are in the largest component, which is often the case in a graph. That is why we call that a giant component"
   ]
  },
  {
   "cell_type": "code",
   "execution_count": 435,
   "metadata": {},
   "outputs": [
    {
     "name": "stdout",
     "output_type": "stream",
     "text": [
      "The diameter of the largest component is 7 which is the longest shortest path between any two compagnies in the giant component\n"
     ]
    }
   ],
   "source": [
    "# take the largest component and analyse its diameter = longest shortest path \n",
    "lcc_link_graph = link_graph.subgraph(largest_comp)\n",
    "diameter = nx.diameter(lcc_link_graph)\n",
    "print(\"The diameter of the largest component is\", diameter, \"which is the longest shortest path between any two compagnies in the giant component\")"
   ]
  },
  {
   "cell_type": "markdown",
   "metadata": {},
   "source": [
    "Let's plot a subgraph to see the form :"
   ]
  },
  {
   "cell_type": "code",
   "execution_count": 436,
   "metadata": {},
   "outputs": [
    {
     "data": {
      "image/png": "[encoded data removed]",
      "text/plain": [
       "<Figure size 432x288 with 1 Axes>"
      ]
     },
     "metadata": {},
     "output_type": "display_data"
    }
   ],
   "source": [
    "subgraph_hca = link_graph.subgraph(['apple']+list(link_graph.neighbors('apple')))\n",
    "nx.draw_spring(subgraph_hca, with_labels=True)"
   ]
  },
  {
   "cell_type": "markdown",
   "metadata": {},
   "source": [
    "Which compagny/investors are the most important ?\n",
    "There are many ways to detect important nodes in a graph, for example based on degree or betweeness centrality.\n",
    "\n",
    "Let's begin with the degree : This view is that the more compagnies you are connected with, the more important you are. We will look at the degree distribution."
   ]
  },
  {
   "cell_type": "code",
   "execution_count": 443,
   "metadata": {},
   "outputs": [
    {
     "data": {
      "text/plain": [
       "Text(0.5, 1.0, 'Degree distribution for the investors/compagnies network')"
      ]
     },
     "execution_count": 443,
     "metadata": {},
     "output_type": "execute_result"
    },
    {
     "data": {
      "image/png": "[encoded data removed]",
      "text/plain": [
       "<Figure size 432x288 with 1 Axes>"
      ]
     },
     "metadata": {},
     "output_type": "display_data"
    }
   ],
   "source": [
    "degree_seq = [d[1] for d in sorted_degree]\n",
    "degreeCount = collections.Counter(degree_seq)\n",
    "degreeCount = pd.DataFrame.from_dict( degreeCount, orient='index').reset_index()\n",
    "fig = plt.figure()\n",
    "ax = plt.gca()\n",
    "ax.plot(degreeCount['index'], degreeCount[0], 'o', c='blue', markeredgecolor='none', markersize= 4)\n",
    "plt.ylabel('Frequency')\n",
    "plt.xlabel('Degree')\n",
    "plt.title('Degree distribution for the investors/compagnies network')"
   ]
  },
  {
   "cell_type": "markdown",
   "metadata": {},
   "source": [
    "Try clustering : The Louvain method is a clustering algorithm and has become a standard algorithm in the data scientist toolbox.\n",
    "\n",
    "It proceeds the other way around: initially every node is considered as a community. The communities are traversed, and for each community it is tested whether by joining it to a neighboring community, we can obtain a better clustering."
   ]
  },
  {
   "cell_type": "code",
   "execution_count": 456,
   "metadata": {},
   "outputs": [],
   "source": [
    "# clustering\n",
    "partition = community_louvain.best_partition(link_graph)\n",
    "# add it as an attribute to the nodes\n",
    "for n in link_graph.nodes:\n",
    "    link_graph.nodes[n][\"louvain\"] = partition[n]"
   ]
  },
  {
   "cell_type": "code",
   "execution_count": 457,
   "metadata": {},
   "outputs": [
    {
     "data": {
      "image/png": "[encoded data removed]",
      "text/plain": [
       "<Figure size 432x288 with 1 Axes>"
      ]
     },
     "metadata": {},
     "output_type": "display_data"
    }
   ],
   "source": [
    "# plot it out\n",
    "pos = nx.spring_layout(link_graph,k=0.2)\n",
    "ec = nx.draw_networkx_edges(link_graph, pos, alpha=0.2)\n",
    "nc = nx.draw_networkx_nodes(link_graph, pos, nodelist=link_graph.nodes(), node_color=[link_graph.nodes[n][\"louvain\"] for n in link_graph.nodes], \n",
    "                            with_labels=False, node_size=100, cmap=plt.cm.jet)\n",
    "plt.axis('off')\n",
    "plt.show()\n"
   ]
  },
  {
   "cell_type": "code",
   "execution_count": 458,
   "metadata": {},
   "outputs": [
    {
     "name": "stdout",
     "output_type": "stream",
     "text": [
      "great lakes advisors  who is dict_keys(['louvain'])\n",
      "sentinel  who is dict_keys(['louvain'])\n",
      "harvey capital management  who is dict_keys(['louvain'])\n",
      "rock point advisors  who is dict_keys(['louvain'])\n",
      "point capital management  who is dict_keys(['louvain'])\n",
      "l s advisors  who is dict_keys(['louvain'])\n",
      "ulysses management  who is dict_keys(['louvain'])\n",
      "fox run management  who is dict_keys(['louvain'])\n",
      "first houston  who is dict_keys(['louvain'])\n",
      "lake capital management  who is dict_keys(['louvain'])\n",
      "vontobel  who is dict_keys(['louvain'])\n",
      "westwood  who is dict_keys(['louvain'])\n",
      "montgomery  who is dict_keys(['louvain'])\n",
      "cincinnati specialty underwriters  who is dict_keys(['louvain'])\n",
      "bank trust division  who is dict_keys(['louvain'])\n",
      "fishman  who is dict_keys(['louvain'])\n",
      "markel  who is dict_keys(['louvain'])\n",
      "profit investment  who is dict_keys(['louvain'])\n",
      "dora trust investment  who is dict_keys(['louvain'])\n",
      "evercore wealth management  who is dict_keys(['louvain'])\n",
      "donaldson capital management  who is dict_keys(['louvain'])\n",
      "investment  who is dict_keys(['louvain'])\n",
      "alley  who is dict_keys(['louvain'])\n",
      "beck capital management  who is dict_keys(['louvain'])\n",
      "quadrant capital management  who is dict_keys(['louvain'])\n",
      "boulegeris investments  who is dict_keys(['louvain'])\n",
      "mission wealth management  who is dict_keys(['louvain'])\n",
      "bedell frazier investment  who is dict_keys(['louvain'])\n",
      "mufg securities  who is dict_keys(['louvain'])\n",
      "contravisory  who is dict_keys(['louvain'])\n",
      "services automobile association  who is dict_keys(['louvain'])\n",
      "sentinel asset management  who is dict_keys(['louvain'])\n",
      "wood capital advisers  who is dict_keys(['louvain'])\n",
      "grantham  who is dict_keys(['louvain'])\n",
      "freestone  who is dict_keys(['louvain'])\n",
      "spectrum management  who is dict_keys(['louvain'])\n",
      "gwm advisors  who is dict_keys(['louvain'])\n",
      "cambridge  who is dict_keys(['louvain'])\n",
      "barbara asset management  who is dict_keys(['louvain'])\n",
      "tower bridge advisors  who is dict_keys(['louvain'])\n",
      "janus henderson  who is dict_keys(['louvain'])\n",
      "autus asset management  who is dict_keys(['louvain'])\n",
      "crossvault  who is dict_keys(['louvain'])\n",
      "sequoia financial  who is dict_keys(['louvain'])\n",
      "hulzen asset management  who is dict_keys(['louvain'])\n",
      "gw k investment  who is dict_keys(['louvain'])\n",
      "swarthmore  who is dict_keys(['louvain'])\n",
      "icon advisers  who is dict_keys(['louvain'])\n",
      "pacific capital management  who is dict_keys(['louvain'])\n",
      "philadelphia  who is dict_keys(['louvain'])\n",
      "shapiro capital management  who is dict_keys(['louvain'])\n",
      "sol capital management  who is dict_keys(['louvain'])\n",
      "odey holdings  who is dict_keys(['louvain'])\n",
      "focused wealth management  who is dict_keys(['louvain'])\n",
      "oakworth  who is dict_keys(['louvain'])\n",
      "holt capital advisors  who is dict_keys(['louvain'])\n",
      "neumann capital management  who is dict_keys(['louvain'])\n",
      "vigilant capital management  who is dict_keys(['louvain'])\n",
      "united asset strategies  who is dict_keys(['louvain'])\n",
      "wealthplan  who is dict_keys(['louvain'])\n",
      "smithbridge  who is dict_keys(['louvain'])\n",
      "courier  who is dict_keys(['louvain'])\n",
      "r capital management  who is dict_keys(['louvain'])\n",
      "aberdeen asset management  who is dict_keys(['louvain'])\n",
      "condor capital management  who is dict_keys(['louvain'])\n",
      "fairfield  who is dict_keys(['louvain'])\n",
      "co of vermont  who is dict_keys(['louvain'])\n",
      "credit agricole  who is dict_keys(['louvain'])\n",
      "atlantic  who is dict_keys(['louvain'])\n",
      "cobiz wealth  who is dict_keys(['louvain'])\n",
      "scotia capital  who is dict_keys(['louvain'])\n",
      "plante moran financial  who is dict_keys(['louvain'])\n",
      "benjamin  who is dict_keys(['louvain'])\n",
      "parkside financial  who is dict_keys(['louvain'])\n",
      "zeke capital advisors  who is dict_keys(['louvain'])\n",
      "drexel  who is dict_keys(['louvain'])\n",
      "meristem  who is dict_keys(['louvain'])\n",
      "blue fin capital  who is dict_keys(['louvain'])\n",
      "quantres asset management  who is dict_keys(['louvain'])\n",
      "evanson asset management  who is dict_keys(['louvain'])\n",
      "pittenger  who is dict_keys(['louvain'])\n",
      "td asset management  who is dict_keys(['louvain'])\n",
      "fir tree  who is dict_keys(['louvain'])\n",
      "coldstream  who is dict_keys(['louvain'])\n",
      "viking global investors  who is dict_keys(['louvain'])\n",
      "boston research management  who is dict_keys(['louvain'])\n",
      "first american  who is dict_keys(['louvain'])\n",
      "grimes company  who is dict_keys(['louvain'])\n",
      "johnson financial  who is dict_keys(['louvain'])\n",
      "first allied advisory  who is dict_keys(['louvain'])\n",
      "nbw capital  who is dict_keys(['louvain'])\n",
      "nadler financial  who is dict_keys(['louvain'])\n",
      "averett asset management  who is dict_keys(['louvain'])\n",
      "covington investment  who is dict_keys(['louvain'])\n",
      "winfield associates  who is dict_keys(['louvain'])\n",
      "marathon trading investment  who is dict_keys(['louvain'])\n",
      "madrona financial  who is dict_keys(['louvain'])\n",
      "cantab capital partners  who is dict_keys(['louvain'])\n",
      "winton  who is dict_keys(['louvain'])\n",
      "summit financial strategies  who is dict_keys(['louvain'])\n",
      "first personal financial  who is dict_keys(['louvain'])\n",
      "waldron  who is dict_keys(['louvain'])\n",
      "accenture  who is dict_keys(['louvain'])\n",
      "gratry  who is dict_keys(['louvain'])\n",
      "praesidium  who is dict_keys(['louvain'])\n",
      "first heartland consultants  who is dict_keys(['louvain'])\n",
      "cetera advisors  who is dict_keys(['louvain'])\n",
      "allsquare wealth management  who is dict_keys(['louvain'])\n",
      "krensavage  who is dict_keys(['louvain'])\n",
      "cno financial  who is dict_keys(['louvain'])\n",
      "castleton investment  who is dict_keys(['louvain'])\n",
      "sector pension investment  who is dict_keys(['louvain'])\n",
      "shelter ins retirement  who is dict_keys(['louvain'])\n",
      "bruce  who is dict_keys(['louvain'])\n",
      "bbr partners  who is dict_keys(['louvain'])\n",
      "bsw wealth partners  who is dict_keys(['louvain'])\n",
      "hudson asset management  who is dict_keys(['louvain'])\n",
      "denali advisors  who is dict_keys(['louvain'])\n",
      "campbell wealth management  who is dict_keys(['louvain'])\n",
      "jrm investment  who is dict_keys(['louvain'])\n",
      "apple  who is dict_keys(['louvain'])\n",
      "roof eidam maycock  who is dict_keys(['louvain'])\n",
      "ladenburg  who is dict_keys(['louvain'])\n",
      "amarillo  who is dict_keys(['louvain'])\n",
      "oak ridge investments  who is dict_keys(['louvain'])\n",
      "hays advisory  who is dict_keys(['louvain'])\n",
      "hilltop holdings  who is dict_keys(['louvain'])\n",
      "diker management  who is dict_keys(['louvain'])\n",
      "herndon capital management  who is dict_keys(['louvain'])\n",
      "elm advisors  who is dict_keys(['louvain'])\n",
      "solaris asset management  who is dict_keys(['louvain'])\n",
      "ifrah financial  who is dict_keys(['louvain'])\n",
      "lee financial  who is dict_keys(['louvain'])\n",
      "choate investment  who is dict_keys(['louvain'])\n",
      "ghp investment  who is dict_keys(['louvain'])\n",
      "lpl financial  who is dict_keys(['louvain'])\n",
      "cambridge investment  who is dict_keys(['louvain'])\n",
      "voya financial  who is dict_keys(['louvain'])\n",
      "capstone investment  who is dict_keys(['louvain'])\n",
      "aspiriant  who is dict_keys(['louvain'])\n",
      "lenox wealth management  who is dict_keys(['louvain'])\n",
      "tiedemann wealth management  who is dict_keys(['louvain'])\n",
      "brinker  who is dict_keys(['louvain'])\n",
      "wharton business  who is dict_keys(['louvain'])\n",
      "wealthfront  who is dict_keys(['louvain'])\n",
      "new england investment  who is dict_keys(['louvain'])\n",
      "atria investments  who is dict_keys(['louvain'])\n",
      "noven financial  who is dict_keys(['louvain'])\n",
      "camarda financial  who is dict_keys(['louvain'])\n",
      "creative  who is dict_keys(['louvain'])\n",
      "adviser investments  who is dict_keys(['louvain'])\n",
      "risk paradigm  who is dict_keys(['louvain'])\n",
      "lionstone capital management  who is dict_keys(['louvain'])\n",
      "matarin capital management  who is dict_keys(['louvain'])\n",
      "tuttle tactical management  who is dict_keys(['louvain'])\n",
      "tillar wenstrup  who is dict_keys(['louvain'])\n",
      "miracle mile advisors  who is dict_keys(['louvain'])\n",
      "iron financial  who is dict_keys(['louvain'])\n",
      "bouchey financial  who is dict_keys(['louvain'])\n",
      "cahill financial  who is dict_keys(['louvain'])\n",
      "bienville capital management  who is dict_keys(['louvain'])\n",
      "one capital management  who is dict_keys(['louvain'])\n",
      "btc capital management  who is dict_keys(['louvain'])\n",
      "capital advantage  who is dict_keys(['louvain'])\n",
      "rehmann capital advisory  who is dict_keys(['louvain'])\n",
      "etf portfolio  who is dict_keys(['louvain'])\n",
      "sta wealth management  who is dict_keys(['louvain'])\n",
      "palo alto investors  who is dict_keys(['louvain'])\n",
      "oracle  who is dict_keys(['louvain'])\n",
      "brahman  who is dict_keys(['louvain'])\n",
      "venator capital management  who is dict_keys(['louvain'])\n",
      "proassurance  who is dict_keys(['louvain'])\n",
      "conocophillips  who is dict_keys(['louvain'])\n",
      "pope asset management  who is dict_keys(['louvain'])\n",
      "deere  who is dict_keys(['louvain'])\n",
      "lmr partners  who is dict_keys(['louvain'])\n",
      "lodge hill capital  who is dict_keys(['louvain'])\n",
      "discover financial  who is dict_keys(['louvain'])\n",
      "raytheon  who is dict_keys(['louvain'])\n",
      "karp capital management  who is dict_keys(['louvain'])\n",
      "general dynamics  who is dict_keys(['louvain'])\n",
      "longview asset management  who is dict_keys(['louvain'])\n",
      "united therapeutics  who is dict_keys(['louvain'])\n",
      "cms energy  who is dict_keys(['louvain'])\n",
      "systematic  who is dict_keys(['louvain'])\n",
      "crane  who is dict_keys(['louvain'])\n",
      "torchmark  who is dict_keys(['louvain'])\n"
     ]
    }
   ],
   "source": [
    "cluster= partition['apple']\n",
    "# Take all the nodes that belong to William's cluster\n",
    "members_c = [q for q in link_graph.nodes if partition[q] == cluster]\n",
    "# get info about these quakers\n",
    "for compagny in members_c:\n",
    "    print(compagny, ' who is', link_graph.node[compagny].keys())"
   ]
  },
  {
   "cell_type": "markdown",
   "metadata": {},
   "source": [
    "To finish this analysis, we will calculate the Homophily which like correlation, but translated into graphs.\n",
    "\n",
    "It means : How likely two compagnies that have the same attribute(just_capital_score or sentiment_analysis_score) are linked?"
   ]
  },
  {
   "cell_type": "code",
   "execution_count": 468,
   "metadata": {},
   "outputs": [
    {
     "name": "stdout",
     "output_type": "stream",
     "text": [
      "Homophily Vader_score : -0.05230065256054952\n",
      "Homophily FastText_score : -0.052698381659693955\n",
      "Homophily Score_Total : nan\n",
      "Homophily Just_Capital : nan\n"
     ]
    }
   ],
   "source": [
    "# for categorical attributes\n",
    "print (f'Homophily Vader_score :', nx.attribute_assortativity_coefficient(link_graph, 'Vader_score'))\n",
    "# for categorical attributes\n",
    "print (f'Homophily FastText_score :', nx.attribute_assortativity_coefficient(link_graph, 'FastText_score'))\n",
    "# for categorical attributes\n",
    "print (f'Homophily Score_Total :', nx.attribute_assortativity_coefficient(link_graph, 'Score_Total'))\n",
    "# for categorical attributes\n",
    "print (f'Homophily Just_Capital :', nx.attribute_assortativity_coefficient(link_graph, 'Just_Capital'))"
   ]
  }
 ],
 "metadata": {
  "colab": {
   "name": "milestone_3_notebook.ipynb",
   "provenance": [],
   "version": "0.3.2"
  },
  "kernelspec": {
   "display_name": "Python 3",
   "language": "python",
   "name": "python3"
  },
  "language_info": {
   "codemirror_mode": {
    "name": "ipython",
    "version": 3
   },
   "file_extension": ".py",
   "mimetype": "text/x-python",
   "name": "python",
   "nbconvert_exporter": "python",
   "pygments_lexer": "ipython3",
   "version": "3.6.5"
  }
 },
 "nbformat": 4,
 "nbformat_minor": 1
}
