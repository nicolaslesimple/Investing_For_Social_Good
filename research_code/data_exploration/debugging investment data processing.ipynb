{
 "cells": [
  {
   "cell_type": "code",
   "execution_count": 55,
   "metadata": {},
   "outputs": [],
   "source": [
    "#  Notebook DISPLAY options:\n",
    "#      Represent pandas DataFrames as text; not HTML representation:\n",
    "import pandas as pd\n",
    "import numpy as np\n",
    "pd.set_option( 'display.notebook_repr_html', False )\n",
    "#  Beware, for MATH display, use %%latex, NOT the following:\n",
    "#                   from IPython.display import Math\n",
    "#                   from IPython.display import Latex\n",
    "from IPython.display import HTML # useful for snippets\n",
    "#  e.g. HTML('<iframe src=http://en.mobile.wikipedia.org/?useformat=mobile width=700 height=350></iframe>')\n",
    "from IPython.display import Image \n",
    "#  e.g. Image(filename='holt-winters-equations.png', embed=True) # url= also works\n",
    "from IPython.display import YouTubeVideo\n",
    "#  e.g. YouTubeVideo('1j_HxD4iLn8', start='43', width=600, height=400)\n",
    "from IPython.core import page\n",
    "get_ipython().set_hook('show_in_pager', page.as_hook(page.display_page), 0)\n",
    "#  Or equivalently in config file: \"InteractiveShell.display_page = True\", \n",
    "#  which will display results in secondary notebook pager frame in a cell.\n",
    "\n",
    "#  Generate PLOTS inside notebook, \"inline\" generates static png:\n",
    "%matplotlib inline   \n",
    "#          \"notebook\" argument allows interactive zoom and resize."
   ]
  },
  {
   "cell_type": "code",
   "execution_count": 56,
   "metadata": {},
   "outputs": [
    {
     "name": "stdout",
     "output_type": "stream",
     "text": [
      "http://www.sec.gov/Archives/edgar/data/1000275/000114036114007922/xslForm13F_X01/form13fInfoTable.xml\n"
     ]
    }
   ],
   "source": [
    "\n",
    "#            https cannot be read by lxml, surprisingly.\n",
    "#druck150814='http://www.sec.gov/Archives/edgar/data/1536411/000153641115000006/xslForm13F_X01/form13f_20150630.xml'\n",
    "\n",
    "## main variable for different reports\n",
    "report_suffix = 'edgar/data/1000275/0001140361-14-007922-index.html'\n",
    "investor = 'ROYAL BANK OF CANADA'\n",
    "date = '2014-02-14'\n",
    "stem = 'http://www.sec.gov/Archives/'\n",
    "xml_suffix = '/xslForm13F_X01/form13fInfoTable.xml'\n",
    "\n",
    "report_suffix = report_suffix.replace('-index.html', '')\n",
    "report_suffix = report_suffix.replace('-', '')\n",
    "\n",
    "#     START HERE with a particular URL:\n",
    "url = stem + report_suffix + xml_suffix\n",
    "print(url)\n",
    "\n",
    "# https://www.sec.gov/Archives/edgar/data/1000275/000114036114007922/xslForm13F_X01/form13fInfoTable.xml"
   ]
  },
  {
   "cell_type": "code",
   "execution_count": 57,
   "metadata": {},
   "outputs": [],
   "source": [
    "#  Let's display the web page as in the browser to understand the semantics:\n",
    "#HTML(\"<iframe src=\" + url + \" width=1400 height=350></iframe>\")"
   ]
  },
  {
   "cell_type": "code",
   "execution_count": 58,
   "metadata": {},
   "outputs": [],
   "source": [
    "#  Use pandas to read in the xml page...\n",
    "#  See http://pandas.pydata.org/pandas-docs/stable/generated/pandas.read_html.html\n",
    "\n",
    "#  It searches for <table> elements and only for <tr> and <th> rows and <td> elements \n",
    "#  within each <tr> or <th> element in the table.\n",
    "\n",
    "page = pd.read_html( url )"
   ]
  },
  {
   "cell_type": "code",
   "execution_count": 59,
   "metadata": {},
   "outputs": [],
   "source": [
    "#  page is a list of length 4:\n",
    "#len( page )"
   ]
  },
  {
   "cell_type": "code",
   "execution_count": 60,
   "metadata": {},
   "outputs": [],
   "source": [
    "#  But only the last element of page interests us:\n",
    "df = page[-1]\n",
    "#  which turns out to be a dataframe!"
   ]
  },
  {
   "cell_type": "code",
   "execution_count": 61,
   "metadata": {},
   "outputs": [],
   "source": [
    "\n",
    "#  Let's rename columns for our sanity:\n",
    "df.columns = [ 'stock', 'class', 'cusip', 'usd', 'size', 'sh_prin', 'putcall', 'discret', 'manager', 'vote1', 'vote2', 'vote3']"
   ]
  },
  {
   "cell_type": "code",
   "execution_count": 62,
   "metadata": {},
   "outputs": [
    {
     "data": {
      "text/plain": [
       "                              stock           class      cusip    usd    size  \\\n",
       "0                          AAR CORP             COM  000361105     78    2789   \n",
       "1                          AAR CORP             COM  000361105     21     750   \n",
       "2                           ABB LTD   SPONSORED ADR  000375204    535   20138   \n",
       "3                           ABB LTD   SPONSORED ADR  000375204   2854  107471   \n",
       "4                           ABB LTD   SPONSORED ADR  000375204  19332  727877   \n",
       "5                           ABB LTD   SPONSORED ADR  000375204    136    5137   \n",
       "6                           ABB LTD   SPONSORED ADR  000375204   1255   47270   \n",
       "7                           ABB LTD   SPONSORED ADR  000375204    135    5095   \n",
       "8                           ABB LTD   SPONSORED ADR  000375204    398   15000   \n",
       "9                           ABB LTD   SPONSORED ADR  000375204   1343   50571   \n",
       "10                          ABB LTD   SPONSORED ADR  000375204     32    1204   \n",
       "11                     ABM INDS INC             COM  000957100    108    3795   \n",
       "12                     ABM INDS INC             COM  000957100      1      38   \n",
       "13                     AEP INDS INC             COM  001031103     39     741   \n",
       "14                        AFLAC INC             COM  001055102  33348  499227   \n",
       "15                        AFLAC INC             COM  001055102   7427  111177   \n",
       "16                        AFLAC INC             COM  001055102   8454  126555   \n",
       "17                        AFLAC INC             COM  001055102    321    4800   \n",
       "18                        AFLAC INC             COM  001055102  18558  277812   \n",
       "19                        AFLAC INC             COM  001055102    435    6508   \n",
       "20                        AFLAC INC             COM  001055102   1027   15372   \n",
       "21                        AFLAC INC             COM  001055102    668   10000   \n",
       "22                        AFLAC INC             COM  001055102    452    6765   \n",
       "23                        AFLAC INC             COM  001055102      5      78   \n",
       "24                        AGCO CORP             COM  001084102   1350   22811   \n",
       "25                        AGCO CORP             COM  001084102   2035   34381   \n",
       "26                        AGCO CORP             COM  001084102    348    5884   \n",
       "27                        AGCO CORP             COM  001084102      9     148   \n",
       "28                      AGL RES INC             COM  001204106     20     433   \n",
       "29                      AGL RES INC             COM  001204106    895   18946   \n",
       "...                             ...             ...        ...    ...     ...   \n",
       "17331     KNOT OFFSHORE PARTNERS LP       COM UNITS  Y48125101    133    4750   \n",
       "17332        NAVIGATOR HOLDINGS LTD             SHS  Y62132108     20     748   \n",
       "17333  NAVIOS MARITIME HOLDINGS INC             COM  Y62196103    246   22002   \n",
       "17334  NAVIOS MARITIME HOLDINGS INC             COM  Y62196103      4     394   \n",
       "17335  NAVIOS MARITIME PARTNERS L P        UNIT LPI  Y62267102   3968  207520   \n",
       "17336  NAVIOS MARITIME PARTNERS L P        UNIT LPI  Y62267102     38    2000   \n",
       "17337  NAVIOS MARITIME PARTNERS L P        UNIT LPI  Y62267102     94    4900   \n",
       "17338             OCEAN RIG UDW INC             SHS  Y64354205    215   11149   \n",
       "17339             OCEAN RIG UDW INC             SHS  Y64354205   5776  300068   \n",
       "17340             OCEAN RIG UDW INC             SHS  Y64354205     37    1900   \n",
       "17341              SAFE BULKERS INC             COM  Y7388L103    385   37000   \n",
       "17342              SAFE BULKERS INC             COM  Y7388L103    413   39700   \n",
       "17343           SCORPIO TANKERS INC             SHS  Y7542C106     30    2532   \n",
       "17344           SCORPIO TANKERS INC             SHS  Y7542C106      9     800   \n",
       "17345         SEADRILL PARTNERS LLC  COMUNIT REP LB  Y7545W109     68    2200   \n",
       "17346                  SEASPAN CORP             SHS  Y75638109     46    2000   \n",
       "17347                  SEASPAN CORP             SHS  Y75638109   1066   46455   \n",
       "17348                  SEASPAN CORP             SHS  Y75638109      9     400   \n",
       "17349       TEEKAY LNG PARTNERS L P   PRTNRSP UNITS  Y8564M105   2612   61164   \n",
       "17350       TEEKAY LNG PARTNERS L P   PRTNRSP UNITS  Y8564M105     37     863   \n",
       "17351       TEEKAY LNG PARTNERS L P   PRTNRSP UNITS  Y8564M105     51    1200   \n",
       "17352            TEEKAY CORPORATION             COM  Y8564W103    925   19268   \n",
       "17353            TEEKAY CORPORATION             COM  Y8564W103     71    1487   \n",
       "17354            TEEKAY CORPORATION             COM  Y8564W103      3      70   \n",
       "17355  TEEKAY OFFSHORE PARTNERS L P  PARTNERSHIP UN  Y8565J101    228    6877   \n",
       "17356  TEEKAY OFFSHORE PARTNERS L P  PARTNERSHIP UN  Y8565J101    245    7411   \n",
       "17357            TEEKAY TANKERS LTD            CL A  Y8565N102     69   17600   \n",
       "17358            TEEKAY TANKERS LTD            CL A  Y8565N102    321   81626   \n",
       "17359            TEEKAY TANKERS LTD            CL A  Y8565N102      0      60   \n",
       "17360                 TOP SHIPS INC             SHS  Y8897Y123      0      16   \n",
       "\n",
       "      sh_prin putcall discret manager   vote1  vote2  vote3  \n",
       "0          SH     NaN    DFND       2    2789      0      0  \n",
       "1          SH     NaN    DFND       3       0      0    750  \n",
       "2          SH     NaN    DFND       2   20138      0      0  \n",
       "3          SH     NaN    DFND       3  101086      0   6385  \n",
       "4          SH     NaN    DFND       5  727877      0      0  \n",
       "5          SH     NaN    DFND       7       0   5137      0  \n",
       "6          SH     NaN    DFND       8   47270      0      0  \n",
       "7          SH     NaN    DFND      15    5095      0      0  \n",
       "8          SH     NaN    DFND      16   15000      0      0  \n",
       "9          SH     NaN    DFND     5;1   50571      0      0  \n",
       "10         SH     NaN    SOLE     NaN    1204      0      0  \n",
       "11         SH     NaN    DFND       3    3795      0      0  \n",
       "12         SH     NaN    DFND      15      38      0      0  \n",
       "13         SH     NaN    DFND       2     741      0      0  \n",
       "14         SH     NaN    DFND       1  499227      0      0  \n",
       "15         SH     NaN    DFND       2  111177      0      0  \n",
       "16         SH     NaN    DFND       3  107480      0  19075  \n",
       "17         SH     Put    DFND       3    4800      0      0  \n",
       "18         SH     NaN    DFND       5  277812      0      0  \n",
       "19         SH     NaN    DFND       7       0   6508      0  \n",
       "20         SH     NaN    DFND       8    3152  12220      0  \n",
       "21         SH     NaN    DFND      14   10000      0      0  \n",
       "22         SH     NaN    DFND      15    6765      0      0  \n",
       "23         SH     NaN    SOLE     NaN      78      0      0  \n",
       "24         SH     NaN    DFND       2   22811      0      0  \n",
       "25         SH     NaN    DFND       3   33227      0   1154  \n",
       "26         SH     NaN    DFND       5    5884      0      0  \n",
       "27         SH     NaN    DFND      15     148      0      0  \n",
       "28         SH     NaN    DFND       1     433      0      0  \n",
       "29         SH     NaN    DFND       2   18946      0      0  \n",
       "...       ...     ...     ...     ...     ...    ...    ...  \n",
       "17331      SH     NaN    DFND       3    4750      0      0  \n",
       "17332      SH     NaN    DFND       2     748      0      0  \n",
       "17333      SH     NaN    DFND       2   22002      0      0  \n",
       "17334      SH     NaN    DFND      15     394      0      0  \n",
       "17335      SH     NaN    DFND       3  190971      0  16549  \n",
       "17336      SH     NaN    DFND      13    2000      0      0  \n",
       "17337      SH     NaN    DFND      15    4900      0      0  \n",
       "17338      SH     NaN    DFND       2   11149      0      0  \n",
       "17339      SH     NaN    DFND       3  300061      0      7  \n",
       "17340      SH     NaN    DFND       5    1900      0      0  \n",
       "17341      SH     NaN    DFND       3   26000      0  11000  \n",
       "17342      SH     NaN    DFND       4       0      0  39700  \n",
       "17343      SH     NaN    DFND       5    2532      0      0  \n",
       "17344      SH     NaN    DFND      16     800      0      0  \n",
       "17345      SH     NaN    DFND       3    2200      0      0  \n",
       "17346      SH     NaN    DFND       3    1000      0   1000  \n",
       "17347      SH     NaN    DFND       5   46455      0      0  \n",
       "17348      SH     NaN    DFND       9     400      0      0  \n",
       "17349      SH     NaN    DFND       3   56544      0   4620  \n",
       "17350      SH     NaN    DFND       5     863      0      0  \n",
       "17351      SH     NaN    DFND      15    1200      0      0  \n",
       "17352      SH     NaN    DFND       3   17468      0   1800  \n",
       "17353      SH     NaN    DFND       5    1487      0      0  \n",
       "17354      SH     NaN    DFND      15      70      0      0  \n",
       "17355      SH     NaN    DFND       2    6877      0      0  \n",
       "17356      SH     NaN    DFND       3    6208      0   1203  \n",
       "17357      SH     NaN    DFND       4       0      0  17600  \n",
       "17358      SH     NaN    DFND       5   81626      0      0  \n",
       "17359      SH     NaN    DFND       8      60      0      0  \n",
       "17360      SH     NaN    DFND       3      16      0      0  \n",
       "\n",
       "[17361 rows x 12 columns]"
      ]
     },
     "execution_count": 62,
     "metadata": {},
     "output_type": "execute_result"
    }
   ],
   "source": [
    "#  But first three rows are SEC labels, not data, \n",
    "#  so delete them:\n",
    "df = df[3:]\n",
    "\n",
    "#  Start a new index from 0 instead of 3:\n",
    "df.reset_index( drop=True )"
   ]
  },
  {
   "cell_type": "code",
   "execution_count": 63,
   "metadata": {},
   "outputs": [],
   "source": [
    "\n",
    "#  Delete irrevelant columns:\n",
    "dflite = df.drop( df.columns[[1, 4, 5, 7, 8, 9, 10, 11]], axis=1 )\n",
    "#         inplac=True only after pandas 0.13\n",
    "#uncomment: dflite"
   ]
  },
  {
   "cell_type": "code",
   "execution_count": 64,
   "metadata": {},
   "outputs": [],
   "source": [
    "#  usd needs float type since usd was read as string:\n",
    "dflite[['usd']] = dflite[['usd']].astype( float )\n",
    "#                  Gotcha: int as type will fail for NaN\n",
    "\n",
    "#  Type change allows proper sort:\n",
    "dfusd = dflite.sort_values( by=['usd'], ascending=[False] )\n"
   ]
  },
  {
   "cell_type": "code",
   "execution_count": 65,
   "metadata": {},
   "outputs": [],
   "source": [
    "usdsum = sum( dfusd.usd )\n",
    "#  Portfolio total in USD:\n",
    "#usdsum\n"
   ]
  },
  {
   "cell_type": "code",
   "execution_count": 66,
   "metadata": {},
   "outputs": [],
   "source": [
    "#  New column for percentage of total portfolio:\n",
    "dfusd['pcent'] = np.round(( dfusd.usd / usdsum ) * 100, 2)"
   ]
  },
  {
   "cell_type": "code",
   "execution_count": 67,
   "metadata": {},
   "outputs": [],
   "source": [
    "# New column for investor'\n",
    "dfusd['investor'] = investor\n",
    "# New column for date\n",
    "dfusd['date'] = date\n",
    "\n"
   ]
  },
  {
   "cell_type": "code",
   "execution_count": 68,
   "metadata": {
    "scrolled": false
   },
   "outputs": [
    {
     "data": {
      "text/plain": [
       "                             stock      cusip        usd putcall  pcent  \\\n",
       "8417       TORONTO DOMINION BK ONT  891160509  3642949.0     NaN   2.59   \n",
       "7356     ROYAL BK CDA MONTREAL QUE  780087102  2945818.0     NaN   2.09   \n",
       "8401       TORONTO DOMINION BK ONT  891160509  2899273.0     NaN   2.06   \n",
       "906               BANK N S HALIFAX  064149107  2612783.0     NaN   1.85   \n",
       "921               BANK N S HALIFAX  064149107  2289675.0     NaN   1.62   \n",
       "893              BANK MONTREAL QUE  063671101  1898713.0     NaN   1.35   \n",
       "7991         SUNCOR ENERGY INC NEW  867224107  1621771.0     NaN   1.15   \n",
       "10223                      BCE INC  05534B760  1469765.0     NaN   1.04   \n",
       "1518           CANADIAN NATL RY CO  136375102  1457145.0     NaN   1.03   \n",
       "1516   CDN IMPERIAL BK OF COMMERCE  136069101  1393651.0     NaN   0.99   \n",
       "11603                 ENBRIDGE INC  29250N105  1385708.0     NaN   0.98   \n",
       "1533          CANADIAN NAT RES LTD  136385101  1378183.0     NaN   0.98   \n",
       "11590                 ENBRIDGE INC  29250N105  1274893.0     NaN   0.90   \n",
       "15869             TRANSCANADA CORP  89353D107  1239622.0     NaN   0.88   \n",
       "15883             TRANSCANADA CORP  89353D107  1231244.0     NaN   0.87   \n",
       "1502   CDN IMPERIAL BK OF COMMERCE  136069101  1217971.0     NaN   0.86   \n",
       "879              BANK MONTREAL QUE  063671101  1183528.0     NaN   0.84   \n",
       "13198           MANULIFE FINL CORP  56501R106  1152145.0     NaN   0.82   \n",
       "1241     BROOKFIELD ASSET MGMT INC  112585104  1082436.0     NaN   0.77   \n",
       "8339          THOMSON REUTERS CORP  884903105   955858.0     NaN   0.68   \n",
       "\n",
       "                   investor        date  \n",
       "8417   ROYAL BANK OF CANADA  2014-02-14  \n",
       "7356   ROYAL BANK OF CANADA  2014-02-14  \n",
       "8401   ROYAL BANK OF CANADA  2014-02-14  \n",
       "906    ROYAL BANK OF CANADA  2014-02-14  \n",
       "921    ROYAL BANK OF CANADA  2014-02-14  \n",
       "893    ROYAL BANK OF CANADA  2014-02-14  \n",
       "7991   ROYAL BANK OF CANADA  2014-02-14  \n",
       "10223  ROYAL BANK OF CANADA  2014-02-14  \n",
       "1518   ROYAL BANK OF CANADA  2014-02-14  \n",
       "1516   ROYAL BANK OF CANADA  2014-02-14  \n",
       "11603  ROYAL BANK OF CANADA  2014-02-14  \n",
       "1533   ROYAL BANK OF CANADA  2014-02-14  \n",
       "11590  ROYAL BANK OF CANADA  2014-02-14  \n",
       "15869  ROYAL BANK OF CANADA  2014-02-14  \n",
       "15883  ROYAL BANK OF CANADA  2014-02-14  \n",
       "1502   ROYAL BANK OF CANADA  2014-02-14  \n",
       "879    ROYAL BANK OF CANADA  2014-02-14  \n",
       "13198  ROYAL BANK OF CANADA  2014-02-14  \n",
       "1241   ROYAL BANK OF CANADA  2014-02-14  \n",
       "8339   ROYAL BANK OF CANADA  2014-02-14  "
      ]
     },
     "execution_count": 68,
     "metadata": {},
     "output_type": "execute_result"
    }
   ],
   "source": [
    "#  Top 20 Hits!\n",
    "dfusd.head( 20 )"
   ]
  },
  {
   "cell_type": "code",
   "execution_count": 77,
   "metadata": {},
   "outputs": [
    {
     "name": "stdout",
     "output_type": "stream",
     "text": [
      "https://www.sec.gov/Archives/edgar/data/1000275/0001140361-14-007922-index.html\n"
     ]
    }
   ],
   "source": [
    "url = 'https://www.sec.gov/Archives/edgar/data/1000275/0001140361-14-007922-index.html'\n",
    "print(url)"
   ]
  },
  {
   "cell_type": "code",
   "execution_count": 78,
   "metadata": {},
   "outputs": [],
   "source": [
    "page = pd.read_html( url )"
   ]
  },
  {
   "cell_type": "code",
   "execution_count": 79,
   "metadata": {},
   "outputs": [
    {
     "data": {
      "text/plain": [
       "1"
      ]
     },
     "execution_count": 79,
     "metadata": {},
     "output_type": "execute_result"
    }
   ],
   "source": [
    "len( page )"
   ]
  },
  {
   "cell_type": "code",
   "execution_count": 80,
   "metadata": {},
   "outputs": [],
   "source": [
    "df = page[0]"
   ]
  },
  {
   "cell_type": "code",
   "execution_count": 81,
   "metadata": {},
   "outputs": [
    {
     "data": {
      "text/plain": [
       "     0                              1                         2  \\\n",
       "0  Seq                    Description                  Document   \n",
       "1    1                            NaN          primary_doc.html   \n",
       "2    1                            NaN           primary_doc.xml   \n",
       "3    2                            NaN     form13fInfoTable.html   \n",
       "4    2                            NaN      form13fInfoTable.xml   \n",
       "5  NaN  Complete submission text file  0001140361-14-007922.txt   \n",
       "\n",
       "                   3        4  \n",
       "0               Type     Size  \n",
       "1             13F-HR      NaN  \n",
       "2             13F-HR     6749  \n",
       "3  INFORMATION TABLE      NaN  \n",
       "4  INFORMATION TABLE  8162722  \n",
       "5                NaN  8170835  "
      ]
     },
     "execution_count": 81,
     "metadata": {},
     "output_type": "execute_result"
    }
   ],
   "source": [
    "df\n"
   ]
  },
  {
   "cell_type": "code",
   "execution_count": 82,
   "metadata": {},
   "outputs": [
    {
     "data": {
      "text/plain": [
       "'form13fInfoTable.xml'"
      ]
     },
     "execution_count": 82,
     "metadata": {},
     "output_type": "execute_result"
    }
   ],
   "source": [
    "df[2].iloc[4]"
   ]
  },
  {
   "cell_type": "code",
   "execution_count": null,
   "metadata": {},
   "outputs": [],
   "source": []
  }
 ],
 "metadata": {
  "kernelspec": {
   "display_name": "Python 3",
   "language": "python",
   "name": "python3"
  },
  "language_info": {
   "codemirror_mode": {
    "name": "ipython",
    "version": 3
   },
   "file_extension": ".py",
   "mimetype": "text/x-python",
   "name": "python",
   "nbconvert_exporter": "python",
   "pygments_lexer": "ipython3",
   "version": "3.6.5"
  }
 },
 "nbformat": 4,
 "nbformat_minor": 2
}
