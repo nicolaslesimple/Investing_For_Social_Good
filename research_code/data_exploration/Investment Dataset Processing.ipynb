{
 "cells": [
  {
   "cell_type": "markdown",
   "metadata": {},
   "source": [
    "#### Notes\n",
    "* quarterly\n",
    "* institutional investement managers with holdings over 100M\n",
    "* Form 13F is required to be filed within 45 days of the end of a calendar quarter (which should be considered as significant information latency)\n",
    "* only reports long positions (not short)\n",
    "** different investment managers pursue different strategies with may bias results\n",
    "** however, the vast majority of investment managers rely significantly on long positions for significant portion of fund performance\n",
    "* 13F does not reveal international holdings (except for American depositary receipts).\n",
    "* Section 13(f) securities generally include equity securities that trade on an exchange (including Nasdaq), certain equity options and warrants, shares of closed-end investment companies, and certain convertible debt securities.\n",
    "* shares of open-end investment companies (i.e. mutual funds) are not Section 13(f) securities\n",
    "* official list of qualifying securities: https://www.sec.gov/divisions/investment/13flists.htm\n",
    "* excludes total portfolio value and percentage allocation of each stock listed\n",
    "* Money managers allocate the most capital to their best ideas. Pay attention to \"new positions\" in their disclosures as these are their most recent ideas\n",
    "* 13F is not their whole portfolio and that it's a past snapshot"
   ]
  },
  {
   "cell_type": "code",
   "execution_count": null,
   "metadata": {},
   "outputs": [],
   "source": [
    "import pandas as pd\n",
    "import numpy as np\n",
    "import html5lib\n",
    "pd.set_option( 'display.notebook_repr_html', False )\n",
    "\n",
    "from IPython.display import HTML # useful for snippets\n",
    "#  e.g. HTML('<iframe src=http://en.mobile.wikipedia.org/?useformat=mobile width=700 height=350></iframe>')\n",
    "from IPython.display import Image \n",
    "#  e.g. Image(filename='holt-winters-equations.png', embed=True) # url= also works\n",
    "from IPython.display import YouTubeVideo\n",
    "#  e.g. YouTubeVideo('1j_HxD4iLn8', start='43', width=600, height=400)\n",
    "from IPython.core import page\n",
    "get_ipython().set_hook('show_in_pager', page.as_hook(page.display_page), 0)\n",
    "\n",
    "#  Generate PLOTS inside notebook, \"inline\" generates static png:\n",
    "%matplotlib inline   \n",
    "#          \"notebook\" argument allows interactive zoom and resize.\n",
    "\n",
    "\n",
    "# note: https cannot be read by lxml\n"
   ]
  },
  {
   "cell_type": "code",
   "execution_count": null,
   "metadata": {},
   "outputs": [],
   "source": [
    "# load Q3 2018 report URLs\n",
    "Q3Y18_index_df = pd.read_table('13f_Q3Y18_index.tsv', sep=',', index_col=False, encoding='latin-1')\n"
   ]
  },
  {
   "cell_type": "code",
   "execution_count": null,
   "metadata": {},
   "outputs": [],
   "source": [
    "# inspect size of dataset\n",
    "Q3Y18_index_df.shape"
   ]
  },
  {
   "cell_type": "code",
   "execution_count": null,
   "metadata": {},
   "outputs": [],
   "source": [
    "# take sample of dataset for testing\n",
    "percentage_sample = 5 # 5% dataset set to test dataset\n",
    "\n",
    "test_df= Q3Y18_index_df.head(int(np.round(Q3Y18_index_df.shape[0]*percentage_sample/100)))\n",
    "test_df"
   ]
  },
  {
   "cell_type": "code",
   "execution_count": null,
   "metadata": {},
   "outputs": [],
   "source": [
    "# inspect if URL to be parsed is valid\n",
    "test_df['Filing URL .html'].iloc[0]"
   ]
  },
  {
   "cell_type": "code",
   "execution_count": null,
   "metadata": {},
   "outputs": [],
   "source": [
    "# initialize empty list to store dataframes from different investors (to be appended later)\n",
    "appended_data = []\n",
    "\n",
    "# loop through all reports, filter relevant data, create normalized dataframes per investor, add to list of dataframes to be appended\n",
    "for index, row in test_df.iterrows():\n",
    " \n",
    "    # need to parse initial html file for name of html file with investment data\n",
    "    url = 'https://www.sec.gov/Archives/' + row['Filing URL .html'] #.iloc[index]\n",
    "    page = pd.read_html( url )\n",
    "    df = page[0]\n",
    "    table_url_suffix = df[2].iloc[4]\n",
    "\n",
    "    report_suffix = row['Filing URL .html'] \n",
    "    investor = row['Company Name'] \n",
    "    date = row['Filing Date'] \n",
    "    \n",
    "    ### SET TO RETURN TOP 20 STOCKS PER INVESTOR (BY SIZE OF INVESTMENT)\n",
    "    num_stocks_returned = 20\n",
    "\n",
    "    stem = 'http://www.sec.gov/Archives/'\n",
    "    xml_suffix = '/xslForm13F_X01/'\n",
    "\n",
    "    report_suffix = report_suffix.replace('-index.html', '')\n",
    "    report_suffix = report_suffix.replace('-', '')\n",
    "\n",
    "    #  build URL to html file with investment data\n",
    "    url = stem + report_suffix + xml_suffix + table_url_suffix\n",
    "    print(url)\n",
    "    \n",
    "    # turn HTML file into dataframe\n",
    "    page = pd.read_html( url )\n",
    "    #  the last element of page contains relevant investement data\n",
    "    df = page[-1]\n",
    "\n",
    "    #  rename columns:\n",
    "    df.columns = [ 'stock', 'class', 'cusip', 'usd', 'size', 'sh_prin', 'putcall', 'discret', 'manager', 'vote1', 'vote2', 'vote3']\n",
    "\n",
    "    #  But first three rows are SEC labels, not data, \n",
    "    #  so delete them:\n",
    "    df = df[3:]\n",
    "\n",
    "    #  Start a new index from 0 instead of 3:\n",
    "    df.reset_index( drop=True )\n",
    "\n",
    "\n",
    "    #  Delete irrevelant columns:\n",
    "    dflite = df.drop( df.columns[[1, 4, 5, 7, 8, 9, 10, 11]], axis=1 )\n",
    "\n",
    "    #  usd needs float type since usd was read as string:\n",
    "    dflite[['usd']] = dflite[['usd']].astype( float )\n",
    "    #                  NOTE: int as type will fail for NaN\n",
    "\n",
    "    #  Type change allows proper sort:\n",
    "    dfusd = dflite.sort_values( by=['usd'], ascending=[False] )\n",
    "\n",
    "\n",
    "    usdsum = sum( dfusd.usd )\n",
    "    #  Portfolio total in USD:\n",
    "    #usdsum\n",
    "\n",
    "\n",
    "    #  New column for percentage of total portfolio:\n",
    "    dfusd['pcent'] = np.round(( dfusd.usd / usdsum ) * 100, 2)\n",
    "\n",
    "\n",
    "    # New column for date of report filling\n",
    "    dfusd.insert(0, 'date', date)\n",
    "\n",
    "    # New column for investor\n",
    "    dfusd.insert(0, 'investor', investor)\n",
    "\n",
    "    #  Dataframe per investor with top num_stocks_returned \n",
    "    appended_data.append(dfusd.head( num_stocks_returned ))\n",
    "\n",
    "# show list of dataframes    \n",
    "#appended_data\n",
    "\n"
   ]
  },
  {
   "cell_type": "code",
   "execution_count": null,
   "metadata": {},
   "outputs": [],
   "source": [
    "# Concat investor dataframes together\n",
    "appended_data = pd.concat(appended_data, axis=0)\n",
    "\n",
    "# Export as CSV file\n",
    "appended_data.to_csv('test_results.csv')"
   ]
  },
  {
   "cell_type": "code",
   "execution_count": null,
   "metadata": {},
   "outputs": [],
   "source": []
  },
  {
   "cell_type": "code",
   "execution_count": null,
   "metadata": {},
   "outputs": [],
   "source": []
  },
  {
   "cell_type": "code",
   "execution_count": null,
   "metadata": {
    "scrolled": true
   },
   "outputs": [],
   "source": []
  },
  {
   "cell_type": "code",
   "execution_count": null,
   "metadata": {},
   "outputs": [],
   "source": []
  }
 ],
 "metadata": {
  "kernelspec": {
   "display_name": "Python 3",
   "language": "python",
   "name": "python3"
  },
  "language_info": {
   "codemirror_mode": {
    "name": "ipython",
    "version": 3
   },
   "file_extension": ".py",
   "mimetype": "text/x-python",
   "name": "python",
   "nbconvert_exporter": "python",
   "pygments_lexer": "ipython3",
   "version": "3.6.5"
  }
 },
 "nbformat": 4,
 "nbformat_minor": 2
}
