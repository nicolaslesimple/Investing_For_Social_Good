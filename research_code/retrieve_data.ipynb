{
 "cells": [
  {
   "cell_type": "code",
   "execution_count": null,
   "metadata": {},
   "outputs": [],
   "source": [
    "import os\n",
    "import re\n",
    "\n",
    "CLUSTER_DATA_DIR = '/datasets/twitter_internetarchive/2017/01/01/01/'\n",
    "MY_DATA_DIR = '/user/cleres/data/'\n",
    "extension = '.json.bz2'\n",
    "\n",
    "for i in range(60):\n",
    "    if i < 10 :\n",
    "        name = '0' + str(i)\n",
    "    else:\n",
    "        name = str(i)\n",
    "        \n",
    "    os.system('scp -r -p cleres@iccluster028.iccluster.epfl.ch:/home/cleres/data/' + name + '.parquet ./)"
   ]
  }
 ],
 "metadata": {
  "kernelspec": {
   "display_name": "Python [conda env:anaconda3]",
   "language": "python",
   "name": "conda-env-anaconda3-py"
  },
  "language_info": {
   "codemirror_mode": {
    "name": "ipython",
    "version": 3
   },
   "file_extension": ".py",
   "mimetype": "text/x-python",
   "name": "python",
   "nbconvert_exporter": "python",
   "pygments_lexer": "ipython3",
   "version": "3.6.5"
  }
 },
 "nbformat": 4,
 "nbformat_minor": 2
}
